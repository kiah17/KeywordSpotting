{
 "cells": [
  {
   "cell_type": "code",
   "execution_count": 82,
   "metadata": {},
   "outputs": [
    {
     "name": "stdout",
     "output_type": "stream",
     "text": [
      "Image ordering is tf check:  tf\n"
     ]
    }
   ],
   "source": [
    "import numpy as np \n",
    "import matplotlib.pyplot as plt\n",
    "import glob \n",
    "from scipy.io.wavfile import read\n",
    "import IPython.display as ipd\n",
    "import librosa\n",
    "import librosa.display\n",
    "import librosa.feature\n",
    "import pickle\n",
    "import sklearn\n",
    "\n",
    "import keras\n",
    "from keras.models import Sequential\n",
    "from keras.models import Model\n",
    "from keras.layers import Dense, Activation, Flatten, Lambda,Input, concatenate, Conv2DTranspose, Dropout\n",
    "from keras.layers import Conv2D, MaxPooling2D, BatchNormalization \n",
    "from keras.utils import np_utils\n",
    "from keras.utils import to_categorical\n",
    "from keras import optimizers \n",
    "from keras.models import load_model\n",
    "from keras.models import model_from_json\n",
    "\n",
    "import keras.backend as K \n",
    "print('Image ordering is tf check: ',K.image_dim_ordering())"
   ]
  },
  {
   "cell_type": "code",
   "execution_count": null,
   "metadata": {
    "collapsed": true
   },
   "outputs": [],
   "source": []
  },
  {
   "cell_type": "markdown",
   "metadata": {},
   "source": [
    "### Reconstructing model from json "
   ]
  },
  {
   "cell_type": "code",
   "execution_count": 83,
   "metadata": {
    "collapsed": true
   },
   "outputs": [],
   "source": [
    "# model reconstruction from JSON:\n",
    "json_string = pickle.load( open( \"models/model10_json.pkl\", \"rb\" ) )\n",
    "model = model_from_json(json_string)\n",
    "model.load_weights('models/model10_weights.h5')"
   ]
  },
  {
   "cell_type": "code",
   "execution_count": 93,
   "metadata": {},
   "outputs": [
    {
     "name": "stdout",
     "output_type": "stream",
     "text": [
      "_________________________________________________________________\n",
      "Layer (type)                 Output Shape              Param #   \n",
      "=================================================================\n",
      "batch_normalization_1 (Batch (None, 128, 51, 1)        4         \n",
      "_________________________________________________________________\n",
      "conv2d_1 (Conv2D)            (None, 128, 51, 32)       320       \n",
      "_________________________________________________________________\n",
      "batch_normalization_2 (Batch (None, 128, 51, 32)       128       \n",
      "_________________________________________________________________\n",
      "max_pooling2d_1 (MaxPooling2 (None, 64, 25, 32)        0         \n",
      "_________________________________________________________________\n",
      "conv2d_2 (Conv2D)            (None, 64, 25, 64)        18496     \n",
      "_________________________________________________________________\n",
      "batch_normalization_3 (Batch (None, 64, 25, 64)        256       \n",
      "_________________________________________________________________\n",
      "max_pooling2d_2 (MaxPooling2 (None, 32, 12, 64)        0         \n",
      "_________________________________________________________________\n",
      "conv2d_3 (Conv2D)            (None, 32, 12, 128)       73856     \n",
      "_________________________________________________________________\n",
      "batch_normalization_4 (Batch (None, 32, 12, 128)       512       \n",
      "_________________________________________________________________\n",
      "max_pooling2d_3 (MaxPooling2 (None, 16, 6, 128)        0         \n",
      "_________________________________________________________________\n",
      "conv2d_4 (Conv2D)            (None, 16, 6, 256)        295168    \n",
      "_________________________________________________________________\n",
      "batch_normalization_5 (Batch (None, 16, 6, 256)        1024      \n",
      "_________________________________________________________________\n",
      "max_pooling2d_4 (MaxPooling2 (None, 8, 3, 256)         0         \n",
      "_________________________________________________________________\n",
      "conv2d_5 (Conv2D)            (None, 8, 3, 512)         1180160   \n",
      "_________________________________________________________________\n",
      "batch_normalization_6 (Batch (None, 8, 3, 512)         2048      \n",
      "_________________________________________________________________\n",
      "max_pooling2d_5 (MaxPooling2 (None, 4, 1, 512)         0         \n",
      "_________________________________________________________________\n",
      "flatten_1 (Flatten)          (None, 2048)              0         \n",
      "_________________________________________________________________\n",
      "dropout_1 (Dropout)          (None, 2048)              0         \n",
      "_________________________________________________________________\n",
      "dense_1 (Dense)              (None, 512)               1049088   \n",
      "_________________________________________________________________\n",
      "dense_2 (Dense)              (None, 12)                6156      \n",
      "=================================================================\n",
      "Total params: 2,627,216\n",
      "Trainable params: 2,625,230\n",
      "Non-trainable params: 1,986\n",
      "_________________________________________________________________\n"
     ]
    }
   ],
   "source": [
    "model.summary()"
   ]
  },
  {
   "cell_type": "markdown",
   "metadata": {},
   "source": [
    "### Loading test files and label map \n",
    "\n",
    "A dictionary is made to retrieve the actual word from the predicted labels."
   ]
  },
  {
   "cell_type": "code",
   "execution_count": 2,
   "metadata": {},
   "outputs": [
    {
     "name": "stdout",
     "output_type": "stream",
     "text": [
      "Number of test files:  158538\n"
     ]
    }
   ],
   "source": [
    "test_files = sorted(glob.glob('./test/audio/*.wav'))\n",
    "print('Number of test files: ',len(test_files))\n",
    "\n",
    "#Labels map and dictionary\n",
    "labels_map = np.load('my_way/labels_map.npy')\n",
    "labels_dict = {0:'down',1:'go',2:'left',3:'no',4:'off',5:'on',6:'right',7:'stop',8:'up',9:'yes',10:'unknown',11:'silence'}\n",
    "np.save('my_way/labels_dict.npy',labels_dict)"
   ]
  },
  {
   "cell_type": "markdown",
   "metadata": {},
   "source": [
    "### Testing and visualizing some test files "
   ]
  },
  {
   "cell_type": "code",
   "execution_count": 125,
   "metadata": {},
   "outputs": [
    {
     "data": {
      "image/png": "[encoded data removed]",
      "text/plain": [
       "<matplotlib.figure.Figure at 0x1e81ba3a898>"
      ]
     },
     "metadata": {},
     "output_type": "display_data"
    },
    {
     "data": {
      "text/html": [
       "\n",
       "                <audio controls=\"controls\" >\n",
       "                    <source src=\"data:audio/wav;base64,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\" type=\"audio/wav\" />\n",
       "                    Your browser does not support the audio element.\n",
       "                </audio>\n",
       "              "
      ],
      "text/plain": [
       "<IPython.lib.display.Audio object>"
      ]
     },
     "execution_count": 125,
     "metadata": {},
     "output_type": "execute_result"
    }
   ],
   "source": [
    "#Choosing a random file \n",
    "ch = np.random.randint(0,len(test_files))\n",
    "\n",
    "#Loading file\n",
    "file = test_files[ch]\n",
    "sr, bits = read(file)\n",
    "        \n",
    "#If the number of bits is less than 16000, the array is padded with zeros\n",
    "if len(bits)!=16000:\n",
    "    b_p = np.lib.pad(bits, (0,16000-len(bits)), 'constant', constant_values=(0, 0))\n",
    "    y=b_p\n",
    "else: \n",
    "    y=bits\n",
    "\n",
    "#Feature extraction, prediction and visualization\n",
    "X_test_sample = np.zeros((1,128,51))\n",
    "S = librosa.feature.melspectrogram(y=y, sr=16000, n_mels=128, hop_length=320, fmax=8000)\n",
    "X_test_sample[0] = librosa.logamplitude(S,ref_power=np.max)\n",
    "plt.imshow(X_test_sample.reshape(128,51))\n",
    "\n",
    "p = model.predict(X_test_sample.reshape(1,128,51,1))\n",
    "label = int(np.where(p==np.max(p))[1].squeeze())\n",
    "plt.title('Predicted word: '+str(labels_dict[label]))\n",
    "plt.xlabel('Frames')\n",
    "plt.ylabel('MFCC')\n",
    "plt.show()\n",
    "\n",
    "ipd.Audio(y,rate=16000)"
   ]
  },
  {
   "cell_type": "markdown",
   "metadata": {},
   "source": [
    "### Saving predictions to a csv file"
   ]
  },
  {
   "cell_type": "code",
   "execution_count": null,
   "metadata": {},
   "outputs": [
    {
     "name": "stdout",
     "output_type": "stream",
     "text": [
      "Done 100 Test files\n",
      "Done 200 Test files\n",
      "Done 300 Test files\n",
      "Done 400 Test files\n",
      "Done 500 Test files\n",
      "Done 600 Test files\n",
      "Done 700 Test files\n",
      "Done 800 Test files\n",
      "Done 900 Test files\n",
      "Done 1000 Test files\n",
      "Done 1100 Test files\n",
      "Done 1200 Test files\n",
      "Done 1300 Test files\n",
      "Done 1400 Test files\n",
      "Done 1500 Test files\n",
      "Done 1600 Test files\n",
      "Done 1700 Test files\n",
      "Done 1800 Test files\n",
      "Done 1900 Test files\n",
      "Done 2000 Test files\n",
      "Done 2100 Test files\n",
      "Done 2200 Test files\n",
      "Done 2300 Test files\n",
      "Done 2400 Test files\n",
      "Done 2500 Test files\n",
      "Done 2600 Test files\n",
      "Done 2700 Test files\n",
      "Done 2800 Test files\n",
      "Done 2900 Test files\n",
      "Done 3000 Test files\n",
      "Done 3100 Test files\n",
      "Done 3200 Test files\n",
      "Done 3300 Test files\n",
      "Done 3400 Test files\n",
      "Done 3500 Test files\n",
      "Done 3600 Test files\n",
      "Done 3700 Test files\n",
      "Done 3800 Test files\n",
      "Done 3900 Test files\n",
      "Done 4000 Test files\n",
      "Done 4100 Test files\n",
      "Done 4200 Test files\n",
      "Done 4300 Test files\n",
      "Done 4400 Test files\n",
      "Done 4500 Test files\n",
      "Done 4600 Test files\n",
      "Done 4700 Test files\n",
      "Done 4800 Test files\n",
      "Done 4900 Test files\n",
      "Done 5000 Test files\n",
      "Done 5100 Test files\n",
      "Done 5200 Test files\n",
      "Done 5300 Test files\n",
      "Done 5400 Test files\n",
      "Done 5500 Test files\n",
      "Done 5600 Test files\n",
      "Done 5700 Test files\n",
      "Done 5800 Test files\n",
      "Done 5900 Test files\n",
      "Done 6000 Test files\n",
      "Done 6100 Test files\n",
      "Done 6200 Test files\n",
      "Done 6300 Test files\n",
      "Done 6400 Test files\n",
      "Done 6500 Test files\n",
      "Done 6600 Test files\n",
      "Done 6700 Test files\n",
      "Done 6800 Test files\n",
      "Done 6900 Test files\n",
      "Done 7000 Test files\n",
      "Done 7100 Test files\n",
      "Done 7200 Test files\n",
      "Done 7300 Test files\n",
      "Done 7400 Test files\n",
      "Done 7500 Test files\n",
      "Done 7600 Test files\n",
      "Done 7700 Test files\n",
      "Done 7800 Test files\n",
      "Done 7900 Test files\n",
      "Done 8000 Test files\n",
      "Done 8100 Test files\n",
      "Done 8200 Test files\n",
      "Done 8300 Test files\n",
      "Done 8400 Test files\n",
      "Done 8500 Test files\n",
      "Done 8600 Test files\n",
      "Done 8700 Test files\n",
      "Done 8800 Test files\n",
      "Done 8900 Test files\n",
      "Done 9000 Test files\n",
      "Done 9100 Test files\n",
      "Done 9200 Test files\n",
      "Done 9300 Test files\n",
      "Done 9400 Test files\n",
      "Done 9500 Test files\n",
      "Done 9600 Test files\n",
      "Done 9700 Test files\n",
      "Done 9800 Test files\n",
      "Done 9900 Test files\n",
      "Done 10000 Test files\n",
      "Done 10100 Test files\n",
      "Done 10200 Test files\n",
      "Done 10300 Test files\n",
      "Done 10400 Test files\n",
      "Done 10500 Test files\n",
      "Done 10600 Test files\n",
      "Done 10700 Test files\n",
      "Done 10800 Test files\n",
      "Done 10900 Test files\n",
      "Done 11000 Test files\n",
      "Done 11100 Test files\n",
      "Done 11200 Test files\n",
      "Done 11300 Test files\n",
      "Done 11400 Test files\n",
      "Done 11500 Test files\n",
      "Done 11600 Test files\n",
      "Done 11700 Test files\n",
      "Done 11800 Test files\n",
      "Done 11900 Test files\n",
      "Done 12000 Test files\n",
      "Done 12100 Test files\n",
      "Done 12200 Test files\n",
      "Done 12300 Test files\n",
      "Done 12400 Test files\n",
      "Done 12500 Test files\n",
      "Done 12600 Test files\n",
      "Done 12700 Test files\n",
      "Done 12800 Test files\n",
      "Done 12900 Test files\n",
      "Done 13000 Test files\n",
      "Done 13100 Test files\n",
      "Done 13200 Test files\n",
      "Done 13300 Test files\n",
      "Done 13400 Test files\n",
      "Done 13500 Test files\n",
      "Done 13600 Test files\n",
      "Done 13700 Test files\n",
      "Done 13800 Test files\n",
      "Done 13900 Test files\n",
      "Done 14000 Test files\n",
      "Done 14100 Test files\n",
      "Done 14200 Test files\n",
      "Done 14300 Test files\n",
      "Done 14400 Test files\n",
      "Done 14500 Test files\n",
      "Done 14600 Test files\n",
      "Done 14700 Test files\n",
      "Done 14800 Test files\n",
      "Done 14900 Test files\n",
      "Done 15000 Test files\n",
      "Done 15100 Test files\n",
      "Done 15200 Test files\n",
      "Done 15300 Test files\n",
      "Done 15400 Test files\n",
      "Done 15500 Test files\n",
      "Done 15600 Test files\n",
      "Done 15700 Test files\n",
      "Done 15800 Test files\n",
      "Done 15900 Test files\n",
      "Done 16000 Test files\n",
      "Done 16100 Test files\n",
      "Done 16200 Test files\n",
      "Done 16300 Test files\n"
     ]
    }
   ],
   "source": [
    "import csv\n",
    "with open('predictions_model10.csv', 'w', newline='') as csvfile:\n",
    "    spamwriter = csv.writer(csvfile, delimiter=',',\n",
    "                            quotechar='|', quoting=csv.QUOTE_MINIMAL)\n",
    "    #Writing header\n",
    "    spamwriter.writerow(['fname','label'])\n",
    "    \n",
    "    f_n = 0\n",
    "    for tef in test_files:\n",
    "        \n",
    "        #Loading test file using librosa\n",
    "        sr, bits = read(tef)\n",
    "        \n",
    "        #If the number of bits is less than 16000, the array is padded with zeros\n",
    "        if len(bits)!=16000:\n",
    "            b_p = np.lib.pad(bits, (0,16000-len(bits)), 'constant', constant_values=(0, 0))\n",
    "            y=b_p\n",
    "        else: \n",
    "            y=bits\n",
    "        \n",
    "        #Array for storing the MFCC features of the test file\n",
    "        X_test_sample = np.zeros((1,128,51))\n",
    "        \n",
    "        #Extracting MFCC features for test file\n",
    "        S = librosa.feature.melspectrogram(y=y, sr=16000, n_mels=128, hop_length=320, fmax=8000)\n",
    "        X_test_sample[0] = librosa.logamplitude(S,ref_power=np.max)\n",
    "        \n",
    "        #Predicting \n",
    "        p = model.predict(X_test_sample.reshape(1,128,51,1))\n",
    "        #Extracting predicted label\n",
    "        label = int(np.where(p==np.max(p))[1].squeeze())\n",
    "        \n",
    "        #Extracting file name \n",
    "        file = tef\n",
    "        cleaned_name = file.replace(\"./test/audio\\\\\", \"\")\n",
    "        \n",
    "        #Writing file name and predicted word to the csv file \n",
    "        spamwriter.writerow([cleaned_name,labels_dict[label]])\n",
    "        \n",
    "        #Next file\n",
    "        f_n+=1\n",
    "        \n",
    "        #Keeping track of the process\n",
    "        if f_n%100==0:\n",
    "            print('Done '+str(f_n)+ ' Test files')"
   ]
  }
 ],
 "metadata": {
  "kernelspec": {
   "display_name": "Python 3",
   "language": "python",
   "name": "python3"
  },
  "language_info": {
   "codemirror_mode": {
    "name": "ipython",
    "version": 3
   },
   "file_extension": ".py",
   "mimetype": "text/x-python",
   "name": "python",
   "nbconvert_exporter": "python",
   "pygments_lexer": "ipython3",
   "version": "3.6.3"
  }
 },
 "nbformat": 4,
 "nbformat_minor": 2
}
