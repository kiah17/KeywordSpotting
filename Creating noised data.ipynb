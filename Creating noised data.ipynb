{
 "cells": [
  {
   "cell_type": "code",
   "execution_count": null,
   "metadata": {
    "collapsed": true
   },
   "outputs": [],
   "source": [
    "import numpy as np \n",
    "import matplotlib.pyplot as plt\n",
    "import glob \n",
    "from scipy.io.wavfile import read\n",
    "import IPython.display as ipd\n",
    "import librosa\n",
    "import librosa.display\n",
    "import librosa.feature\n",
    "import pickle\n",
    "from scipy import signal"
   ]
  },
  {
   "cell_type": "markdown",
   "metadata": {},
   "source": [
    "### Loading the original data and the noise files"
   ]
  },
  {
   "cell_type": "code",
   "execution_count": null,
   "metadata": {},
   "outputs": [],
   "source": [
    "X = pickle.load( open( \"intermediate_pickles/X.pkl\", \"rb\" ) )\n",
    "Y = pickle.load( open( \"intermediate_pickles/Y.pkl\", \"rb\" ) )\n",
    "X_n = pickle.load( open( \"intermediate_pickles/X_noise_shuffled.pkl\", \"rb\" ) )\n",
    "Y_n = pickle.load( open( \"intermediate_pickles/Y_noise_shuffled.pkl\", \"rb\" ) )\n",
    "\n",
    "print('Shape of X: ',X.shape)\n",
    "print('Shape of Y: ',Y.shape)\n",
    "print('Shape of noise batch input: ',X_n.shape)\n",
    "print('Shape of noise batch output: ',Y_n.shape)"
   ]
  },
  {
   "cell_type": "markdown",
   "metadata": {},
   "source": [
    "### Shuffling the original data, Adding random noise to all the data and storing it in another array X_shuff"
   ]
  },
  {
   "cell_type": "code",
   "execution_count": null,
   "metadata": {
    "collapsed": true
   },
   "outputs": [],
   "source": [
    "#Shuffing the original data \n",
    "\n",
    "shuffle_original = np.random.permutation(X.shape[0])\n",
    "X_shuff = X[shuffle_original,:]\n",
    "Y_shuff = Y[shuffle_original,:]"
   ]
  },
  {
   "cell_type": "code",
   "execution_count": null,
   "metadata": {
    "collapsed": true
   },
   "outputs": [],
   "source": [
    "#Adding noise \n",
    "\n",
    "choices = np.random.permutation(X_shuff.shape[0])\n",
    "noised = choices[0:int(1*len(choices))]\n",
    "for n in noised: \n",
    "    #Choosing a random noise sample\n",
    "    choose_noise = np.random.randint(X_n.shape[0])\n",
    "    \n",
    "    #Adding random noise to the sample\n",
    "    X_shuff[n] = X_shuff[n] + X_n[choose_noise]"
   ]
  },
  {
   "cell_type": "markdown",
   "metadata": {},
   "source": [
    "### Saving the noised data"
   ]
  },
  {
   "cell_type": "code",
   "execution_count": null,
   "metadata": {
    "collapsed": true
   },
   "outputs": [],
   "source": [
    "np.save('intermediate_pickles/X_noised.npy',X_shuff)\n",
    "np.save('intermediate_pickles/Y_noised.npy',Y_shuff)"
   ]
  }
 ],
 "metadata": {
  "kernelspec": {
   "display_name": "Python 3",
   "language": "python",
   "name": "python3"
  },
  "language_info": {
   "codemirror_mode": {
    "name": "ipython",
    "version": 3
   },
   "file_extension": ".py",
   "mimetype": "text/x-python",
   "name": "python",
   "nbconvert_exporter": "python",
   "pygments_lexer": "ipython3",
   "version": "3.6.3"
  }
 },
 "nbformat": 4,
 "nbformat_minor": 2
}
