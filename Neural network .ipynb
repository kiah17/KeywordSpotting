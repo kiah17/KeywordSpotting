{
 "cells": [
  {
   "cell_type": "code",
   "execution_count": null,
   "metadata": {
    "collapsed": true
   },
   "outputs": [],
   "source": [
    "import numpy as np \n",
    "import matplotlib.pyplot as plt\n",
    "import glob \n",
    "from scipy.io.wavfile import read\n",
    "import IPython.display as ipd\n",
    "import librosa\n",
    "import librosa.display\n",
    "import librosa.feature\n",
    "import pickle\n",
    "import sklearn\n",
    "\n",
    "import keras\n",
    "from keras.models import Sequential\n",
    "from keras.models import Model\n",
    "from keras.layers import Dense, Activation, Flatten, Lambda,Input, concatenate, Conv2DTranspose, Dropout\n",
    "from keras.layers import Conv2D, MaxPooling2D, BatchNormalization \n",
    "from keras.utils import np_utils\n",
    "from keras.utils import to_categorical\n",
    "from keras import optimizers \n",
    "from keras.models import load_model\n",
    "from keras.models import model_from_json\n",
    "\n",
    "import keras.backend as K \n",
    "# K.set_image_dim_ordering('tf')\n",
    "print('Image ordering is tf check: ',K.image_dim_ordering())"
   ]
  },
  {
   "cell_type": "code",
   "execution_count": 4,
   "metadata": {},
   "outputs": [
    {
     "name": "stdout",
     "output_type": "stream",
     "text": [
      "Shape of X:  (140767, 128, 51, 1)\n",
      "Shape of Y:  (140767, 1)\n",
      "Number of samples in class: 0 =  9436\n",
      "Number of samples in class: 1 =  9488\n",
      "Number of samples in class: 2 =  9412\n",
      "Number of samples in class: 3 =  9500\n",
      "Number of samples in class: 4 =  9428\n",
      "Number of samples in class: 5 =  9468\n",
      "Number of samples in class: 6 =  9468\n",
      "Number of samples in class: 7 =  9520\n",
      "Number of samples in class: 8 =  9500\n",
      "Number of samples in class: 9 =  9508\n",
      "Number of samples in class: 10 =  41039\n",
      "Number of samples in class: 11 =  5000\n"
     ]
    }
   ],
   "source": [
    "X = np.load('X_FINAL.npy')\n",
    "Y = np.load('Y_FINAL.npy')\n",
    "    \n",
    "print('Shape of X: ',X.shape)\n",
    "print('Shape of Y: ',Y.shape)\n",
    "\n",
    "for lab in range(0,12):\n",
    "    print('Number of samples in class: '+str(lab) +' = ',len(np.where(Y==lab)[0]))"
   ]
  },
  {
   "cell_type": "code",
   "execution_count": 5,
   "metadata": {},
   "outputs": [
    {
     "name": "stdout",
     "output_type": "stream",
     "text": [
      "Shape of training:  (130000, 128, 51, 1)\n",
      "Shape of testing:  (10767, 128, 51, 1)\n"
     ]
    }
   ],
   "source": [
    "rand = np.random.permutation(X.shape[0])\n",
    "n = 130000\n",
    "tr = rand[0:n]\n",
    "te = rand[n:]\n",
    "X_tr = X[tr]\n",
    "Y_tr = Y[tr]\n",
    "\n",
    "X_te = X[te]\n",
    "Y_te = Y[te]\n",
    "\n",
    "print('Shape of training: ',X_tr.shape)\n",
    "print('Shape of testing: ',X_te.shape)"
   ]
  },
  {
   "cell_type": "code",
   "execution_count": 6,
   "metadata": {},
   "outputs": [
    {
     "name": "stdout",
     "output_type": "stream",
     "text": [
      "\n",
      " In training set\n",
      "Number of samples in class: 0 =  8717\n",
      "Number of samples in class: 1 =  8768\n",
      "Number of samples in class: 2 =  8695\n",
      "Number of samples in class: 3 =  8765\n",
      "Number of samples in class: 4 =  8703\n",
      "Number of samples in class: 5 =  8753\n",
      "Number of samples in class: 6 =  8747\n",
      "Number of samples in class: 7 =  8776\n",
      "Number of samples in class: 8 =  8750\n",
      "Number of samples in class: 9 =  8832\n",
      "Number of samples in class: 10 =  37906\n",
      "Number of samples in class: 11 =  4588\n",
      "\n",
      " In testing set\n",
      "Number of samples in class: 0 =  719\n",
      "Number of samples in class: 1 =  720\n",
      "Number of samples in class: 2 =  717\n",
      "Number of samples in class: 3 =  735\n",
      "Number of samples in class: 4 =  725\n",
      "Number of samples in class: 5 =  715\n",
      "Number of samples in class: 6 =  721\n",
      "Number of samples in class: 7 =  744\n",
      "Number of samples in class: 8 =  750\n",
      "Number of samples in class: 9 =  676\n",
      "Number of samples in class: 10 =  3133\n",
      "Number of samples in class: 11 =  412\n"
     ]
    }
   ],
   "source": [
    "#In training set \n",
    "print('\\n In training set')\n",
    "for lab in range(0,12):\n",
    "    print('Number of samples in class: '+str(lab) +' = ',len(np.where(Y_tr==lab)[0]))\n",
    "\n",
    "#In testing set \n",
    "print('\\n In testing set')\n",
    "for lab in range(0,12):\n",
    "    print('Number of samples in class: '+str(lab) +' = ',len(np.where(Y_te==lab)[0]))"
   ]
  },
  {
   "cell_type": "markdown",
   "metadata": {},
   "source": [
    "### One hot encoding output labels Y "
   ]
  },
  {
   "cell_type": "code",
   "execution_count": 7,
   "metadata": {},
   "outputs": [
    {
     "name": "stdout",
     "output_type": "stream",
     "text": [
      "(130000, 12)\n",
      "(10767, 12)\n"
     ]
    }
   ],
   "source": [
    "Y_tr = to_categorical(Y_tr)\n",
    "Y_te = to_categorical(Y_te)\n",
    "print(Y_tr.shape)\n",
    "print(Y_te.shape)"
   ]
  },
  {
   "cell_type": "code",
   "execution_count": 13,
   "metadata": {},
   "outputs": [
    {
     "name": "stdout",
     "output_type": "stream",
     "text": [
      "_________________________________________________________________\n",
      "Layer (type)                 Output Shape              Param #   \n",
      "=================================================================\n",
      "conv2d_1 (Conv2D)            (None, 128, 51, 32)       320       \n",
      "_________________________________________________________________\n",
      "max_pooling2d_1 (MaxPooling2 (None, 64, 25, 32)        0         \n",
      "_________________________________________________________________\n",
      "conv2d_2 (Conv2D)            (None, 64, 25, 64)        18496     \n",
      "_________________________________________________________________\n",
      "max_pooling2d_2 (MaxPooling2 (None, 32, 12, 64)        0         \n",
      "_________________________________________________________________\n",
      "conv2d_3 (Conv2D)            (None, 32, 12, 128)       73856     \n",
      "_________________________________________________________________\n",
      "max_pooling2d_3 (MaxPooling2 (None, 16, 6, 128)        0         \n",
      "_________________________________________________________________\n",
      "conv2d_4 (Conv2D)            (None, 16, 6, 256)        295168    \n",
      "_________________________________________________________________\n",
      "max_pooling2d_4 (MaxPooling2 (None, 8, 3, 256)         0         \n",
      "_________________________________________________________________\n",
      "flatten_1 (Flatten)          (None, 6144)              0         \n",
      "_________________________________________________________________\n",
      "dense_1 (Dense)              (None, 1024)              6292480   \n",
      "_________________________________________________________________\n",
      "dense_2 (Dense)              (None, 512)               524800    \n",
      "_________________________________________________________________\n",
      "dropout_1 (Dropout)          (None, 512)               0         \n",
      "_________________________________________________________________\n",
      "dense_3 (Dense)              (None, 12)                6156      \n",
      "=================================================================\n",
      "Total params: 7,211,276\n",
      "Trainable params: 7,211,276\n",
      "Non-trainable params: 0\n",
      "_________________________________________________________________\n"
     ]
    }
   ],
   "source": [
    "input_shape = (128,51,1)\n",
    "\n",
    "model = Sequential([\n",
    "    BatchNormalization(axis = -1,input_shape = input_shape),\n",
    "\n",
    "    Conv2D(32, (2, 2),strides = (1,1),padding='same',activation='relu'),\n",
    "    BatchNormalization(axis = -1),\n",
    "    MaxPooling2D(pool_size=(2, 2), strides=None, padding='valid', data_format=None) ,   \n",
    "    \n",
    "   \n",
    "    Conv2D(64, (2, 2),strides = (1,1),padding='same',activation='relu'),\n",
    "    BatchNormalization(axis = -1),\n",
    "    MaxPooling2D(pool_size=(2, 2), strides=None, padding='valid', data_format=None)  ,\n",
    "    \n",
    "    \n",
    "    Conv2D(128, (2, 2),strides = (1,1), padding='same',activation='relu'),\n",
    "    BatchNormalization(axis = -1),\n",
    "    MaxPooling2D(pool_size=(2, 2), strides=None, padding='valid', data_format=None) ,\n",
    "\n",
    "    \n",
    "    Conv2D(256, (2, 2),strides = (1,1),padding='same',activation='relu'),\n",
    "    BatchNormalization(axis = -1),\n",
    "    MaxPooling2D(pool_size=(2, 2), strides=None, padding='valid', data_format=None) ,\n",
    "    \n",
    "    \n",
    "    Flatten(),\n",
    "    Dropout(0.2),\n",
    "\n",
    "    \n",
    "    Dense(512,activation = 'relu'),    \n",
    "    Dense(12,activation='softmax')\n",
    "    \n",
    "])\n",
    "\n",
    "model.summary()"
   ]
  },
  {
   "cell_type": "code",
   "execution_count": 9,
   "metadata": {
    "collapsed": true
   },
   "outputs": [],
   "source": [
    "class LossHistory(keras.callbacks.Callback):\n",
    "    def on_train_begin(self, logs={}):\n",
    "        self.loss = []\n",
    "        self.val_acc =[]\n",
    "        self.acc = []\n",
    "        \n",
    "    def on_batch_end(self, batch, logs={}):\n",
    "        self.loss.append(logs.get('loss'))\n",
    "        \n",
    "    def on_epoch_end(self, epoch, logs):\n",
    "        self.val_acc.append(logs.get('val_acc'))\n",
    "        self.acc.append(logs.get('acc'))\n",
    "\n",
    "history_cb = LossHistory()"
   ]
  },
  {
   "cell_type": "code",
   "execution_count": 16,
   "metadata": {},
   "outputs": [
    {
     "name": "stdout",
     "output_type": "stream",
     "text": [
      "Train on 130000 samples, validate on 10767 samples\n",
      "Epoch 1/1\n",
      "130000/130000 [==============================] - 2797s 22ms/step - loss: 0.7620 - acc: 0.7414 - val_loss: 0.5061 - val_acc: 0.8247\n"
     ]
    },
    {
     "data": {
      "text/plain": [
       "<keras.callbacks.History at 0x7fbb1fecfeb8>"
      ]
     },
     "execution_count": 16,
     "metadata": {},
     "output_type": "execute_result"
    }
   ],
   "source": [
    "opt = optimizers.Adam(lr=0.001) \n",
    "model.compile(optimizer=opt,\n",
    "                loss='categorical_crossentropy',\n",
    "                metrics=['accuracy'])\n",
    "batch_size = 100\n",
    "model.fit(np.array(X_tr), np.array(Y_tr), batch_size=batch_size, epochs=1, verbose=1, validation_data=(np.array(X_te), np.array(Y_te)), callbacks = [history_cb])"
   ]
  },
  {
   "cell_type": "code",
   "execution_count": 73,
   "metadata": {
    "collapsed": true
   },
   "outputs": [],
   "source": [
    "json_string = model.to_json()\n",
    "with open('models/model2_json.pkl', 'wb') as m:\n",
    "    pickle.dump(json_string, m)\n",
    "model.save_weights('models/model2_weights.h5')"
   ]
  },
  {
   "cell_type": "code",
   "execution_count": null,
   "metadata": {
    "collapsed": true
   },
   "outputs": [],
   "source": [
    "# model reconstruction from JSON:\n",
    "json_string = pickle.load( open( \"models/model2_json.pkl\", \"rb\" ) )\n",
    "model = model_from_json(json_string)\n",
    "model.load_weights('models/model2_weights.h5')"
   ]
  },
  {
   "cell_type": "code",
   "execution_count": 84,
   "metadata": {},
   "outputs": [
    {
     "data": {
      "image/png": "[encoded data removed]",
      "text/plain": [
       "<matplotlib.figure.Figure at 0x7fbb666573c8>"
      ]
     },
     "metadata": {},
     "output_type": "display_data"
    }
   ],
   "source": [
    "#Plotting loss\n",
    "plt.plot(history_cb.loss)\n",
    "plt.show()"
   ]
  },
  {
   "cell_type": "code",
   "execution_count": 86,
   "metadata": {},
   "outputs": [
    {
     "name": "stdout",
     "output_type": "stream",
     "text": [
      "Normalized confusion matrix\n",
      "\n",
      "[[ 0.75  0.05  0.02  0.02  0.01  0.06  0.01  0.03  0.01  0.01  0.    0.  ]\n",
      " [ 0.03  0.78  0.01  0.04  0.01  0.03  0.02  0.02  0.02  0.    0.01  0.01]\n",
      " [ 0.01  0.02  0.79  0.01  0.01  0.04  0.04  0.02  0.02  0.03  0.01  0.01]\n",
      " [ 0.03  0.11  0.03  0.72  0.    0.04  0.03  0.01  0.01  0.    0.    0.  ]\n",
      " [ 0.    0.01  0.02  0.01  0.74  0.1   0.02  0.02  0.06  0.    0.    0.  ]\n",
      " [ 0.    0.01  0.02  0.01  0.04  0.87  0.01  0.    0.01  0.    0.    0.  ]\n",
      " [ 0.    0.03  0.05  0.02  0.01  0.04  0.76  0.01  0.02  0.    0.01  0.  ]\n",
      " [ 0.01  0.02  0.03  0.02  0.02  0.04  0.01  0.78  0.05  0.    0.01  0.  ]\n",
      " [ 0.01  0.01  0.03  0.01  0.07  0.05  0.03  0.03  0.75  0.    0.01  0.01]\n",
      " [ 0.01  0.02  0.06  0.03  0.    0.03  0.03  0.01  0.01  0.77  0.01  0.  ]\n",
      " [ 0.02  0.08  0.01  0.02  0.03  0.08  0.02  0.01  0.02  0.    0.93  0.  ]\n",
      " [ 0.    0.    0.    0.    0.    0.    0.    0.    0.    0.    0.    1.  ]]\n"
     ]
    }
   ],
   "source": [
    "p = model.predict(X_te)\n",
    "#Converting from one hot back to integers\n",
    "y_pred = [np.where(r==np.max(r))[0][0] for r in p]\n",
    "\n",
    "\n",
    "a = Y_te\n",
    "#Converting from one hot back to integers\n",
    "y_true = [np.where(r==1)[0][0] for r in a ]\n",
    "\n",
    "C = sklearn.metrics.confusion_matrix(y_true,y_pred, labels=None, sample_weight=None)\n",
    "S = np.sum(np.array(C),axis=1)\n",
    "C_N = C/S\n",
    "print('Normalized confusion matrix\\n')\n",
    "print(np.array_str(C_N, precision=2, suppress_small=True))"
   ]
  }
 ],
 "metadata": {
  "kernelspec": {
   "display_name": "Python 3",
   "language": "python",
   "name": "python3"
  },
  "language_info": {
   "codemirror_mode": {
    "name": "ipython",
    "version": 3
   },
   "file_extension": ".py",
   "mimetype": "text/x-python",
   "name": "python",
   "nbconvert_exporter": "python",
   "pygments_lexer": "ipython3",
   "version": "3.6.3"
  }
 },
 "nbformat": 4,
 "nbformat_minor": 2
}
