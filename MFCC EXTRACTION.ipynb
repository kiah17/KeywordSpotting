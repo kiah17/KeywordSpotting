{
 "cells": [
  {
   "cell_type": "code",
   "execution_count": 1,
   "metadata": {
    "collapsed": true
   },
   "outputs": [],
   "source": [
    "import numpy as np \n",
    "import matplotlib.pyplot as plt\n",
    "import glob \n",
    "from scipy.io.wavfile import read\n",
    "import IPython.display as ipd\n",
    "import librosa\n",
    "import librosa.display\n",
    "import librosa.feature\n",
    "import pickle\n",
    "from scipy import signal"
   ]
  },
  {
   "cell_type": "markdown",
   "metadata": {},
   "source": [
    "### 1. Unnoised data (known and unknown) + silence samples "
   ]
  },
  {
   "cell_type": "code",
   "execution_count": null,
   "metadata": {
    "collapsed": true
   },
   "outputs": [],
   "source": [
    "X = np.load('data/DATA_X_UNN.npy')\n",
    "Y = np.load('data/DATA_Y_UNN.npy')\n",
    "\n",
    "#Checking class freqeuncy\n",
    "for lab in range(0,12):\n",
    "    print('Noised: Number of samples in class: '+str(lab) +' = ',len(np.where(Y==lab)[0]))\n",
    "    \n",
    "print('Shape of X: ',X.shape)\n",
    "print('Shape of Y: ',Y.shape)\n",
    "print('\\n')"
   ]
  },
  {
   "cell_type": "code",
   "execution_count": null,
   "metadata": {
    "collapsed": true
   },
   "outputs": [],
   "source": [
    "#Checking total number of samples from class 0 t0 9 (known words)\n",
    "known=0\n",
    "for lab in range(0,10):\n",
    "    known+=len(np.where(Y==lab)[0])\n",
    "    \n",
    "\n",
    "X_mel = np.zeros((X.shape[0],128,51))\n",
    "Y_mel = []\n",
    "\n",
    "get = 0 \n",
    "for sample in range(0,X.shape[0]): \n",
    "    \n",
    "#     if Y[sample]!=10 and Y[sample]!=11:\n",
    "        #loading the sample data points\n",
    "    Y_mel.append(int(Y[sample].squeeze()))\n",
    "\n",
    "    S = librosa.feature.melspectrogram(y=X[sample], sr=16000, n_mels=128, hop_length=320, fmax=8000)\n",
    "    #length of sample = 16000\n",
    "\n",
    "    X_mel[get]=librosa.logamplitude(S,ref_power=np.max)\n",
    "\n",
    "    #Keeping track of the process\n",
    "    if get%100==0:\n",
    "        print('Done Noised Time shifted '+str(get) +' Samples')\n",
    "\n",
    "    get+=1\n",
    "\n",
    "\n",
    "Y_mel= np.array(Y_mel)\n",
    "Y_mel = Y_mel.reshape(X.shape[0],1)"
   ]
  },
  {
   "cell_type": "code",
   "execution_count": null,
   "metadata": {
    "collapsed": true
   },
   "outputs": [],
   "source": [
    "print(X_mel.shape)\n",
    "print(Y_mel.shape)\n",
    "\n",
    "np.save('my_way/X_mel_all_unnoised.npy',X_mel)\n",
    "np.save('my_way/Y_mel_all_unnoised.npy',Y_mel)"
   ]
  },
  {
   "cell_type": "code",
   "execution_count": null,
   "metadata": {
    "collapsed": true
   },
   "outputs": [],
   "source": [
    "ch=2\n",
    "# plt.imshow(X_mel[ch])\n",
    "librosa.display.specshow(X_mel[ch].reshape(128,51))\n",
    "plt.ylabel('MFCC')\n",
    "plt.xlabel('Frames')\n",
    "plt.title('Y='+str(Y[ch]))\n",
    "plt.colorbar()\n",
    "plt.show()"
   ]
  },
  {
   "cell_type": "code",
   "execution_count": null,
   "metadata": {
    "collapsed": true
   },
   "outputs": [],
   "source": [
    "plt.imshow(X_mel[18000])\n",
    "plt.show()\n",
    "X_mel[18000]"
   ]
  },
  {
   "cell_type": "markdown",
   "metadata": {},
   "source": [
    "### 2. Noised data (known only) - not time shifted"
   ]
  },
  {
   "cell_type": "code",
   "execution_count": null,
   "metadata": {
    "collapsed": true
   },
   "outputs": [],
   "source": [
    "X = np.load('intermediate_pickles/X_noised.npy')\n",
    "Y = np.load('intermediate_pickles/Y_noised.npy')\n",
    "\n",
    "#Checking class freqeuncy\n",
    "for lab in range(0,12):\n",
    "    print('Noised: Number of samples in class: '+str(lab) +' = ',len(np.where(Y==lab)[0]))\n",
    "    \n",
    "print('Shape of X: ',X.shape)\n",
    "print('Shape of Y: ',Y.shape)\n",
    "print('\\n')"
   ]
  },
  {
   "cell_type": "code",
   "execution_count": null,
   "metadata": {
    "collapsed": true
   },
   "outputs": [],
   "source": [
    "#Checking total number of samples from class 0 t0 9 (known words)\n",
    "known=0\n",
    "for lab in range(0,10):\n",
    "    known+=len(np.where(Y==lab)[0])\n",
    "    \n",
    "\n",
    "X_mel = np.zeros((known,128,51))\n",
    "Y_mel = []\n",
    "\n",
    "get = 0 \n",
    "for sample in range(0,X.shape[0]): \n",
    "    \n",
    "    if Y[sample]!=10 and Y[sample]!=11:\n",
    "        #loading the sample data points\n",
    "        Y_mel.append(int(Y[sample].squeeze()))\n",
    "\n",
    "        S = librosa.feature.melspectrogram(y=X[sample], sr=16000, n_mels=128, hop_length=320, fmax=8000)\n",
    "        #length of sample = 16000\n",
    "\n",
    "        X_mel[get]=librosa.logamplitude(S,ref_power=np.max)\n",
    "\n",
    "        #Keeping track of the process\n",
    "        if get%100==0:\n",
    "            print('Done Noised Time shifted '+str(get) +' Samples')\n",
    "\n",
    "        get+=1\n",
    "\n",
    "\n",
    "Y_mel= np.array(Y_mel)\n",
    "Y_mel = Y_mel.reshape(known,1)"
   ]
  },
  {
   "cell_type": "code",
   "execution_count": null,
   "metadata": {
    "collapsed": true
   },
   "outputs": [],
   "source": [
    "print(X_mel.shape)\n",
    "print(Y_mel.shape)\n",
    "\n",
    "np.save('my_way/X_mel_noised_known.npy',X_mel)\n",
    "np.save('my_way/Y_mel_noised_known.npy',Y_mel)"
   ]
  },
  {
   "cell_type": "markdown",
   "metadata": {},
   "source": [
    "### 3. Noised data - Time shifted - Known only"
   ]
  },
  {
   "cell_type": "code",
   "execution_count": null,
   "metadata": {
    "collapsed": true
   },
   "outputs": [],
   "source": [
    "X = np.load('X_timeshifted_known_noised.npy')\n",
    "Y = np.load('Y_timeshifted_known_noised.npy')\n",
    "\n",
    "#Checking class freqeuncy\n",
    "for lab in range(0,12):\n",
    "    print('Noised: Number of samples in class: '+str(lab) +' = ',len(np.where(Y==lab)[0]))\n",
    "    \n",
    "print('Shape of X: ',X.shape)\n",
    "print('Shape of Y: ',Y.shape)\n",
    "print('\\n')"
   ]
  },
  {
   "cell_type": "code",
   "execution_count": null,
   "metadata": {
    "collapsed": true
   },
   "outputs": [],
   "source": [
    "#Checking total number of samples from class 0 t0 9 (known words)\n",
    "known=0\n",
    "for lab in range(0,10):\n",
    "    known+=len(np.where(Y==lab)[0])\n",
    "    \n",
    "\n",
    "X_mel = np.zeros((known,128,51))\n",
    "Y_mel = []\n",
    "\n",
    "get = 0 \n",
    "for sample in range(0,X.shape[0]): \n",
    "    \n",
    "    if Y[sample]!=10 and Y[sample]!=11:\n",
    "        #loading the sample data points\n",
    "        Y_mel.append(int(Y[sample].squeeze()))\n",
    "\n",
    "        S = librosa.feature.melspectrogram(y=X[sample], sr=16000, n_mels=128, hop_length=320, fmax=8000)\n",
    "        #length of sample = 16000\n",
    "\n",
    "        X_mel[get]=librosa.logamplitude(S,ref_power=np.max)\n",
    "\n",
    "        #Keeping track of the process\n",
    "        if get%100==0:\n",
    "            print('Done Noised Time shifted '+str(get) +' Samples')\n",
    "\n",
    "        get+=1\n",
    "\n",
    "\n",
    "Y_mel= np.array(Y_mel)\n",
    "Y_mel = Y_mel.reshape(known,1)"
   ]
  },
  {
   "cell_type": "code",
   "execution_count": null,
   "metadata": {
    "collapsed": true
   },
   "outputs": [],
   "source": [
    "print(X_mel.shape)\n",
    "print(Y_mel.shape)\n",
    "\n",
    "np.save('my_way/X_timeshifted_known_noised.npy',X_mel)\n",
    "np.save('my_way/Y_timeshifted_known_noised.npy',Y_mel)"
   ]
  },
  {
   "cell_type": "markdown",
   "metadata": {},
   "source": [
    "### 4.  Unnnoised data - Time shifted - known only"
   ]
  },
  {
   "cell_type": "code",
   "execution_count": null,
   "metadata": {
    "collapsed": true
   },
   "outputs": [],
   "source": [
    "X = np.load('data/X_timeshifted_known.npy')\n",
    "Y = np.load('data/Y_timeshifted_known.npy')\n",
    "\n",
    "#Checking class freqeuncy\n",
    "for lab in range(0,12):\n",
    "    print('Noised: Number of samples in class: '+str(lab) +' = ',len(np.where(Y==lab)[0]))\n",
    "    \n",
    "print('Shape of X: ',X.shape)\n",
    "print('Shape of Y: ',Y.shape)\n",
    "print('\\n')"
   ]
  },
  {
   "cell_type": "code",
   "execution_count": null,
   "metadata": {
    "collapsed": true
   },
   "outputs": [],
   "source": [
    "#Checking total number of samples from class 0 t0 9 (known words)\n",
    "known=0\n",
    "for lab in range(0,10):\n",
    "    known+=len(np.where(Y==lab)[0])\n",
    "    \n",
    "\n",
    "X_mel = np.zeros((known,128,51))\n",
    "Y_mel = []\n",
    "\n",
    "get = 0 \n",
    "for sample in range(0,X.shape[0]): \n",
    "    \n",
    "    if Y[sample]!=10 and Y[sample]!=11:\n",
    "        #loading the sample data points\n",
    "        Y_mel.append(int(Y[sample].squeeze()))\n",
    "\n",
    "        S = librosa.feature.melspectrogram(y=X[sample], sr=16000, n_mels=128, hop_length=320, fmax=8000)\n",
    "        #length of sample = 16000\n",
    "\n",
    "        X_mel[get]=librosa.logamplitude(S,ref_power=np.max)\n",
    "\n",
    "        #Keeping track of the process\n",
    "        if get%100==0:\n",
    "            print('Done Noised Time shifted '+str(get) +' Samples')\n",
    "\n",
    "        get+=1\n",
    "\n",
    "\n",
    "Y_mel= np.array(Y_mel)\n",
    "Y_mel = Y_mel.reshape(known,1)"
   ]
  },
  {
   "cell_type": "code",
   "execution_count": null,
   "metadata": {
    "collapsed": true
   },
   "outputs": [],
   "source": [
    "print(X_mel.shape)\n",
    "print(Y_mel.shape)\n",
    "\n",
    "np.save('my_way/X_timeshifted_known.npy',X_mel)\n",
    "np.save('my_way/Y_timeshifted_known.npy',Y_mel)"
   ]
  },
  {
   "cell_type": "markdown",
   "metadata": {
    "collapsed": true
   },
   "source": [
    "### Noised silence "
   ]
  },
  {
   "cell_type": "code",
   "execution_count": null,
   "metadata": {
    "collapsed": true
   },
   "outputs": [],
   "source": [
    "X = np.load('data/X_silence_noised.npy')\n",
    "Y = np.load('data/Y_silence_noised.npy')\n",
    "\n",
    "#Checking class freqeuncy\n",
    "for lab in range(0,12):\n",
    "    print('Noised: Number of samples in class: '+str(lab) +' = ',len(np.where(Y==lab)[0]))\n",
    "    \n",
    "print('Shape of X: ',X.shape)\n",
    "print('Shape of Y: ',Y.shape)\n",
    "print('\\n')"
   ]
  },
  {
   "cell_type": "code",
   "execution_count": null,
   "metadata": {
    "collapsed": true
   },
   "outputs": [],
   "source": [
    "#Checking total number of samples from class 0 t0 9 (known words)\n",
    "silence=0\n",
    "for lab in range(11,12):\n",
    "    silence+=len(np.where(Y==lab)[0])\n",
    "    \n",
    "\n",
    "X_mel = np.zeros((silence,128,51))\n",
    "Y_mel = []\n",
    "\n",
    "get = 0 \n",
    "for sample in range(0,X.shape[0]): \n",
    "    \n",
    "    if Y[sample]==11:\n",
    "        #loading the sample data points\n",
    "        Y_mel.append(int(Y[sample].squeeze()))\n",
    "\n",
    "        S = librosa.feature.melspectrogram(y=X[sample], sr=16000, n_mels=128, hop_length=320, fmax=8000)\n",
    "        #length of sample = 16000\n",
    "\n",
    "        X_mel[get]=librosa.logamplitude(S,ref_power=np.max)\n",
    "\n",
    "        #Keeping track of the process\n",
    "        if get%100==0:\n",
    "            print('Done Noised Time shifted '+str(get) +' Samples')\n",
    "\n",
    "        get+=1\n",
    "\n",
    "\n",
    "Y_mel= np.array(Y_mel)\n",
    "Y_mel = Y_mel.reshape(silence,1)"
   ]
  },
  {
   "cell_type": "code",
   "execution_count": null,
   "metadata": {
    "collapsed": true
   },
   "outputs": [],
   "source": [
    "np.save('my_way/X_mel_silence_noised.npy',X_mel)\n",
    "np.save('my_way/Y_mel_silence_noised.npy',Y_mel)"
   ]
  },
  {
   "cell_type": "markdown",
   "metadata": {},
   "source": [
    "### Unknown data time shifted"
   ]
  },
  {
   "cell_type": "code",
   "execution_count": null,
   "metadata": {
    "collapsed": true
   },
   "outputs": [],
   "source": [
    "X = np.load('data/X_time_shifted_unknown.npy')\n",
    "Y = np.load('data/Y_time_shifted_unknown.npy')\n",
    "\n",
    "#Checking class freqeuncy\n",
    "for lab in range(0,12):\n",
    "    print('Noised: Number of samples in class: '+str(lab) +' = ',len(np.where(Y==lab)[0]))\n",
    "    \n",
    "print('Shape of X: ',X.shape)\n",
    "print('Shape of Y: ',Y.shape)\n",
    "print('\\n')"
   ]
  },
  {
   "cell_type": "code",
   "execution_count": null,
   "metadata": {
    "collapsed": true
   },
   "outputs": [],
   "source": [
    "#Checking total number of samples from class 0 t0 9 (known words)\n",
    "unknown=0\n",
    "for lab in range(10,11):\n",
    "    unknown+=len(np.where(Y==lab)[0])\n",
    "    \n",
    "\n",
    "X_mel = np.zeros((unknown,128,51))\n",
    "Y_mel = []\n",
    "\n",
    "get = 0 \n",
    "for sample in range(0,X.shape[0]): \n",
    "    \n",
    "    if Y[sample]==10:\n",
    "        #loading the sample data points\n",
    "        Y_mel.append(int(Y[sample].squeeze()))\n",
    "\n",
    "        S = librosa.feature.melspectrogram(y=X[sample], sr=16000, n_mels=128, hop_length=320, fmax=8000)\n",
    "        #length of sample = 16000\n",
    "\n",
    "        X_mel[get]=librosa.logamplitude(S,ref_power=np.max)\n",
    "\n",
    "        #Keeping track of the process\n",
    "        if get%100==0:\n",
    "            print('Done Noised Time shifted '+str(get) +' Samples')\n",
    "\n",
    "        get+=1\n",
    "\n",
    "\n",
    "Y_mel= np.array(Y_mel)\n",
    "Y_mel = Y_mel.reshape(unknown,1)"
   ]
  },
  {
   "cell_type": "code",
   "execution_count": null,
   "metadata": {
    "collapsed": true
   },
   "outputs": [],
   "source": [
    "np.save('my_way/X_mel_timeshifted_unknown.npy',X_mel)\n",
    "np.save('my_way/Y_mel_timeshifted_unknown',Y_mel)"
   ]
  },
  {
   "cell_type": "markdown",
   "metadata": {},
   "source": [
    "### More known"
   ]
  },
  {
   "cell_type": "code",
   "execution_count": 2,
   "metadata": {},
   "outputs": [
    {
     "name": "stdout",
     "output_type": "stream",
     "text": [
      "Noised: Number of samples in class: 0 =  2359\n",
      "Noised: Number of samples in class: 1 =  2372\n",
      "Noised: Number of samples in class: 2 =  2353\n",
      "Noised: Number of samples in class: 3 =  2375\n",
      "Noised: Number of samples in class: 4 =  2357\n",
      "Noised: Number of samples in class: 5 =  2367\n",
      "Noised: Number of samples in class: 6 =  2367\n",
      "Noised: Number of samples in class: 7 =  2380\n",
      "Noised: Number of samples in class: 8 =  2375\n",
      "Noised: Number of samples in class: 9 =  2377\n",
      "Noised: Number of samples in class: 10 =  0\n",
      "Noised: Number of samples in class: 11 =  0\n",
      "Shape of X:  (23682, 16000)\n",
      "Shape of Y:  (23682, 1)\n",
      "\n",
      "\n"
     ]
    }
   ],
   "source": [
    "X = np.load('data/X_known_MORE.npy')\n",
    "Y = np.load('data/Y_known_MORE.npy')\n",
    "\n",
    "#Checking class freqeuncy\n",
    "for lab in range(0,12):\n",
    "    print('Number of samples in class: '+str(lab) +' = ',len(np.where(Y==lab)[0]))\n",
    "    \n",
    "print('Shape of X: ',X.shape)\n",
    "print('Shape of Y: ',Y.shape)\n",
    "print('\\n')"
   ]
  },
  {
   "cell_type": "code",
   "execution_count": 4,
   "metadata": {},
   "outputs": [
    {
     "name": "stdout",
     "output_type": "stream",
     "text": [
      "Done Noised Time shifted 0 Samples\n",
      "Done Noised Time shifted 100 Samples\n",
      "Done Noised Time shifted 200 Samples\n",
      "Done Noised Time shifted 300 Samples\n",
      "Done Noised Time shifted 400 Samples\n",
      "Done Noised Time shifted 500 Samples\n",
      "Done Noised Time shifted 600 Samples\n",
      "Done Noised Time shifted 700 Samples\n",
      "Done Noised Time shifted 800 Samples\n",
      "Done Noised Time shifted 900 Samples\n",
      "Done Noised Time shifted 1000 Samples\n",
      "Done Noised Time shifted 1100 Samples\n",
      "Done Noised Time shifted 1200 Samples\n",
      "Done Noised Time shifted 1300 Samples\n",
      "Done Noised Time shifted 1400 Samples\n",
      "Done Noised Time shifted 1500 Samples\n",
      "Done Noised Time shifted 1600 Samples\n",
      "Done Noised Time shifted 1700 Samples\n",
      "Done Noised Time shifted 1800 Samples\n",
      "Done Noised Time shifted 1900 Samples\n",
      "Done Noised Time shifted 2000 Samples\n",
      "Done Noised Time shifted 2100 Samples\n",
      "Done Noised Time shifted 2200 Samples\n",
      "Done Noised Time shifted 2300 Samples\n",
      "Done Noised Time shifted 2400 Samples\n",
      "Done Noised Time shifted 2500 Samples\n",
      "Done Noised Time shifted 2600 Samples\n",
      "Done Noised Time shifted 2700 Samples\n",
      "Done Noised Time shifted 2800 Samples\n",
      "Done Noised Time shifted 2900 Samples\n",
      "Done Noised Time shifted 3000 Samples\n",
      "Done Noised Time shifted 3100 Samples\n",
      "Done Noised Time shifted 3200 Samples\n",
      "Done Noised Time shifted 3300 Samples\n",
      "Done Noised Time shifted 3400 Samples\n",
      "Done Noised Time shifted 3500 Samples\n",
      "Done Noised Time shifted 3600 Samples\n",
      "Done Noised Time shifted 3700 Samples\n",
      "Done Noised Time shifted 3800 Samples\n",
      "Done Noised Time shifted 3900 Samples\n",
      "Done Noised Time shifted 4000 Samples\n",
      "Done Noised Time shifted 4100 Samples\n",
      "Done Noised Time shifted 4200 Samples\n",
      "Done Noised Time shifted 4300 Samples\n",
      "Done Noised Time shifted 4400 Samples\n",
      "Done Noised Time shifted 4500 Samples\n",
      "Done Noised Time shifted 4600 Samples\n",
      "Done Noised Time shifted 4700 Samples\n",
      "Done Noised Time shifted 4800 Samples\n",
      "Done Noised Time shifted 4900 Samples\n",
      "Done Noised Time shifted 5000 Samples\n",
      "Done Noised Time shifted 5100 Samples\n",
      "Done Noised Time shifted 5200 Samples\n",
      "Done Noised Time shifted 5300 Samples\n",
      "Done Noised Time shifted 5400 Samples\n",
      "Done Noised Time shifted 5500 Samples\n",
      "Done Noised Time shifted 5600 Samples\n",
      "Done Noised Time shifted 5700 Samples\n",
      "Done Noised Time shifted 5800 Samples\n",
      "Done Noised Time shifted 5900 Samples\n",
      "Done Noised Time shifted 6000 Samples\n",
      "Done Noised Time shifted 6100 Samples\n",
      "Done Noised Time shifted 6200 Samples\n",
      "Done Noised Time shifted 6300 Samples\n",
      "Done Noised Time shifted 6400 Samples\n",
      "Done Noised Time shifted 6500 Samples\n",
      "Done Noised Time shifted 6600 Samples\n",
      "Done Noised Time shifted 6700 Samples\n",
      "Done Noised Time shifted 6800 Samples\n",
      "Done Noised Time shifted 6900 Samples\n",
      "Done Noised Time shifted 7000 Samples\n",
      "Done Noised Time shifted 7100 Samples\n",
      "Done Noised Time shifted 7200 Samples\n",
      "Done Noised Time shifted 7300 Samples\n",
      "Done Noised Time shifted 7400 Samples\n",
      "Done Noised Time shifted 7500 Samples\n",
      "Done Noised Time shifted 7600 Samples\n",
      "Done Noised Time shifted 7700 Samples\n",
      "Done Noised Time shifted 7800 Samples\n",
      "Done Noised Time shifted 7900 Samples\n",
      "Done Noised Time shifted 8000 Samples\n",
      "Done Noised Time shifted 8100 Samples\n",
      "Done Noised Time shifted 8200 Samples\n",
      "Done Noised Time shifted 8300 Samples\n",
      "Done Noised Time shifted 8400 Samples\n",
      "Done Noised Time shifted 8500 Samples\n",
      "Done Noised Time shifted 8600 Samples\n",
      "Done Noised Time shifted 8700 Samples\n",
      "Done Noised Time shifted 8800 Samples\n",
      "Done Noised Time shifted 8900 Samples\n",
      "Done Noised Time shifted 9000 Samples\n",
      "Done Noised Time shifted 9100 Samples\n",
      "Done Noised Time shifted 9200 Samples\n",
      "Done Noised Time shifted 9300 Samples\n",
      "Done Noised Time shifted 9400 Samples\n",
      "Done Noised Time shifted 9500 Samples\n",
      "Done Noised Time shifted 9600 Samples\n",
      "Done Noised Time shifted 9700 Samples\n",
      "Done Noised Time shifted 9800 Samples\n",
      "Done Noised Time shifted 9900 Samples\n",
      "Done Noised Time shifted 10000 Samples\n",
      "Done Noised Time shifted 10100 Samples\n",
      "Done Noised Time shifted 10200 Samples\n",
      "Done Noised Time shifted 10300 Samples\n",
      "Done Noised Time shifted 10400 Samples\n",
      "Done Noised Time shifted 10500 Samples\n",
      "Done Noised Time shifted 10600 Samples\n",
      "Done Noised Time shifted 10700 Samples\n",
      "Done Noised Time shifted 10800 Samples\n",
      "Done Noised Time shifted 10900 Samples\n",
      "Done Noised Time shifted 11000 Samples\n",
      "Done Noised Time shifted 11100 Samples\n",
      "Done Noised Time shifted 11200 Samples\n",
      "Done Noised Time shifted 11300 Samples\n",
      "Done Noised Time shifted 11400 Samples\n",
      "Done Noised Time shifted 11500 Samples\n",
      "Done Noised Time shifted 11600 Samples\n",
      "Done Noised Time shifted 11700 Samples\n",
      "Done Noised Time shifted 11800 Samples\n",
      "Done Noised Time shifted 11900 Samples\n",
      "Done Noised Time shifted 12000 Samples\n",
      "Done Noised Time shifted 12100 Samples\n",
      "Done Noised Time shifted 12200 Samples\n",
      "Done Noised Time shifted 12300 Samples\n",
      "Done Noised Time shifted 12400 Samples\n",
      "Done Noised Time shifted 12500 Samples\n",
      "Done Noised Time shifted 12600 Samples\n",
      "Done Noised Time shifted 12700 Samples\n",
      "Done Noised Time shifted 12800 Samples\n",
      "Done Noised Time shifted 12900 Samples\n",
      "Done Noised Time shifted 13000 Samples\n",
      "Done Noised Time shifted 13100 Samples\n",
      "Done Noised Time shifted 13200 Samples\n",
      "Done Noised Time shifted 13300 Samples\n",
      "Done Noised Time shifted 13400 Samples\n",
      "Done Noised Time shifted 13500 Samples\n",
      "Done Noised Time shifted 13600 Samples\n",
      "Done Noised Time shifted 13700 Samples\n",
      "Done Noised Time shifted 13800 Samples\n",
      "Done Noised Time shifted 13900 Samples\n",
      "Done Noised Time shifted 14000 Samples\n",
      "Done Noised Time shifted 14100 Samples\n",
      "Done Noised Time shifted 14200 Samples\n",
      "Done Noised Time shifted 14300 Samples\n",
      "Done Noised Time shifted 14400 Samples\n",
      "Done Noised Time shifted 14500 Samples\n",
      "Done Noised Time shifted 14600 Samples\n",
      "Done Noised Time shifted 14700 Samples\n",
      "Done Noised Time shifted 14800 Samples\n",
      "Done Noised Time shifted 14900 Samples\n",
      "Done Noised Time shifted 15000 Samples\n",
      "Done Noised Time shifted 15100 Samples\n",
      "Done Noised Time shifted 15200 Samples\n",
      "Done Noised Time shifted 15300 Samples\n",
      "Done Noised Time shifted 15400 Samples\n",
      "Done Noised Time shifted 15500 Samples\n",
      "Done Noised Time shifted 15600 Samples\n",
      "Done Noised Time shifted 15700 Samples\n",
      "Done Noised Time shifted 15800 Samples\n",
      "Done Noised Time shifted 15900 Samples\n",
      "Done Noised Time shifted 16000 Samples\n",
      "Done Noised Time shifted 16100 Samples\n",
      "Done Noised Time shifted 16200 Samples\n",
      "Done Noised Time shifted 16300 Samples\n",
      "Done Noised Time shifted 16400 Samples\n",
      "Done Noised Time shifted 16500 Samples\n",
      "Done Noised Time shifted 16600 Samples\n",
      "Done Noised Time shifted 16700 Samples\n",
      "Done Noised Time shifted 16800 Samples\n",
      "Done Noised Time shifted 16900 Samples\n",
      "Done Noised Time shifted 17000 Samples\n",
      "Done Noised Time shifted 17100 Samples\n",
      "Done Noised Time shifted 17200 Samples\n",
      "Done Noised Time shifted 17300 Samples\n",
      "Done Noised Time shifted 17400 Samples\n",
      "Done Noised Time shifted 17500 Samples\n",
      "Done Noised Time shifted 17600 Samples\n",
      "Done Noised Time shifted 17700 Samples\n",
      "Done Noised Time shifted 17800 Samples\n",
      "Done Noised Time shifted 17900 Samples\n",
      "Done Noised Time shifted 18000 Samples\n",
      "Done Noised Time shifted 18100 Samples\n",
      "Done Noised Time shifted 18200 Samples\n",
      "Done Noised Time shifted 18300 Samples\n",
      "Done Noised Time shifted 18400 Samples\n",
      "Done Noised Time shifted 18500 Samples\n",
      "Done Noised Time shifted 18600 Samples\n",
      "Done Noised Time shifted 18700 Samples\n",
      "Done Noised Time shifted 18800 Samples\n",
      "Done Noised Time shifted 18900 Samples\n",
      "Done Noised Time shifted 19000 Samples\n",
      "Done Noised Time shifted 19100 Samples\n",
      "Done Noised Time shifted 19200 Samples\n",
      "Done Noised Time shifted 19300 Samples\n",
      "Done Noised Time shifted 19400 Samples\n",
      "Done Noised Time shifted 19500 Samples\n",
      "Done Noised Time shifted 19600 Samples\n",
      "Done Noised Time shifted 19700 Samples\n",
      "Done Noised Time shifted 19800 Samples\n",
      "Done Noised Time shifted 19900 Samples\n",
      "Done Noised Time shifted 20000 Samples\n",
      "Done Noised Time shifted 20100 Samples\n",
      "Done Noised Time shifted 20200 Samples\n",
      "Done Noised Time shifted 20300 Samples\n",
      "Done Noised Time shifted 20400 Samples\n",
      "Done Noised Time shifted 20500 Samples\n",
      "Done Noised Time shifted 20600 Samples\n",
      "Done Noised Time shifted 20700 Samples\n",
      "Done Noised Time shifted 20800 Samples\n",
      "Done Noised Time shifted 20900 Samples\n",
      "Done Noised Time shifted 21000 Samples\n",
      "Done Noised Time shifted 21100 Samples\n",
      "Done Noised Time shifted 21200 Samples\n"
     ]
    },
    {
     "name": "stdout",
     "output_type": "stream",
     "text": [
      "Done Noised Time shifted 21300 Samples\n",
      "Done Noised Time shifted 21400 Samples\n",
      "Done Noised Time shifted 21500 Samples\n",
      "Done Noised Time shifted 21600 Samples\n",
      "Done Noised Time shifted 21700 Samples\n",
      "Done Noised Time shifted 21800 Samples\n",
      "Done Noised Time shifted 21900 Samples\n",
      "Done Noised Time shifted 22000 Samples\n",
      "Done Noised Time shifted 22100 Samples\n",
      "Done Noised Time shifted 22200 Samples\n",
      "Done Noised Time shifted 22300 Samples\n",
      "Done Noised Time shifted 22400 Samples\n",
      "Done Noised Time shifted 22500 Samples\n",
      "Done Noised Time shifted 22600 Samples\n",
      "Done Noised Time shifted 22700 Samples\n",
      "Done Noised Time shifted 22800 Samples\n",
      "Done Noised Time shifted 22900 Samples\n",
      "Done Noised Time shifted 23000 Samples\n",
      "Done Noised Time shifted 23100 Samples\n",
      "Done Noised Time shifted 23200 Samples\n",
      "Done Noised Time shifted 23300 Samples\n",
      "Done Noised Time shifted 23400 Samples\n",
      "Done Noised Time shifted 23500 Samples\n",
      "Done Noised Time shifted 23600 Samples\n"
     ]
    }
   ],
   "source": [
    "#Checking total number of samples from class 0 t0 9 (known words)\n",
    "known=0\n",
    "for lab in range(0,10):\n",
    "    known+=len(np.where(Y==lab)[0])\n",
    "    \n",
    "\n",
    "X_mel = np.zeros((known,128,51))\n",
    "Y_mel = []\n",
    "\n",
    "get = 0 \n",
    "for sample in range(0,X.shape[0]): \n",
    "    \n",
    "    if Y[sample]!=10 and Y[sample]!=11:\n",
    "        #loading the sample data points\n",
    "        Y_mel.append(int(Y[sample].squeeze()))\n",
    "\n",
    "        S = librosa.feature.melspectrogram(y=X[sample], sr=16000, n_mels=128, hop_length=320, fmax=8000)\n",
    "        #length of sample = 16000\n",
    "\n",
    "        X_mel[get]=librosa.logamplitude(S,ref_power=np.max)\n",
    "\n",
    "        #Keeping track of the process\n",
    "        if get%100==0:\n",
    "            print('Done Noised Time shifted '+str(get) +' Samples')\n",
    "\n",
    "        get+=1\n",
    "\n",
    "\n",
    "Y_mel= np.array(Y_mel)\n",
    "Y_mel = Y_mel.reshape(known,1)"
   ]
  },
  {
   "cell_type": "code",
   "execution_count": 5,
   "metadata": {
    "collapsed": true
   },
   "outputs": [],
   "source": [
    "np.save('my_way/X_mel_known_MORE.npy',X_mel)\n",
    "np.save('my_way/Y_mel_known_MORE.npy',Y_mel)"
   ]
  }
 ],
 "metadata": {
  "kernelspec": {
   "display_name": "Python 3",
   "language": "python",
   "name": "python3"
  },
  "language_info": {
   "codemirror_mode": {
    "name": "ipython",
    "version": 3
   },
   "file_extension": ".py",
   "mimetype": "text/x-python",
   "name": "python",
   "nbconvert_exporter": "python",
   "pygments_lexer": "ipython3",
   "version": "3.6.3"
  }
 },
 "nbformat": 4,
 "nbformat_minor": 2
}
