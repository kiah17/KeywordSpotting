{
 "cells": [
  {
   "cell_type": "code",
   "execution_count": 1,
   "metadata": {},
   "outputs": [
    {
     "name": "stderr",
     "output_type": "stream",
     "text": [
      "Using TensorFlow backend.\n",
      "/home/suhaila_shakia/anaconda3/lib/python3.6/importlib/_bootstrap.py:205: RuntimeWarning: compiletime version 3.5 of module 'tensorflow.python.framework.fast_tensor_util' does not match runtime version 3.6\n",
      "  return f(*args, **kwds)\n"
     ]
    },
    {
     "name": "stdout",
     "output_type": "stream",
     "text": [
      "Image ordering is tf check:  tf\n"
     ]
    }
   ],
   "source": [
    "import numpy as np \n",
    "import matplotlib.pyplot as plt\n",
    "import glob \n",
    "from scipy.io.wavfile import read\n",
    "import IPython.display as ipd\n",
    "import librosa\n",
    "import librosa.display\n",
    "import librosa.feature\n",
    "import pickle\n",
    "import sklearn\n",
    "from sklearn import svm, datasets\n",
    "from sklearn.model_selection import train_test_split\n",
    "from sklearn.metrics import confusion_matrix\n",
    "\n",
    "import keras\n",
    "from keras.models import Sequential\n",
    "from keras.models import Model\n",
    "from keras.layers import Dense, Activation, Flatten, Lambda,Input, concatenate, Conv2DTranspose, Dropout\n",
    "from keras.layers import Conv2D, MaxPooling2D, BatchNormalization \n",
    "from keras.utils import np_utils\n",
    "from keras.utils import to_categorical\n",
    "from keras import optimizers \n",
    "from keras.models import load_model\n",
    "from keras.models import model_from_json\n",
    "\n",
    "import keras.backend as K \n",
    "# K.set_image_dim_ordering('tf')\n",
    "print('Image ordering is tf check: ',K.image_dim_ordering())"
   ]
  },
  {
   "cell_type": "code",
   "execution_count": 2,
   "metadata": {},
   "outputs": [
    {
     "name": "stdout",
     "output_type": "stream",
     "text": [
      "Shape of X:  (169416, 128, 51, 1)\n",
      "Shape of Y:  (169416, 1)\n",
      "Number of samples in class: 0 =  14118\n",
      "Number of samples in class: 1 =  14118\n",
      "Number of samples in class: 2 =  14118\n",
      "Number of samples in class: 3 =  14118\n",
      "Number of samples in class: 4 =  14118\n",
      "Number of samples in class: 5 =  14118\n",
      "Number of samples in class: 6 =  14118\n",
      "Number of samples in class: 7 =  14118\n",
      "Number of samples in class: 8 =  14118\n",
      "Number of samples in class: 9 =  14118\n",
      "Number of samples in class: 10 =  14118\n",
      "Number of samples in class: 11 =  14118\n"
     ]
    }
   ],
   "source": [
    "X = np.load('X_balanced.npy')\n",
    "Y = np.load('Y_balanced.npy')\n",
    "\n",
    "print('Shape of X: ',X.shape)\n",
    "print('Shape of Y: ',Y.shape)\n",
    "\n",
    "for lab in range(0,12):\n",
    "    print('Number of samples in class: '+str(lab) +' = ',len(np.where(Y==lab)[0]))"
   ]
  },
  {
   "cell_type": "markdown",
   "metadata": {},
   "source": [
    "### Making balanced dataset"
   ]
  },
  {
   "cell_type": "code",
   "execution_count": null,
   "metadata": {
    "collapsed": true
   },
   "outputs": [],
   "source": [
    "X_balanced = np.zeros((169416,128,51,1))\n",
    "Y_balanced = []\n",
    "for lab in range(0,12):\n",
    "    #Starting and ending indices for each class in the final set\n",
    "    start = lab*14118\n",
    "    end=start+14118\n",
    "    \n",
    "    #Collecting all the sample indices from a particular class\n",
    "    w = np.where(Y==lab)[0]\n",
    "    \n",
    "    #Collecting all samples from each of the 12 categories\n",
    "    collection = X[w]\n",
    "    \n",
    "    #Randomly selecting 14118 samples from collection\n",
    "    r = np.random.permutation(collection.shape[0])\n",
    "    X_class = collection[r[0:14118]]\n",
    "    \n",
    "    X_balanced[start:end] = X_class\n",
    "    Y_balanced.extend([lab]*14118)\n",
    "    \n",
    "    #Keeping track\n",
    "    print('Done Class '+str(lab))\n",
    "    \n",
    "Y_balanced=np.array(Y_balanced)\n",
    "Y_balanced= Y_balanced.reshape(Y_balanced.shape[0],1)\n",
    "\n",
    "print('Shape of balanced X: ',X_balanced.shape)\n",
    "print('Shape of balanced Y: ',Y_balanced.shape)"
   ]
  },
  {
   "cell_type": "code",
   "execution_count": null,
   "metadata": {
    "collapsed": true
   },
   "outputs": [],
   "source": [
    "print('\\nIn training set')\n",
    "for lab in range(0,12):\n",
    "    print('Number of samples in class: '+str(lab) +' = ',len(np.where(Y_balanced==lab)[0]))"
   ]
  },
  {
   "cell_type": "code",
   "execution_count": null,
   "metadata": {
    "collapsed": true
   },
   "outputs": [],
   "source": [
    "# Saving balanced dataset \n",
    "np.save('X_balanced.npy',X_balanced)\n",
    "np.save('Y_balanced.npy',Y_balanced)"
   ]
  },
  {
   "cell_type": "markdown",
   "metadata": {},
   "source": [
    "### Making training and testing sets"
   ]
  },
  {
   "cell_type": "code",
   "execution_count": 3,
   "metadata": {},
   "outputs": [
    {
     "name": "stdout",
     "output_type": "stream",
     "text": [
      "Shape of training:  (161416, 128, 51, 1) (161416, 1)\n",
      "Shape of testing:  (5000, 128, 51, 1) (5000, 1)\n",
      "Shape of validation:  (3000, 128, 51, 1) (3000, 1)\n"
     ]
    }
   ],
   "source": [
    "rand = np.random.permutation(X.shape[0])\n",
    "val = 3000\n",
    "test = 8000\n",
    "val=rand[0:val]\n",
    "te = rand[3000:8000]\n",
    "tr = rand[test:]\n",
    "X_tr = X[tr]\n",
    "Y_tr = Y[tr]\n",
    "\n",
    "X_te = X[te]\n",
    "Y_te = Y[te]\n",
    "\n",
    "X_val = X[val]\n",
    "Y_val = Y[val]\n",
    "\n",
    "print('Shape of training: ',X_tr.shape,Y_tr.shape)\n",
    "print('Shape of testing: ',X_te.shape,Y_te.shape)\n",
    "print('Shape of validation: ', X_val.shape,Y_val.shape)"
   ]
  },
  {
   "cell_type": "code",
   "execution_count": 4,
   "metadata": {},
   "outputs": [
    {
     "name": "stdout",
     "output_type": "stream",
     "text": [
      "\n",
      "In training set\n",
      "Number of samples in class: 0 =  13414\n",
      "Number of samples in class: 1 =  13464\n",
      "Number of samples in class: 2 =  13486\n",
      "Number of samples in class: 3 =  13418\n",
      "Number of samples in class: 4 =  13429\n",
      "Number of samples in class: 5 =  13480\n",
      "Number of samples in class: 6 =  13437\n",
      "Number of samples in class: 7 =  13456\n",
      "Number of samples in class: 8 =  13432\n",
      "Number of samples in class: 9 =  13490\n",
      "Number of samples in class: 10 =  13450\n",
      "Number of samples in class: 11 =  13460\n",
      "\n",
      "In testing set\n",
      "Number of samples in class: 0 =  442\n",
      "Number of samples in class: 1 =  419\n",
      "Number of samples in class: 2 =  398\n",
      "Number of samples in class: 3 =  446\n",
      "Number of samples in class: 4 =  422\n",
      "Number of samples in class: 5 =  396\n",
      "Number of samples in class: 6 =  427\n",
      "Number of samples in class: 7 =  392\n",
      "Number of samples in class: 8 =  427\n",
      "Number of samples in class: 9 =  401\n",
      "Number of samples in class: 10 =  425\n",
      "Number of samples in class: 11 =  405\n",
      "\n",
      "In validation set\n",
      "Number of samples in class: 0 =  262\n",
      "Number of samples in class: 1 =  235\n",
      "Number of samples in class: 2 =  234\n",
      "Number of samples in class: 3 =  254\n",
      "Number of samples in class: 4 =  267\n",
      "Number of samples in class: 5 =  242\n",
      "Number of samples in class: 6 =  254\n",
      "Number of samples in class: 7 =  270\n",
      "Number of samples in class: 8 =  259\n",
      "Number of samples in class: 9 =  227\n",
      "Number of samples in class: 10 =  243\n",
      "Number of samples in class: 11 =  253\n"
     ]
    }
   ],
   "source": [
    "#In training set \n",
    "print('\\nIn training set')\n",
    "for lab in range(0,12):\n",
    "    print('Number of samples in class: '+str(lab) +' = ',len(np.where(Y_tr==lab)[0]))\n",
    "\n",
    "#In testing set \n",
    "print('\\nIn testing set')\n",
    "for lab in range(0,12):\n",
    "    print('Number of samples in class: '+str(lab) +' = ',len(np.where(Y_te==lab)[0]))\n",
    "    \n",
    "#In validation set \n",
    "print('\\nIn validation set')\n",
    "for lab in range(0,12):\n",
    "    print('Number of samples in class: '+str(lab) +' = ',len(np.where(Y_val==lab)[0]))"
   ]
  },
  {
   "cell_type": "markdown",
   "metadata": {},
   "source": [
    "### One hot encoding output labels Y "
   ]
  },
  {
   "cell_type": "code",
   "execution_count": 5,
   "metadata": {},
   "outputs": [
    {
     "name": "stdout",
     "output_type": "stream",
     "text": [
      "(161416, 12)\n",
      "(5000, 12)\n",
      "(3000, 12)\n"
     ]
    }
   ],
   "source": [
    "Y_tr = to_categorical(Y_tr)\n",
    "Y_te = to_categorical(Y_te)\n",
    "Y_val = to_categorical(Y_val)\n",
    "print(Y_tr.shape)\n",
    "print(Y_te.shape)\n",
    "print(Y_val.shape)"
   ]
  },
  {
   "cell_type": "code",
   "execution_count": 6,
   "metadata": {},
   "outputs": [
    {
     "name": "stdout",
     "output_type": "stream",
     "text": [
      "_________________________________________________________________\n",
      "Layer (type)                 Output Shape              Param #   \n",
      "=================================================================\n",
      "batch_normalization_1 (Batch (None, 128, 51, 1)        4         \n",
      "_________________________________________________________________\n",
      "conv2d_1 (Conv2D)            (None, 128, 51, 32)       320       \n",
      "_________________________________________________________________\n",
      "batch_normalization_2 (Batch (None, 128, 51, 32)       128       \n",
      "_________________________________________________________________\n",
      "max_pooling2d_1 (MaxPooling2 (None, 64, 25, 32)        0         \n",
      "_________________________________________________________________\n",
      "conv2d_2 (Conv2D)            (None, 64, 25, 64)        18496     \n",
      "_________________________________________________________________\n",
      "batch_normalization_3 (Batch (None, 64, 25, 64)        256       \n",
      "_________________________________________________________________\n",
      "max_pooling2d_2 (MaxPooling2 (None, 32, 12, 64)        0         \n",
      "_________________________________________________________________\n",
      "conv2d_3 (Conv2D)            (None, 32, 12, 128)       73856     \n",
      "_________________________________________________________________\n",
      "batch_normalization_4 (Batch (None, 32, 12, 128)       512       \n",
      "_________________________________________________________________\n",
      "max_pooling2d_3 (MaxPooling2 (None, 16, 6, 128)        0         \n",
      "_________________________________________________________________\n",
      "conv2d_4 (Conv2D)            (None, 16, 6, 256)        295168    \n",
      "_________________________________________________________________\n",
      "batch_normalization_5 (Batch (None, 16, 6, 256)        1024      \n",
      "_________________________________________________________________\n",
      "max_pooling2d_4 (MaxPooling2 (None, 8, 3, 256)         0         \n",
      "_________________________________________________________________\n",
      "conv2d_5 (Conv2D)            (None, 8, 3, 512)         1180160   \n",
      "_________________________________________________________________\n",
      "batch_normalization_6 (Batch (None, 8, 3, 512)         2048      \n",
      "_________________________________________________________________\n",
      "max_pooling2d_5 (MaxPooling2 (None, 4, 1, 512)         0         \n",
      "_________________________________________________________________\n",
      "flatten_1 (Flatten)          (None, 2048)              0         \n",
      "_________________________________________________________________\n",
      "dense_1 (Dense)              (None, 512)               1049088   \n",
      "_________________________________________________________________\n",
      "dense_2 (Dense)              (None, 12)                6156      \n",
      "=================================================================\n",
      "Total params: 2,627,216\n",
      "Trainable params: 2,625,230\n",
      "Non-trainable params: 1,986\n",
      "_________________________________________________________________\n"
     ]
    }
   ],
   "source": [
    "K.clear_session()\n",
    "\n",
    "input_shape = (128,51,1)\n",
    "\n",
    "model = Sequential([\n",
    "    BatchNormalization(axis = -1,input_shape = input_shape),\n",
    "    \n",
    "    Conv2D(32, (3, 3),strides = (1,1),padding='same',input_shape = input_shape,activation='relu'),\n",
    "    BatchNormalization(axis = -1),\n",
    "    MaxPooling2D(pool_size=(2, 2), strides=None, padding='valid', data_format=None) ,  \n",
    "#     Dropout(0.2),\n",
    "    \n",
    "\n",
    "#     Conv2D(32, (3, 3),strides = (1,1),padding='same',activation='relu'),\n",
    "# #     BatchNormalization(axis = -1),\n",
    "#     MaxPooling2D(pool_size=(2, 2), strides=None, padding='valid', data_format=None) ,   \n",
    "# #     Dropout(0.2),\n",
    "    \n",
    "   \n",
    "    Conv2D(64, (3, 3),strides = (1,1),padding='same',activation='relu'),\n",
    "    BatchNormalization(axis = -1),\n",
    "    MaxPooling2D(pool_size=(2, 2), strides=None, padding='valid', data_format=None)  ,\n",
    "#     Dropout(0.2),\n",
    "    \n",
    "    \n",
    "#     Conv2D(64, (3, 3),strides = (1,1), padding='same',activation='relu'),\n",
    "# #     BatchNormalization(axis = -1),\n",
    "#     MaxPooling2D(pool_size=(2, 2), strides=None, padding='valid', data_format=None) ,\n",
    "# #     Dropout(0.2),\n",
    "\n",
    "    \n",
    "    Conv2D(128, (3, 3),strides = (1,1),padding='same',activation='relu'),\n",
    "    BatchNormalization(axis = -1),\n",
    "    MaxPooling2D(pool_size=(2, 2), strides=None, padding='valid', data_format=None) ,\n",
    "#     Dropout(0.2),\n",
    "    \n",
    "    \n",
    "#     Conv2D(128, (3, 3),strides = (1,1),padding='same',activation='relu'),\n",
    "# #     BatchNormalization(axis = -1),\n",
    "#     MaxPooling2D(pool_size=(2, 2), strides=None, padding='valid', data_format=None) ,\n",
    "    \n",
    "    Conv2D(256, (3, 3),strides = (1,1),padding='same',activation='relu'),\n",
    "    BatchNormalization(axis = -1),\n",
    "    MaxPooling2D(pool_size=(2, 2), strides=None, padding='valid', data_format=None) ,\n",
    "#     Dropout(0.2),\n",
    "    \n",
    "#     Conv2D(256, (3, 3),strides = (1,1),padding='same',activation='relu'),\n",
    "# #     BatchNormalization(axis = -1),\n",
    "#     MaxPooling2D(pool_size=(2, 2), strides=None, padding='valid', data_format=None) ,\n",
    "    \n",
    "    Conv2D(512, (3, 3),strides = (1,1),padding='same',activation='relu'),\n",
    "    BatchNormalization(axis = -1),\n",
    "#     Dropout(0.2),\n",
    "    MaxPooling2D(pool_size=(2, 2), strides=None, padding='valid', data_format=None) ,\n",
    "    \n",
    "#     Conv2D(1024, (3, 3),strides = (1,1),padding='same',activation='relu'),\n",
    "# #     BatchNormalization(axis = -1),\n",
    "#     MaxPooling2D(pool_size=(2, 2), strides=None, padding='valid', data_format=None) ,\n",
    "    \n",
    "    \n",
    "    \n",
    "    Flatten(),\n",
    "#     Dropout(0.2),\n",
    "    \n",
    "#     Dense(2048,activation = 'relu'),\n",
    "#     Dense(1024,activation = 'relu'),\n",
    "# #     Dropout(0.2),\n",
    "#     Dense(1024,activation = 'relu'),\n",
    "    Dense(4096,activation = 'relu'),\n",
    "#     Dense(512,activation = 'relu'),\n",
    "    Dense(12,activation='softmax')\n",
    "    \n",
    "])\n",
    "\n",
    "model.summary()"
   ]
  },
  {
   "cell_type": "code",
   "execution_count": null,
   "metadata": {
    "collapsed": true
   },
   "outputs": [],
   "source": []
  },
  {
   "cell_type": "code",
   "execution_count": null,
   "metadata": {
    "collapsed": true
   },
   "outputs": [],
   "source": [
    "# model reconstruction from JSON:\n",
    "json_string = pickle.load( open( \"models/model2_json.pkl\", \"rb\" ) )\n",
    "model = model_from_json(json_string)\n",
    "# model.load_weights('models/model12_weights.h5')\n",
    "model.summary()"
   ]
  },
  {
   "cell_type": "code",
   "execution_count": 7,
   "metadata": {
    "collapsed": true
   },
   "outputs": [],
   "source": [
    "class LossHistory(keras.callbacks.Callback):\n",
    "    def on_train_begin(self, logs={}):\n",
    "        self.loss = []\n",
    "        self.val_acc =[]\n",
    "        self.acc = []\n",
    "        \n",
    "    def on_batch_end(self, batch, logs={}):\n",
    "        self.loss.append(logs.get('loss'))\n",
    "\n",
    "    def on_epoch_end(self, epoch, logs):\n",
    "        self.val_acc.append(logs.get('val_acc'))\n",
    "        self.acc.append(logs.get('acc'))\n",
    "        \n",
    "        print(' Testing accuracy: ')\n",
    "        pr = model.predict(X_te)\n",
    "        ypred = [np.where(r==np.max(r))[0][0] for r in pr]\n",
    "        \n",
    "        #Ground truth\n",
    "        ac = Y_te\n",
    "        #Converting from one hot back to integers\n",
    "        ytrue = [np.where(r==1)[0][0] for r in ac ]\n",
    "        \n",
    "        good = [1 for i in range(0,len(ypred)) if ytrue[i]==ypred[i]]\n",
    "        accuracy = len(good)/len(ypred)\n",
    "        print(accuracy)\n",
    "        \n",
    "        #Computing confusion matrix\n",
    "        C = sklearn.metrics.confusion_matrix(ytrue,ypred, labels=None, sample_weight=None)\n",
    "        S = np.sum(np.array(C),axis=1)\n",
    "        C_N = C/S\n",
    "        print('\\nNormalized confusion matrix\\n')\n",
    "        print(np.array_str(C_N, precision=2, suppress_small=True))\n",
    "\n",
    "history_cb = LossHistory()"
   ]
  },
  {
   "cell_type": "code",
   "execution_count": null,
   "metadata": {
    "collapsed": true
   },
   "outputs": [],
   "source": [
    "opt = optimizers.Adam(lr=0.0001) \n",
    "model.compile(optimizer=opt,\n",
    "              loss='categorical_crossentropy',\n",
    "              metrics=['accuracy'])\n",
    "\n",
    "batch_size = 32\n",
    "model.fit(np.array(X_tr), np.array(Y_tr), batch_size=batch_size, epochs=1, verbose=1, validation_data=(np.array(X_val), np.array(Y_val)), callbacks = [history_cb])"
   ]
  },
  {
   "cell_type": "code",
   "execution_count": 9,
   "metadata": {
    "collapsed": true
   },
   "outputs": [],
   "source": [
    "#Saving the model for later reconstruction\n",
    "\n",
    "json_string = model.to_json()\n",
    "with open('models/model17_json.pkl', 'wb') as m:\n",
    "    pickle.dump(json_string, m)\n",
    "model.save_weights('models/model17_weights.h5')"
   ]
  },
  {
   "cell_type": "code",
   "execution_count": 15,
   "metadata": {},
   "outputs": [
    {
     "data": {
      "image/png": "[encoded data removed]",
      "text/plain": [
       "<matplotlib.figure.Figure at 0x7ff5682c0e80>"
      ]
     },
     "metadata": {},
     "output_type": "display_data"
    }
   ],
   "source": [
    "#Plotting loss\n",
    "\n",
    "plt.plot(history_cb.loss)\n",
    "plt.title('Loss vs iterations')\n",
    "plt.show()"
   ]
  },
  {
   "cell_type": "code",
   "execution_count": 14,
   "metadata": {},
   "outputs": [
    {
     "name": "stdout",
     "output_type": "stream",
     "text": [
      "Normalized confusion matrix\n",
      "[[ 0.78  0.02  0.01  0.04  0.    0.01  0.    0.02  0.    0.02  0.01  0.09]\n",
      " [ 0.04  0.71  0.02  0.08  0.    0.    0.    0.02  0.02  0.04  0.01  0.06]\n",
      " [ 0.03  0.01  0.78  0.02  0.    0.01  0.    0.01  0.01  0.07  0.    0.08]\n",
      " [ 0.03  0.05  0.05  0.75  0.    0.01  0.    0.01  0.01  0.02  0.    0.07]\n",
      " [ 0.02  0.    0.03  0.01  0.73  0.06  0.    0.01  0.06  0.    0.    0.07]\n",
      " [ 0.02  0.    0.    0.05  0.08  0.73  0.    0.01  0.01  0.    0.02  0.08]\n",
      " [ 0.02  0.02  0.09  0.02  0.01  0.01  0.68  0.    0.04  0.01  0.01  0.09]\n",
      " [ 0.02  0.    0.02  0.02  0.03  0.01  0.    0.77  0.05  0.01  0.    0.07]\n",
      " [ 0.02  0.    0.03  0.01  0.04  0.01  0.    0.01  0.78  0.    0.    0.09]\n",
      " [ 0.02  0.    0.05  0.03  0.    0.    0.    0.    0.    0.83  0.    0.06]\n",
      " [ 0.01  0.02  0.07  0.    0.    0.01  0.    0.    0.01  0.04  0.83  0.  ]\n",
      " [ 0.02  0.    0.    0.03  0.01  0.01  0.    0.    0.03  0.    0.    0.9 ]]\n"
     ]
    },
    {
     "data": {
      "image/png": "[encoded data removed]",
      "text/plain": [
       "<matplotlib.figure.Figure at 0x7ff56855b860>"
      ]
     },
     "metadata": {},
     "output_type": "display_data"
    }
   ],
   "source": [
    "\"\"\"\n",
    "Code from http://scikit-learn.org/stable/auto_examples/model_selection/plot_confusion_matrix.html \n",
    "\n",
    "\"\"\"\n",
    "\n",
    "import itertools\n",
    "\n",
    "def plot_confusion_matrix(cm, classes,\n",
    "                          normalize=False,\n",
    "                          title='Confusion matrix',\n",
    "                          cmap=plt.cm.Blues):\n",
    "    \"\"\"\n",
    "    This function prints and plots the confusion matrix.\n",
    "    Normalization can be applied by setting `normalize=True`.\n",
    "    \"\"\"\n",
    "    if normalize:\n",
    "        cm = cm.astype('float') / cm.sum(axis=1)[:, np.newaxis]\n",
    "        print(\"Normalized confusion matrix\")\n",
    "    else:\n",
    "        print('Confusion matrix, without normalization')\n",
    "\n",
    "    print(cm)\n",
    "\n",
    "    plt.imshow(cm, interpolation='nearest', cmap=cmap)\n",
    "    plt.title(title)\n",
    "    plt.colorbar()\n",
    "    tick_marks = np.arange(len(classes))\n",
    "    plt.xticks(tick_marks, classes, rotation=45)\n",
    "    plt.yticks(tick_marks, classes)\n",
    "\n",
    "    fmt = '.1f' if normalize else 'd'\n",
    "    thresh = cm.max() / 2.\n",
    "    for i, j in itertools.product(range(cm.shape[0]), range(cm.shape[1])):\n",
    "        plt.text(j, i, format(cm[i, j], fmt),\n",
    "                 horizontalalignment=\"center\",\n",
    "                 color=\"white\" if cm[i, j] > thresh else \"black\")\n",
    "\n",
    "    plt.tight_layout()\n",
    "    plt.ylabel('True label')\n",
    "    plt.xlabel('Predicted label')\n",
    "\n",
    "    \n",
    "#Prediction test set \n",
    "p = model.predict(X_te)\n",
    "#Converting from one hot back to integers\n",
    "y_pred = [np.where(r==np.max(r))[0][0] for r in p]\n",
    "\n",
    "#Ground truth\n",
    "a = Y_te\n",
    "#Converting from one hot back to integers\n",
    "y_true = [np.where(r==1)[0][0] for r in a ]\n",
    "\n",
    "#Caulculating confusion matrix \n",
    "cnf_matrix = confusion_matrix(y_true,y_pred)\n",
    "np.set_printoptions(precision=2)\n",
    "\n",
    "# Plot normalized confusion matrix\n",
    "plt.figure()\n",
    "plot_confusion_matrix(cnf_matrix, classes=['down','go','left','no','off','on','right','stop','up','yes','unknown','silence'],normalize=True,\n",
    "                      title='Normalized confusion matrix')\n",
    "\n",
    "plt.show()"
   ]
  },
  {
   "cell_type": "code",
   "execution_count": null,
   "metadata": {
    "collapsed": true
   },
   "outputs": [],
   "source": [
    "#Label names \n",
    "\n",
    "labels_dict = np.load('my_way/labels_dict.npy')\n",
    "print(labels_dict)"
   ]
  },
  {
   "cell_type": "code",
   "execution_count": null,
   "metadata": {
    "collapsed": true,
    "scrolled": true
   },
   "outputs": [],
   "source": [
    "#Prediction test set \n",
    "p = model.predict(X_te)\n",
    "#Converting from one hot back to integers\n",
    "y_pred = [np.where(r==np.max(r))[0][0] for r in p]\n",
    "\n",
    "#Ground truth\n",
    "a = Y_te\n",
    "#Converting from one hot back to integers\n",
    "y_true = [np.where(r==1)[0][0] for r in a ]\n",
    "\n",
    "good = [1 for i in range(0,len(y_pred)) if y_true[i]==y_pred[i]]\n",
    "accuracy = len(good)/len(y_pred)\n",
    "print('Test Accuracy: ',accuracy)\n",
    "\n",
    "#Computing confusion matrix\n",
    "C = sklearn.metrics.confusion_matrix(y_true,y_pred, labels=None, sample_weight=None)\n",
    "S = np.sum(np.array(C),axis=1)\n",
    "C_N = C/S\n",
    "print('\\nNormalized confusion matrix\\n')\n",
    "print(np.array_str(C_N, precision=2, suppress_small=True))"
   ]
  },
  {
   "cell_type": "code",
   "execution_count": null,
   "metadata": {
    "collapsed": true
   },
   "outputs": [],
   "source": [
    "#Prediction training set\n",
    "p = model.predict(X_tr[0:1000])\n",
    "#Converting from one hot back to integers\n",
    "y_pred = [np.where(r==np.max(r))[0][0] for r in p]\n",
    "\n",
    "#Ground truth\n",
    "a = Y_tr[0:1000]\n",
    "#Converting from one hot back to integers\n",
    "y_true = [np.where(r==1)[0][0] for r in a ]\n",
    "\n",
    "good = [1 for i in range(0,len(y_pred)) if y_true[i]==y_pred[i]]\n",
    "accuracy = len(good)/len(y_pred)\n",
    "print('Train Accuracy: ',accuracy)\n",
    "\n",
    "#Computing confusion matrix\n",
    "C = sklearn.metrics.confusion_matrix(y_true,y_pred, labels=None, sample_weight=None)\n",
    "S = np.sum(np.array(C),axis=1)\n",
    "C_N = C/S\n",
    "print('\\nNormalized confusion matrix\\n')\n",
    "print(np.array_str(C_N, precision=2, suppress_small=True))"
   ]
  }
 ],
 "metadata": {
  "kernelspec": {
   "display_name": "Python 3",
   "language": "python",
   "name": "python3"
  },
  "language_info": {
   "codemirror_mode": {
    "name": "ipython",
    "version": 3
   },
   "file_extension": ".py",
   "mimetype": "text/x-python",
   "name": "python",
   "nbconvert_exporter": "python",
   "pygments_lexer": "ipython3",
   "version": "3.6.3"
  }
 },
 "nbformat": 4,
 "nbformat_minor": 2
}
