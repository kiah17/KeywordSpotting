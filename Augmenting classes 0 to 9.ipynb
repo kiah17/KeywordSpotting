{
 "cells": [
  {
   "cell_type": "code",
   "execution_count": null,
   "metadata": {
    "collapsed": true
   },
   "outputs": [],
   "source": [
    "import tensorflow as tf \n",
    "import numpy as np \n",
    "import matplotlib.pyplot as plt\n",
    "import glob \n",
    "from scipy.io.wavfile import read\n",
    "import IPython.display as ipd\n",
    "import librosa\n",
    "import librosa.display\n",
    "import librosa.feature\n",
    "import pickle\n",
    "from scipy import signal"
   ]
  },
  {
   "cell_type": "code",
   "execution_count": null,
   "metadata": {},
   "outputs": [],
   "source": [
    "#Loading unnoised data without silence samples\n",
    "\n",
    "X=np.load('intermediate_pickles/X.pkl')\n",
    "Y=np.load('intermediate_pickles/Y.pkl')\n",
    "\n",
    "print(X.shape)\n",
    "print(Y.shape)"
   ]
  },
  {
   "cell_type": "code",
   "execution_count": null,
   "metadata": {
    "collapsed": true
   },
   "outputs": [],
   "source": [
    "#Loading noise \n",
    "X_n = pickle.load( open( \"intermediate_pickles/X_noise_shuffled.pkl\", \"rb\" ) )\n",
    "Y_n = pickle.load( open( \"intermediate_pickles/Y_noise_shuffled.pkl\", \"rb\" ) )"
   ]
  },
  {
   "cell_type": "code",
   "execution_count": null,
   "metadata": {},
   "outputs": [],
   "source": [
    "known=0\n",
    "for lab in range(0,10):\n",
    "    known+=len(np.where(Y==lab)[0])\n",
    "\n",
    "X_time_shifted = np.zeros((known,X.shape[1]))\n",
    "Y_time_shifted=[]\n",
    "\n",
    "#The signals will be right shifted 50 percent and left shifted 50 percent of the times\n",
    "prob_right_shift = 0.5\n",
    "\n",
    "get = 0\n",
    "\n",
    "for samp in range(0,X.shape[0]): \n",
    "    \n",
    "    #Only for known data\n",
    "    if Y[samp]!=10 and Y[samp]!=11:\n",
    "        \n",
    "        rand = 0.01*np.random.randint(100)\n",
    "\n",
    "        #Right shifting \n",
    "        if rand > prob_right_shift: \n",
    "\n",
    "            #Random number between 1 to 200 ms\n",
    "            shift = 0.001*np.random.randint(0,200)\n",
    "\n",
    "            series = X[samp]\n",
    "            series_shif = np.roll(series,int(shift*16000))\n",
    "            X_time_shifted[get]= series_shif\n",
    "            Y_time_shifted.append(Y[samp])\n",
    "\n",
    "        #left shifting\n",
    "        else:\n",
    "            #Random number between 1 to 100 ms\n",
    "            shift = 0.001*np.random.randint(0,100)\n",
    "\n",
    "            series = X[samp]\n",
    "            series_shif = np.roll(series,int(-shift*16000))\n",
    "            X_time_shifted[get]= series_shif\n",
    "            Y_time_shifted.append(Y[samp])\n",
    "        \n",
    "        noise = np.random.randint(X_n.shape[0])\n",
    "        X_time_shifted[get] = X_time_shifted[get] + X_n[noise]\n",
    "            \n",
    "        get+=1\n",
    "\n",
    "    if samp%100==0:\n",
    "        print('Done shifting '+str(samp) +'samples')\n",
    "        \n",
    "Y_time_shifted = np.array(Y_time_shifted)\n",
    "Y_time_shifted = Y_time_shifted.reshape(known,1)"
   ]
  },
  {
   "cell_type": "code",
   "execution_count": null,
   "metadata": {
    "collapsed": true
   },
   "outputs": [],
   "source": [
    "np.save('data/X_known_MORE.npy',X_time_shifted)\n",
    "np.save('data/Y_known_MORE.npy',Y_time_shifted)"
   ]
  },
  {
   "cell_type": "code",
   "execution_count": null,
   "metadata": {},
   "outputs": [],
   "source": [
    "print(Y_time_shifted[6111])\n",
    "ipd.Audio(X_time_shifted[6111],rate=16000)"
   ]
  }
 ],
 "metadata": {
  "kernelspec": {
   "display_name": "Python 3",
   "language": "python",
   "name": "python3"
  },
  "language_info": {
   "codemirror_mode": {
    "name": "ipython",
    "version": 3
   },
   "file_extension": ".py",
   "mimetype": "text/x-python",
   "name": "python",
   "nbconvert_exporter": "python",
   "pygments_lexer": "ipython3",
   "version": "3.6.3"
  }
 },
 "nbformat": 4,
 "nbformat_minor": 2
}
