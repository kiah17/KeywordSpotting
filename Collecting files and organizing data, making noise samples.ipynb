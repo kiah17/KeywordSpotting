{
 "cells": [
  {
   "cell_type": "markdown",
   "metadata": {},
   "source": [
    "### Importing libraries"
   ]
  },
  {
   "cell_type": "code",
   "execution_count": 1,
   "metadata": {
    "collapsed": true
   },
   "outputs": [],
   "source": [
    "import tensorflow as tf \n",
    "import numpy as np \n",
    "import matplotlib.pyplot as plt\n",
    "import glob \n",
    "from scipy.io.wavfile import read\n",
    "import IPython.display as ipd\n",
    "import librosa\n",
    "import librosa.display\n",
    "import librosa.feature\n",
    "import pickle"
   ]
  },
  {
   "cell_type": "markdown",
   "metadata": {},
   "source": [
    "### Creating Dataset - First 11 classes excluding silence"
   ]
  },
  {
   "cell_type": "code",
   "execution_count": null,
   "metadata": {
    "collapsed": true
   },
   "outputs": [],
   "source": [
    "# Collecting all subdirectories\n",
    "folders = sorted(glob.glob('./train/audio/*/')) \n",
    "\n",
    "# Input X, Output Y, and labels for each class\n",
    "Y= []\n",
    "X = []\n",
    "labels_map = []\n",
    "\n",
    "#Words required for the competition \n",
    "reqd_words = ['yes', 'no', 'up', 'down', 'left', 'right', 'on', 'off', 'stop', 'go']\n",
    "\n",
    "#Creating labels for each of the 10 required classes \n",
    "label = 0 \n",
    "\n",
    "#Words not in the required list are labelled as class 10 : unknown \n",
    "unknown_class = 10\n",
    "\n",
    "#not including background noise data \n",
    "for word_folder in folders[1:]: \n",
    "    \n",
    "    #Extracting the word from the folder names\n",
    "    cleaned = word_folder.replace(\"./train/audio\\\\\", \"\")\n",
    "    folder_name_cleaned = cleaned.replace(\"\\\\\", \"\") \n",
    "    \n",
    "    #Collecting all files in a folder\n",
    "    files = sorted(glob.glob(str(word_folder)+\"/*.wav\")) \n",
    "    \n",
    "    #For each file, extracting bits and sampling rate using librosa and storing bits in X \n",
    "    for file in files: \n",
    "        sr, bits = read(file)\n",
    "        \n",
    "        #If the number of bits is less than 16000, the array is padded with zeros\n",
    "        if len(bits)!=16000:\n",
    "            b_p = np.lib.pad(bits, (0,16000-len(bits)), 'constant', constant_values=(0, 0))\n",
    "            X.append(b_p)\n",
    "        else: \n",
    "            X.append(np.array(bits))\n",
    "    \n",
    "    #Labelling from 0-9 only those words that are required\n",
    "    if str(folder_name_cleaned) in reqd_words:\n",
    "        \n",
    "        Y.extend([label for f in range(0,len(files))])\n",
    "        labels_map.append((folder_name_cleaned,label))\n",
    "        label+=1\n",
    "        \n",
    "    #If the word is not required, it is labelled as class 10: unknown   \n",
    "    else: \n",
    "        Y.extend([unknown_class for f in range(0,len(files))])\n",
    "        labels_map.append((folder_name_cleaned,unknown_class))\n",
    "    \n",
    "    #Keeping track of the process\n",
    "    print('Collected '+str(folder_name_cleaned)+' Folder')\n",
    "    \n",
    "np.save('labels_map.npy',labels_map)"
   ]
  },
  {
   "cell_type": "markdown",
   "metadata": {},
   "source": [
    "### Shape of X, Y and label analysis"
   ]
  },
  {
   "cell_type": "code",
   "execution_count": null,
   "metadata": {
    "collapsed": true
   },
   "outputs": [],
   "source": [
    "X = np.array(X)\n",
    "Y = np.array(Y)\n",
    "Y = Y.reshape(Y.shape[0],1)\n",
    "print('Shape of X: ',X.shape)\n",
    "print('Shape of Y: ',Y.shape)\n",
    "print('Number of samples: ',X.shape[0])\n",
    "print('Number of bits in each sample: ',X.shape[1])\n",
    "print('\\nWords and their corresponding numerical labels:\\n ')\n",
    "for tup in labels_map: \n",
    "    print(tup)"
   ]
  },
  {
   "cell_type": "markdown",
   "metadata": {},
   "source": [
    "### Creating 12000 1-second samples for noise"
   ]
  },
  {
   "cell_type": "code",
   "execution_count": 25,
   "metadata": {},
   "outputs": [
    {
     "name": "stdout",
     "output_type": "stream",
     "text": [
      "Shape of noise batch input:  (5000, 16000)\n",
      "Shape of noise batch output:  (5000, 1)\n"
     ]
    },
    {
     "name": "stderr",
     "output_type": "stream",
     "text": [
      "C:\\Users\\suhai\\Anaconda3\\lib\\site-packages\\scipy\\io\\wavfile.py:273: WavFileWarning: Chunk (non-data) not understood, skipping it.\n",
      "  WavFileWarning)\n"
     ]
    }
   ],
   "source": [
    "folders = sorted(glob.glob('./train/audio/*/')) \n",
    "\n",
    "files_noise = sorted(glob.glob(str(folders[0])+\"/*.wav\")) \n",
    "X_noise = []\n",
    "Y_noise = []\n",
    "\n",
    "for noise_file in files_noise:\n",
    "    sr, y = read(noise_file)\n",
    "    random_start = np.random.permutation(150000)\n",
    "\n",
    "    for start in random_start[0:5000]:\n",
    "        if len(y[start:start+16000])!=16000: \n",
    "            b_p = np.lib.pad(y, (0,16000-len(y[start:start+16000])), 'constant', constant_values=(0, 0))\n",
    "            X_noise.append(b_p)\n",
    "            Y_noise.append(11)\n",
    "        else:\n",
    "            X_noise.append(y[start:start+16000])\n",
    "            Y_noise.append(11)\n",
    "\n",
    "X_noise = np.array(X_noise)\n",
    "Y_noise = np.array(Y_noise)\n",
    "Y_noise = Y_noise.reshape(Y_noise.shape[0],1)\n",
    "print('Shape of noise batch input: ',X_noise.shape)\n",
    "print('Shape of noise batch output: ',Y_noise.shape)"
   ]
  },
  {
   "cell_type": "code",
   "execution_count": 35,
   "metadata": {
    "collapsed": true
   },
   "outputs": [],
   "source": [
    "ipd.Audio(X_noise[2000],rate=16000)\n",
    "with open('intermediate_pickles/X_silence.pkl', 'wb') as x:\n",
    "    pickle.dump(X_noise, x)\n",
    "with open('intermediate_pickles/Y_silence.pkl', 'wb') as y:\n",
    "    pickle.dump(Y_noise, y)"
   ]
  },
  {
   "cell_type": "markdown",
   "metadata": {},
   "source": [
    "### Shuffling the noise samples"
   ]
  },
  {
   "cell_type": "code",
   "execution_count": null,
   "metadata": {
    "collapsed": true
   },
   "outputs": [],
   "source": [
    "shuffle_noise = np.random.permutation(X_noise.shape[0])\n",
    "\n",
    "X_n = X_noise[shuffle_noise,:]\n",
    "Y_n = Y_noise[shuffle_noise,:]"
   ]
  },
  {
   "cell_type": "markdown",
   "metadata": {},
   "source": [
    "### Saving files"
   ]
  },
  {
   "cell_type": "code",
   "execution_count": null,
   "metadata": {
    "collapsed": true
   },
   "outputs": [],
   "source": [
    "with open('intermediate_pickles/X_noise_shuffled.pkl', 'wb') as xns:\n",
    "    pickle.dump(X_n, xns)\n",
    "with open('intermediate_pickles/Y_noise_shuffled.pkl', 'wb') as yns:\n",
    "    pickle.dump(Y_n, yns)\n",
    "with open('intermediate_pickles/X.pkl', 'wb') as x:\n",
    "    pickle.dump(X, x)\n",
    "with open('intermediate_pickles/Y.pkl', 'wb') as y:\n",
    "    pickle.dump(Y, y)"
   ]
  },
  {
   "cell_type": "markdown",
   "metadata": {
    "collapsed": true
   },
   "source": [
    "### Reloading saved pickle files"
   ]
  },
  {
   "cell_type": "code",
   "execution_count": 4,
   "metadata": {},
   "outputs": [
    {
     "name": "stdout",
     "output_type": "stream",
     "text": [
      "Shape of X:  (64721, 16000)\n",
      "Shape of Y:  (64721, 1)\n"
     ]
    }
   ],
   "source": [
    "X = pickle.load( open( \"intermediate_pickles/X.pkl\", \"rb\" ) )\n",
    "Y = pickle.load( open( \"intermediate_pickles/Y.pkl\", \"rb\" ) )\n",
    "X_n = pickle.load( open( \"intermediate_pickles/X_noise_shuffled.pkl\", \"rb\" ) )\n",
    "Y_n = pickle.load( open( \"intermediate_pickles/Y_noise_shuffled.pkl\", \"rb\" ) )\n",
    "\n",
    "print('Shape of X: ',X.shape)\n",
    "print('Shape of Y: ',Y.shape)\n",
    "print('Shape of noise batch input: ',X_n.shape)\n",
    "print('Shape of noise batch output: ',Y_n.shape)"
   ]
  },
  {
   "cell_type": "code",
   "execution_count": 2,
   "metadata": {},
   "outputs": [
    {
     "data": {
      "text/html": [
       "\n",
       "                <audio controls=\"controls\" >\n",
       "                    <source src=\"data:audio/wav;base64,UklGRiR9AABXQVZFZm10IBAAAAABAAEAgD4AAAB9AAACABAAZGF0YQB9AABU/Ob0mPpTBIkEF/fS6Ob5dfZp8SgKjfnE+BYD3f/f/cME8/zz98YBf/6a4u0CMA4iCUTxCApl5KL2BjWx+O5I7DEBgCTnn1axDSj6b0AiFYa5UiYgA0bg/SCCD7oBjP1QB0oU2Qma9HgLAACE8Y0MKAd1FWj3bu9HBvf++P0m9N/6TffVFbQTTP8VDBwOzfLFClcQQgRC/48ArwTsANn+v/osCJP6kPY+AEAK5Pjg/zEFdRrLFzft4PKfDg0Prfm3/XH/7QIeAqwAG//pBnv/GgnHBZMIsvcr/qX+Nvro/mzwUf9q92zp7Qb9+L/dfBiJ+8/k5RZA/Q3uMQVYD+z8HOMoCqYCSvA/+B37Qg0n/zPuCP9EBkoRIP0p+IoP6AcN+k/9rvEL8m0Epf9k+Db4DQ9A/2j6jwWaCLYDE/R6CWf9l+8o/F75NBaX8qjeLRvZBBgTId+pGoARDvYb9XTylw4ZAxP+9ALZDJ73/gHVBLQJYgbr9BIJzwdmF9wJqvxsBqH7yhSMCsgMGgtI9c4FqQrL/fr18RRjDnAEggbS+VAQJB85Aif6pAODBErrf/tqCi4IhOyf/bUGRwbu+Nf7dg3sE3EAg/QD/M4LdfIIAC4N2u64BgQBAekjFAP9fer7/n4Y1/0Z59QOpt7QDtrgOB8v+pf7uPoC/v//qu0XEZn/+/VX72wKRQHL+OAdH+pf8Y/tggbQAykH8O789G35fQG28oT5ZvZT6i3wVAWRFywLUfOe/JsCxuDI/usUWwy86LXYUBoJ+S8IHxMJ6sD1FxO08lT+pBloFXsWn+8X/DYPJwg69pAJWfBJ5Yf2eBqF2qn6IAoEAm33MwFLEIv94ReEDUwI8QrMAB0LRf9UBTsPNgWA7sX5vPvWCNcGTQdR8CX18vl29W8PnRIvEToSZfx7IKgLEQ1pFFL+7APAA0b00gbl9zoC0/O9DSH+tQSVDvH1tuJn9QgIDPoXFtsCRAgd8QbfH/34B/YFXAmK+Wb+FgoE/BTuzQE4EAf2WPuF9/r7JvdXAl39PxdqEW36r/7e93cC6Aa5AsHxWf60AB/7gvaO9a8Kd/nDAprujwP+5q0A+fK49XcH8P2mARHqZwDa+lbzNwKQBIr8OvGk9OsOqw5n8J31ygodBsf4r/c1BsUKy+6bA0sXpASe6/wGjgMtBeH9ewxEEzTrWuqjGtQJwAw4EJooFjfI+8nn/DJb/PbkyRsNJUnUffhMEkILJvW5FR0JZ/3N8oT0pf7bFvoI6v6MDTYAju6gINcazwDAFn78yODt9nQFYvuK9fUPJNeL5U/9/O92CFv/VwTo/lYGS/yX/ub4khDt+xr73AHjDsME5fQKCLj13P2n/FEKGu2b7u8AKQFH+yL2wu7e8FEIYREK/fHulfuEAwT0CvFXBL4F8OVv9agH2QvF5kH34/tSAlH1zf5IDFP9ivUNAykBbvNe6YDpkfNhBobvsfi1BIL1Mf+MDLQK2xO67N3nXg6z8Ff7UwFMARcFO/oI/ir/qAzP/AX//BPYEqIW2/wBBWEEHPU33qv+/gaJ+BsSmRR5/1z+YAAHDsoH2gRe9IcRCP/S+Sn+ihTQBIf49/kj/2wDVgC/5ToCjfng8roc0+m95h4dr9J87T/ytTTIBs7RLRStDO0M7uYK/cn/kvRR9vH3hPlYC70G9PJTFzAYVgHZCT/76gz2DLIMQBIN5k3vkBN97gri5wrkJgv7zdzDC0f7vO01BBgO5/2p3aTzoR2uCm7irwoO/e35jfui/zAMFPfd5g3zEv+vCrr2yPxx/S4EowlpAcztZQN0ESUFAPFX9RoCgPfF98D8owcy/nj9tPkEAjb2Afco/hoJXgXt9BUORPh++c7/L/zzBhrxHvMuCNwOQQlM/TX5JvlZDwn95v20CvX7wPzDBWgAwwKqBY33AQLyBmHe3w91KGL7hPkjCG0Mbci3ARYUKAA7+B/yfv+f+dUGZwgkAVUOHvWuBuEXFBc+Ez4A/QPbBTH9KftxBdP4mOlj+QgFTBDJBsoETfr+/uL8/gwzAc/yOgFB6CnshPGEBGQLTPiX8j8G2wCT/80RRgAM9p8EJAlm9uP79vKwEFMDLfC09Lj4DOVo5ssGVgNv7o8AjBYcDGnqouwt+VL+/gF0/jQMdfH3+Xj1bwpD+uL61hmi/6jqlf0E9y0DTgRRA88ROfDF3GID4Qsr/oASnvSg/pf2lArDHfYH7t037WgbkfzK5kQISvX16iETsgyy+ZjnCRdsIC0DYRZxJy8bz/SA+BELLgvk+0oNnQX0B3P9h+zp+IEEOAmGB+X84P67+DEGnv5uAygM3gRWALnmzftoDt3r4ymXJyPo2ACREVQCbd9rEGwKywtJ+N/4pRmEHmLT4DUd+O/yb/Mz9gUGJelrH+oKbPFt/BAuyARsC2b0iRcW8Pf5rwSyBksAsQzm7KHx1vfPAkoK9vBS+sz6EQOsCC/wfwYIES3+V+ZaE+b21+hVB2rzpQyVCdQA/O31/f4HjQB19p8G7f1/7JsILA059ffqTwO8CxzwbPjRA+D+s/ri6XEIkv5/2f7jBfhTELYY5v0P/F4M5weOA0b5GxIz+3rxVgrpAzf5RBB+BEELFQsK08b4Cz2W/LLyWhAZAKDp/xkPG677M/508+YBfw2i8VL02wq9DzX+oggA+HcLEger9K8KhQJw+yMR8/XrEnATGwaK/mURtPXP8kMPERBo/vT+dfn3CCwKsvFG/JsHSgpO+HYMGwpa+anvo/6pEuUFc/prAXXqU/GR98YEPQbsB/sH9fVc9kPygPOGDMf8keu98DoS/AZ17WADQQTs+vrqSe+3/cLrO+weEyD9HvAt/kUMwvNz+qn4Q+my8kgOYgaj9PD4CRjEBPTgeBKJBOX+7vxx/w3+xev08J4VogZz7B0BZguh+eP52wX59sADsffy/VQFCAinAGr+aAzz/LUDMQ3W9Xj9Th+N/kTsGP7bG/4O2P0ZCJUIjPo47HcV9hHh/p34uAvUB4IFbAFi/SIVA/KZ7fUDxBCrASL2ZgymAT32tgdTC6z3Nftv/mwN1PvN/joElw44CEDuevjHDYj5ZvnW/jkCtARF/cj0OAMXBFYGug+EBtPznutk55H1tfkgAzv/+wAD/w7+1fMtAEsAaPB9BgMR0AN898TzX+wnAfgFVfQj+YP+2AFq5Lzyu/pvA2TuLgGk+2T+Hfa19iMCMgCr/e3+b/df8/38GAQy/ub0HgCpDaEChAHKEbf8HN8b21f0HAQ7/6Lp3ONE/sENTvT79JoVwB7mAbf+LwzaDynv0e3+EHX0J/vs/+ENhPnV+HsKQgY9BFvrjxORA3EDRhOX6FcCCRLaFz0XpuN8MBgJRgDD+/sJ+hJkAaUq3P4//foNjwqq+vr15/qDDFcHxfyr/cUDUwM0/dwJBQCUER30+iB/BnPx4Q5EBMr6w/ea/ZAEBQXW5KXwUgy1BE/z2ffLBjH98fJy+3IQm/8b6VAMeg7p+EbwwPlGELTm3OqgD70IV/X5As8EtvpFFDXocvDA7X39bu5D/kwBIfl1+0b75Qod9oPvJfja+DAC4v0k+7ICeQCe/BX8TfeL6o8CyPcbAdsF4/7b/9TrGO5M/0EJOf+9AdIGgwU973v6M/unDHoEaPwbCEYAkQW18TYAOwWR81T///rvAs/8R/pD/yIJGgzTCgz/xQKODWYR2vtt+8P3qxWMCikCVPgl+GP5Ov18B9IQ9xMfBGwDOQjB/brqsgYoGET9GOeHFpIMaOuZ9QUG4BjoCxnuCPr09h8HuPiX8tENuCE1Cf7oQ/8cD/INtvWPCsAPJwMq84MAuhlv/gkLOv2o96PvT/wk/kUWQvgK8xUJogGE/UQSNwBN96r6ygIG9bH/MvlB9BgNnQF08NDxyf9CC0r6DvmIAB7/DucL9NgDkvfA9ZcJFfdf817t5PM6BGrwZ+xQBqkK+ei98XYFpAhl/Nv1swM1BqoCZO87/fkOKQIt7nz7jA2Y9hH4WwXPBTr2wPxhC6YYRwNz+F0B1gJgI9/zGwG6+84DLvuV9m4JYxO2/qf6kwrAHVz3oPOcBO4cHv/t7R76awfs+qEEJQyzA/Duw/wzFZkPrgi4D4P8wAis+p0I1/4GB3z3KfZDDAj4P/RC9togpgEcAKMC4fSsA6z67gidF2X19/ErDp8LTfX+9ncF8/07AQnq2APxExkHvu2T+50QLe4a7BP98RsMEG3h9gIWAQPrQeruBqoKwP4T6BvpFv0E8s3xL/8xA5j93exxAWT7EwIO+1bpJgKF/5sKk+4U/1wFG/gu/oD6n/MvAbf5sRLMB/D69wuDALcCrP+7/KEOu+sV8cIIQAqN9tPxyBqHAYYOoPVW9tABMQ2KE3UByvL1CIz3YfsS7msQrRZS66/6fQsoFlrv+PMrCYb9COLM7e4S6O0u7GQEexSpCyb+/Pa6ECv7HwQxCF0KaQQA7iEEZxQBBCPitf2TEG33PuGX98IZlwl8/JD2EQjN+/zt6AHIEUX/6PvRByoBge8Z8xsFSwLS8ub5Tw/E88nwjuViA9YeLup6Ah4vkvxb+PAG2AV++nT65vvS9o76+QJT7pAN2gN08HT5fAcn+PD6+vAJKRrmoepuGR7rxvP85xoEbu8zCXAG/+Qu+V7wcQ0FEFb6X/sM+Bn/9vC49oD9eAjd95XxD/o+BYsON/BI7ZkPWwHs5M0CyRAj/uYJWAu8Bm/3EPa6/Wn/+f6j/msBsQOX61UBtAnm9E3/lhFSBa4FNAj/AwwG4Prc+fMFChG9/bvty/uQDsENpvvKBIYY3f/95yX6fh3wFHr49AeNGuj2Ne029u4b8AH/7gsA2hcVFhb7Iu7pITcWfwPcAaQSTAiY6lkCxgb2BXL50vF69nXvJfxkA7ALxPud9RAMBQvIAEH2n/jjCW0MBfqB7WTnoRItEWr86vxDDonlTN/xDssD9PBp9t/4LvhQ+X0DZ/1b8JX2YAUcCU363wi0+sPyNgFyFQwDg+sE8RkItf249TH7FAgs7tv1rwcBGOTxuf7oFfEAWO6HBsz48/1ACDkTNfv57cD8nwGuDXYSiRXc8o/ubRi9C6wHtA4hAGMALv33/UII0vKE/WoNbA0x8zL66QF8+X0KYRAEGJX9Ve9z6Uj+EwbN/qH24wAj/+sB1/0LCbMUTv54A+UYFwUj/r78t/73DisHNgvDBdPweAFt+fUDqwHqAK0Ci/2M/IQGDwqOC/34YAh8B+4Faftb9aXf2AVBIpz55N1oCmP6Avit6HP6PxBJ/iT+se0F6a33ZuP3FxYSuOuw5Uz9WPsw92z/qgXD/tHwB/n0EK0V0/hu8UkQmQX99T/xN/ISDoH74/49Cab7WOyh70bv/Rl8BlH6RfPaBsbzkPlhCwkYRvByAm0RUPmZ+p4EcAEd87QaeAEI8hkFXQN0A6AKIRBh/mD9NQkVCdH/jum//ZkTPweX+UUDVAhj+brzGwO9ETIFnPE0DE4O+hQECSsCDQI4Duf3Z/Y8CY71qvc5CosSxgvT4sECrgtTCaADWf8XBYn/vgfOAJQKpPgYAX/+lPna9uT91/0V+R4H+vhE7L32H/eeCSAKyg46Ej7rMtp/Cb0BoAwz+Zf0CfmpAf3zcAGZAPvtBOjED58BIs/X7cwZuBl67QIELg4eAi/rHe/wCxsLaeiy4z3/Tfrh7Az/UfYu9kfzpxLvCjTpBft9FZ8D/+z/5zvzOfzp8GfxTgnNHBIHoOttBAwUKQKO9k/wyQEnHoD1dfQWEszwzAjlE/nt//C9CBn/gQHH/2T5O/ZzA9oQYQ7/AYcDIAhNCdj88wWTCD7+2/fJ9Z0NXvr8+zsPDAmqEyLuAvmiBlv6ZhBrCVMSxQKO9Zz+YwkaDvkL4vpdAb7+r/LCAUT+lwBzASYJCQJb9536ogqhAeUHSO5EC78Uxf7c7I8JJRmR+OfumgsGDpfyTQchAv0CSf1p3kv0OguVC2T7EQEQBBf5GO8O+KwHTgRmAmX8YgH9AGr1FQSW/fz2owJ88rL2Z/URAeH+pfW0D+8Hh/ZB/FMOFPpq8Er1JhYq99n8SwYABaDyB/mD73QKeAThBDj9cwPB6uzybPxa+wsR3AR3AAz6yPfQ/yAIfvQS8j8ST/c0/J/0XfvFE0YMKf0gAMgMIgiv/4z3gw//BSoBJ+WTBY8JCwDxFMLz/RFVBzL5KfuUCtgvHRCk87MgMxrGDcYCvw2V6nXvDRPM/w4QHv8HA0gCWQrxA+H9LAN3AJf5oRBTFG8R6ATW/vkCBPHQ7y35hgIaBFXnZ/HdABL0oeezC0UMv/1E/TgQTAPBBhP73BANGyLsu+YH8/L7CPpq5Abypxmw/vXdnQ3CFkLpvfqQJjwMs/jO/W0FtAlz5ZXodB+GDpTmZfI4F73peOAs9l0LDQgrACL63Qey9r4HxAs38nLlY/K4Banzwf7mBqobE/0c70nxLQ7u7CDdev4GBWUC1v/OEOcAsvsIAkkJ1gPv8Mv+cwP/AH/98QBuFB4YSvJn2PMAcRJi/dIOyQ3VCEz2ggPN/HvurgEdCOURnfpo6fb6NQQy/hsFcxD3EHcLgfZ7+FUGrgM0AOUUugYO+cMJ5AbV7HICXv/u9tQHhwU6HaLw8QeJGf/2+P3Y/BL89fFZGxYDWfDsB0rprtjk/akBRPh6+TUHlPx7+EoDbwC9/cH9wvq4/6L8h/0+BzUXHgLt/aD4NPeY8KL2yQHY6z73yf9t/BL03fjLDhsA6vLwBA4L+vZpCMIFLAYMCVbwt/S3Ah4MFPJg5/D9cf0W6Y7qQgqYDRDrDe2CGdAID+vL+bgFBhHk+p32oAcp++EEVvjl/2f7NAccCXb9/QomB0T9UAyTEo8J6/9AAdQAFvqR/ygZkw0m/LDzpf9VAdX49/0L+TAWMw0k8QD1Av0JAh34RQWLGNIMlvxZD7sP8wr6BWX8Zxcd9vnr9ipVCT0a4+Ye65wXTiNTEOjjjhDqAKrpQQKRLeAM0cvCA8Yo8w8q3Zv3nyQ+6WbtdghoGq38qO9gBZD04O5yB94a3vzu7iT7IPw089b+PBZPBVHpp/GW/a38V/JxA08ATv0s7obsS/7H+EnqffVCCBUE4PIx+DEG8gHm6krwsBMs+lvwYfIhFr4HTuOz6mkB+AMS6znuYhIcFVbn8upnGZgQ+AH78sTzSwy/DYf/gPhpAUb+OfWtANULCAIo81DmFPwUBzT4sfjvCq8K5gQv96jtnPfhCyMKlgA9FdIH3gvP+Sb7KgWLF+f92gFeCifUi/bgH0MCqf9iA8/8cQW0D279dvcSCvHp0QpWD6z89hbW6w77wCkP/Q7oQufVCKAFY/npASUUfPQM4ATtgxr2Ck824AJkz1jeGAumJMH9MgQT/oEGLQM56Wn45vPJ/aX6Nf4BAMEBLP16+C4ILvYcAM7xLP3LDb8LdPomAnMI7faY88P+BwM19t0Kv/+wAXb1zvM9/Y792vrRAOET4+0m5vQEjfw/+TH9av4oDJsCgv8ZCt3rEfP4/N/4Afl9Aezz4vB/50To7PeaEFYBe/CtGDYQUgdH+3vpGP54CiXzzPUy/7gIAPM56+P75AO/+AAAPR8JFxjzDwYaDpb1sfejETIT+/8s23j9fAnc8bnwgB0GFv/6JP3P7XrnqAX2JJD23BiJ77wuVfEK9uYSexYM7zrstxBZFDHp4AdE8Qz7YQZj9xUCigAk6j/5CwAa/HbwYAeB6qv5UhHVBET5e//g/h73mguq9TsBmvN8/tcJufoVAmgAZwGjAlcJhf7f+Gj+HwRh/iEHqe+77bDxwv9bAD37IQK3Afj62u//5U/4wxFK+qbqTvNCD5z3YPIc+SsOhQDq61X3HfhU8LEAzv0j80sGXf/y/r//awEHEM4Fl+/NAmIKNPCM/1UEtwkpBn/9ISJRGSfxCwe18aEQTt479gjz1QQQBOrrqASUDKUMXf+eBxMJnQHJBk8CrAdtB8L6MBDjFlD+G+vl6I0FWheNE5kJmPXlDrf+2vvI+a8Mk/269Nv8JBLgD7QCPRI0B1f5gwQzBqYEhPhACh4F/QNjB5n/M/NC+6gFWw/S/qD6FACDAn4EmAFI/hj23REzBk/z+/KeGNcN1fN79ZIEyvLR7tHuThKECcDp5vvYAYYEGQpc6HfyJxlcDsvjEerV+xz+IOK6+JsMY+3T5+DyvQiO6crX2AgDA7L30vmT/yf/g/KZAggHWfw6/aUKhBAt+jbweBR7+Mrf8wGoBZX27vpm95EA0QPm8w4Cew91BI4IoAPg6YEO0R1R8RoHehAS/qDwBvy+DC4BLfTI9lYcxRbe9iPzTgjvEGT76foE/sjynBAb+M4Dygfb81L1QwOuBiD8+vi0BakQ//+Z+r8SMRI3/DTnvx9eDo/zbPpJE9QVUfOEA2MMov3y9CwD1Qaj8jv8vw35+57vnu16BC4JYA/L8cX0BRZWEu3xBfPVCIokIfC292cx6ftdxyrf0SAIDDvObvNEBiv28dqj63wMe+5r9OD+pQVbAeHv4PpfBikNa/Fz4iX4Dg7g/G3yavyOIUP6NuclBvMDPedlACETBPTE71ALaQvT6Q/rBQBPCtoElf5eDykOcvdw8dn7BPykBjn+6upa6rH1cP3bKk4Zqe8SGcIi/wCEFAT+kA4oFOAJU/sCA+EEKALx+dwCuRPvBVz2kfjA8DUBNgYLAkgH/AN4+JwHDhXS8mQD4xxvACH7Zvm5BDUh8u26AU4hDgJO6n0V6Pyb97HipCUbEIHxkN6eAFoTjfbE6pf7qfoYFxwHWt4LFSgd1fMV7Wz2RvZd5Wjy8wXMDSsE3vf7+XoCDPh8/O7xuv8e/pAJgw5HCGURAPPn7pQJGBD07ebsRRFu/WHq7QZX7TAL0xb+174KehPx6dL0xhMS4WzxOSAx+4PrDPtL+5v/7gVW5pz3Xw4r+dz4k+4D8/0PGPgw8VT6WBQQ+e/qdwAhBe/rDe4f/XQIFvUJB8oPgP04+/f+/gJAAbMBzwCy8cD3UPenAE4ODBCa9kLxk/uQHBwKCAhBBNcG+Ahz+7/2yASQASjwfgC5Ewb8Zv7UCWT+0fiDDNYTTQxxAUsMvRRbBRbwGgJtCnH6pgJhDlIPQQUr+63twP9qCGsMUxBK/fT+IgNk/vkLOP1A99YFy/GQ/YryYgtSCTcMCewpBNcL6/NA87r/SApQ9Jb3+QuHEXf5C/QNCGoMcvw69OYN1wZBAKf4kfHnADjzGenx7o4EzgqWAE3th/CdFkYM4+XZ+7T3m/WB9yXsDBJZ63v4Y+8HCJb8IfV3BV8IuPt098X6a/7lAnv8efTQFHoJYeBsBUwSg/V46V39mRubGB7twAj7HSIQ/91H6bsNnQHe+1UXDPsLCvTy3gS9CBr2NgCZCtP64BYZCGfxQvqeBwQMDP1zAT4TxfqrBBwM6g6y8vH3khCrDiEEqQTUDobxQudg3FXtxvZd6TbiqgfGBvTv3OrNFfkL9ACD/mTvmAFaDdQCEf/O/6j+7ghF/ckIHf3X6JwO0BChDBb4Q/fu9SX2uvYaBhcKSwy392Ppb/y5+YEQJyGvCZL8VfIW7OX8QACVEBD+AO7t/bcQePtF53n+v/ZD+jMGx/h//voFcvDU+9sUbwAf99P/FwWo/PP4Yft7AIPwt+9d/SQNb//1/aj3dAIjBQX9+gFTGg0Odeiq8NoLIA/TD0YQmhOJ7ij5DQO8DIEJhgTeDOgRzPUX7fD02wz5MN8DsPtGDGL7bPC7BXkHXwGQ+JzvmgnFB0vxmfR1728FyhbIDoIBtwb0FsLkwQJtADv8Bv7R/FYFyvrB8Uv3qQ+DCmD/WwEyCrf3SOOD+bYR0wCV/eX/QvHSB+kDBvVz+0kInRDV+kj6fvUx8br/dAM89I4EHQRpBFr7VQfg9xTwbwdv/PDv3wYzC/DlvOc594gCtwmP3UzOThAaEf0D4P/m/r/uAfJmBlT/+P8x/9XlwgFREE/9Df/W+S75tv74Eif6BfVv82ANVwVv7r7tx/1TC6IDIgbODTz+DPYc6Cj+dgV++lf3DgvbBbj2nfukF4kP8/+GArAQJ/+j9TL6EP4nCDUM6uqIAiABfR5l98jo4RBnALf2gQlY7xnpVANSAJr+9hP3AWoF9wTO+q4FNCWAFKb27QlCHunzQvbrFUkIwehECzUkLfLC3/EDchG0BycBTgaO9TwFnARS9QEAUBicAtHzSwulDH4AzvNvDL0ICwkmAkf6UgKz+uj0MgTv9QwIfvra9Gf/1PQVBuD86+5BBH8NYvt78y0CUQac/Gz1O/oBAmH+4f2H/3YKngnR5o/fUPkBBOb9lAUaDo0FWugGBUQSeu09/58DZgmGFQH5Sgo09y/zWf/X8mIIyvzlAs4AYfJ3/AP9ffUHBqkDj/otChUAIf5j9xYPug0wBF36MQOFBYL/DvmpDwIDZurwD0AGjO4583n/9QGvArAB1Q1/Adrxt/0uDSrwTPYMDV8VlP6CAKEOrPBT5eENJyGKFksJSAeK808CRgaIAgsHkAh3+Zz5kw+RDwTxlfNcAqUPog108tvz9gUECxQFc/toBwgDEeyKAyr4XfMF/aP0GwruAMH55f+k7qjyIuoMCOYTyfEW7K/5ByXOC+Pgkf2ELfMiyfNQ8gABKQKdz+rwZyXj8SPT4AOsIJT0le9yDir9puMM7PoNtAQ88pL+Evx7/eHs8P1zELYDRPYR7H0Q2A3m3cr/rAP2/kj5BQ/FBaX6efdc5mToJQPAAPTgVgANDyv0AfBt+T7/z/ztAvX6UQUAD4P8qvk8ETkRlApD+r4EiBD4BxYFOQN8GgECefq7Bx0DcQByDEEf8hCdBdECivrJ+70KOA1qAxACAA8rJJ8EhgF4+vUBnQo8/oIANxbdDVHuGOc0DLwO1QPPANwG5vZc64/84f4H/QUDI/qKAGz8Mgon/S30kgaLDXICxPteAwIDufCmBMsaHPzf9fb5yAx8GNL+qOHgB8IG4PXu/xMELv0mAEb3AA+i5tvy5dq8CS0ZXt6vCWTq2ApmHLMIugR48z8N9AQ7+pwG5g5s4MT4nfr7+YX4l/ak8akIDwMCCVX91PCm9l4C8v1v/H4CEvqF5Bv4GAnJBSb0CwBVAbwLuQd8+UoIUevb8yr1lQIJ/qjwNgi8BPcL3gWX+WAP7v83HRMkq/1W/ev93e5C71QHf/vm7pMKyAkF+BTzhwhnDa8Ab//3CFwLDgETC6f/6AyRAWkBLxT0DqX/5gGrCPEYQhIDAtYWrBK3Dp73PxAJGGj0+fReHSoIUf3/Azfmd/QIAk8KXeSY5OgOAwAK9Q/9MhRXE9D0cvtLAgL+APYv8pAOe/yg7a3+iPD86sj8Sv/QF3n/xPZ9AcD5RQGK/mYEzBmyC87buP0EE+H+Svej/M0CBAR55M7xMQWABbvmZwFFDDn18fnt6mcFjAyq8HUHKR6E488EXQqUFLcQPPk093j62iPR9/YF/xDC/IUAyAI2EjgLKv1N8o8ABQHSAfL5B/0bADUBm/cl/64IwgiJC1zqbPV1CYYEb/LaBh8VI/MD8q4NIQfG/TAAygBlDG72YgMqAyUIkvyrAh8BGAPs/03/dwUm/qL6u/5dCKT9c+xc+7QPjwAs/+vzufRt9eT11w2bNHEXmRRAFqoKk+SvAJXxCPw8/O0Cb/WFCGoD6/urBEELdP6k/3n6T/Ou5DDtPf+CBTz+OfJb840Aegio61YFBBFC+tbtYQAiA+3sfvBhAH75EvTI9AnxjvHN+8P8GgbBBJcA+va2+AQMyvz//3oOuwrE85D5jfwnEJoBk/27DJcCKweA8IkPJgVs/EYMkwt/+VL0t/zzCB/xDQU1ArQRZPml93oB7Ah9CLQA8Q4gBWH7BATJKxH/hPRP7pDZ7jFvFMPQcBBrJB8EMPFT76kmf+ew+KL2J/Se9Sb+QiV0HTwAXfiz+OX/CPzABcAAbAUx/w/1MQYAC7gGEPfs/k8HeQV/+ygO9QF/AwgD0glA/anUyPzLDT/tTOyJBgUFffpY/RgDxw1L8WrhAQrcC/X6ofGdAwj3zu599aT/gftn8ef8Ve/D7XYAB/2qB18BAv2u8aoMTQV2CPICC/uJ8aT7XQM1+SsHCg0t7ej8pAFJ+Z/vfAT7DHPs5Qx2Ehf5kvlE+CEQegj8/rH91QP0/r38vgCMBbn55gmXAqoA9vmb/JgB7wBt/kgArPeqBfQMlA/5BwLxUQPv950AsfqQIw8Z5frn8BkHtBVh8Z31xQ/yGG0H69Ru/wMW/Amo/oEGlBg8BDMNg/5lDI0EiACTD5YRR/Xq/O0HSxOdCGMCqfEHGqga6ugW8N4FAQlC/yL9UySSBMrw5//Q/UT7M/kOAbn6Y/dA/RfyXO98Bwv+PwZ/E+X/7/nyBGIVpQVt71AMnAQt7RHvZgY2CMvvIvGi+BwJbfSS94EM6AvO644EMQZS79DvTf7R+scH0/iDAlPvT+lCBqwUTwA5AK4FcQNgAIYEnO3R5gwDTf8e8OwClQRL+dL2hAEC+EoM+v3WBQ4CZgapFVz7oAVPAjD0QPp3B2ABYeA/BqgJkeyuFBUOigxKB7j71RLZ/FgSVPcUDxoCKgiDFd8IAf5tBf0DqveYC9wcRQcx/ykVziBCCEHo2gOdD2MANgsIBW4Nhv5KCvcN6wPx8l36uQqADBYQR/EK8wQBaAndAIgV0/rg9WQDWv0cALsYiPIH9FQFKQmS8l4Jtgwo+un1bPyn/Sbve/KOA+QKVvhu+XEK9/Sz+wgHBQjFAyUA8/WGDKAHzPWV9HAH2wks6hfvZ/ZU8vr4feyL9sT/8/feAt4ClQmR/XLrrvsBAqYCyvwdAUPrvu9O+38JOvt49QALegYj+m79OP8xCG700/U29mkIUfiUAjr91Ane8jj5GPj/+usVSQ4vIlAMAvjkFLThnRbDBIr3VP7NHOL8mvnmJqoUYOf99SoDfAtn5XEDKgz8/Sj1tgcCDmQJPPlwATQRhvKM+scPJgyT+0kIQwnD7a/fuQfGDb4VjQR/2/ADIQ5P5nb/7R8gALz2zBgq/XUG4QjRAK8Jd/sJ4LAIVA0y4xL5BAyR+Jb6ZvcaC/v/ov3l6y4JdQvQ+An5KQGM/Df0muqE+S8IpvJ+6TIFtALT+qv7XfvRDa7/UvJNB3cEDPtwB0oB0PNl+pf++Otj900ANv8k/p0GNQZ7+iHtU/+5ACT28/iM/EPtA/ep9lwHa/4Z8OkA7AIh+9T77AjrCC3+MwgCAQAQpQr+AowA5e2jAukDfvcoAMcNHAwX/NX0EBXBAuX3bPx+D7gGXerFBUwKR/Ps9/T3RyrsFMkVBdhY2KES8wAx1hsFWB6BEIwXcjCHD7cGKwWf7xcKVP40+NTwUxUtIrjbIc1YEJkf+ukFCBcKuf5JDu4NSwQvCnkK6hZlDEcBWPurDREG4OuY54AHk/oCAz8Czv0TBO0GrBJSCrL5MQE595bwyf+TAQDxpQif6h/XJQ+JA3XtCefGFWoR2eh0+gD6NvN988DaY/6qDvba3eQjB3kC9e4IEe0CTu6K823+Ku7A/ikBYAgt/5z38wB1+1UfUAlh6LL29g6G/QT5Pg+Y/Tr0OgQuCXwJ4e1l+PkRdAjhApQa3hNbBWUDyPmv9Sb8SgWYBbwJpO8SBegEsOiI8jIPvQo9CJ4KGfhgCE8R8/y7AkoWbAa/+wj4jf58/ucIWgdPDI38LO8J8vf52CW2Ef7xbweNDv0D0Pk/EhQNfQhWBh7+axCgDEjtMfpjGsYBKw4XBEf14u5LBJkT1QEP81L8YvNy/CUMogEn/yr4dANb+lfl1Pfj/uUAeP1GAFYGgACv4xP0VAp3BX/xve6x5LjuiBaW+JQDm/zoEPntxfWqAE77xgGwCOcDCPqS7TATfAnw+ifxa/0tBzUHwexJ8egL7Aja/2AI/fwe6TX2hgRfEt4AlfsqA838x+sr70MHLwEG6nHm/woVBuX/ZQcb/yrzQw58FXj7b/4dAVgGCf3PBKANT/2zAGn/EQSQ+Hb9dQtM8f0FeR1rAlj/cwPWBfL4HALeIQEKS/nSB+MORxKxDXwAIfUT+0QIJglVAZQT2f6gBYIQMgdg8F/xURevBAL2ae5oCvMK8vhJCeYLQwPj9yz6UgWMAPcN7fnQ/94Mee5A6SsArgXP928D9AA98fsF5P+MDL/9fQGm+H0B0+7B7WsM1Pue4QMHmQw3AP3yvAL7Agb8weyi+qXuEQbFB5bn2QKx97PzQu8NA7P4B+8VAlwAKfiI7Z0INhAy6yvj3QY5D4X81uvcCGEWrPOp7tcCGRjRBeXwvxLg+pDvBQBgA8oOM/5kAyoXcv4G9HL1BxSUBcDzzgBCFOsQ7e+892cUJATa8Q3/OgkODWT5MPnUEKkNwfue9QgMTgaqApATZgd4BDkCowqhEp4A5PuwAfQCPvIx3dMFTwxFEooAJPR7DZkC+/nX+db/ov3S9CkJfh1S8lDSrucVCW8IfAcPIBsIfPmg9ffzU/hM8Z36Ug9L+Q7stfR2AM0G5Apo9RoYvgzq9TgGFf4HEOv2uQz+7eDc3Ahl2pkEuwx34D4HZiJ5Ap3PvQ+/HH3qL/+t9lQNAPPt4P34GhjrBAvr+/5n7oj5NQQtCWoDCfTB+CMAj/mn9w0K2Qmc+VkIggNX9+n7MwRm+/MGkfrK8mYB7wCYHI4et/2W/4Te19St7VnzigdxItT5d/ua+xj9MQ0TGFUSOgbRDyTx5PjjB/z70+twCYURyhbaEhr8K/tKETv2cxf6CmcKZwWt8pAEOwum9DT6+wLxEyv8pBW6DbjxvfgDA84NXPfD9zQAjPww+yL/5PbS+2YH9gKu/RUE7wywE8j2mwPvDlb9Ke8PA0wSAfmu7ggImPUv5IoADAOz+7r4nAS88rvwrgZADfLqJALB7/L7mv04CGH3bweD49jw+yS5+kETrP0r3FC6s9oqJa/5ZOKz/wQo1QEy6coUAQfd83LwSQk/Dg3/VAVj7SoDLAEa+Zn0DPgpFdgPDhO8BB3/Ye0u/pT5PQu7/usfAQo5Ax7zTAp2F+4GdPM/AtANgggEAc3xmu/rC+b++ANsCOX5uAMYFcIBJgRpED8JQQXMB9bpGBN68+D58AGD9aUZ1hQ4/57wGfhTAZYH2Q62Bwj/lgOiAAsJU/aVCLggwQs4+J8DxQmN6IX3bPobDb/0rfLzEdEIeOxi7s8JvRIm+8wHoADwCOXtjPFrEmAA5flF+JL8NP0a+XHxJQMpC1H1Cu4yAokEeBIk9y3/FP/p+sfkYwSV+T/xrw9r/usBLgHv+Rz+CgM9ATr9S/xT/xsGPQlI/7f0mfeQ/qbq5fqHATDrkvQR6akPnQ0N92b3nf12AaEQBBrJ/wsC3/P982n0JBoz/g/68w3sCJbd8P91B/wV+gph/LYbNRoUFJsIr/8hFRwHC/RXFdsUqBAHA8sJl+2I7QT8wQ7U+ezmtgIBBaoCbQlI+qAT5xRd8XLrDwMhBTPxb+a2EVMLBvVl/HYD3A2f/4EV3h1WD/j9AOm2+IkB5QLLDYYLjADA8vH8MQUH8ZDnsvs+CIT7g++MCK8Ru//v8JkY/P65/Kf3JAQPA+H9JwGh/uLz4gBD8rf+u/f87sn6t94w4PoN2QBDE0wXVcrG/sRAeSw2oBTJDDlWHn/9HNzrAXXyWcc46ZMEX/3KCin+n/NqDJ0WWP/EAdMGve54A6/+wueA/9chA/0U/IX/DAFn9U35Wv2CF2cL8OrY+gUGegZR8IMPuw8+/xP43vxd+8L/BAxu+fUEQw7m+cYEnx4KC4LisRFbD6jyvfrkCH31Hfu2Bb78suq1Dg0dRAS+AgL+9vC9BTIUfQPo9PcL/iJCAy8Da/SOBucA9/ktBQ8S/fIt62D1cQb9AOHxfQZYGlvkie+DFasOvOcY+4YEAQp7ALnoUfZvAB4NngKPADnwPAVZDv0H6AFSDLMLkxR/DsL4Ff4o+rILsQ0x9WL7ZwCb5oTuuA1hGuXm4ewOBFQD4/7DBPMIUfM76bQFXvl16v0MZxJXAInzoPeg80X9/fep9nwMofcT9K4FpAY3/m77dQ1NDoQNgOEy/4wlfO8QBXwEAPtp8a3yq/n+BzoSj9iBGIEHROda+SIUjAzm89gNUxKGCWn2yf31CtECZPvoBv0Ncgxt6GTzmguBDODy/wuvB536bgmt/r4OIv/zD8gW7RJgBz4F1gzb8Ff70/ML954EAgYzBEwK0w9G/sP7Qv3PAhgTa/3aCLQJMey393EMuwOGBDH/kvvY/4z67vAyD5sMCe0t66oHcP2n7IH5CQnM6yvqUAvq/IDrKegrB7cLYP0wAmkElvUZ/AH6m/DdByAUGeH4ANsW1f9i9RT3Wv4d7ib7BAscBLP4z/6NBNoEa+2RA4T/g/U398sZJAI5/kH+Tfn1BtP/P/n9CK0G7P8jEfMFm/9M9ukAdRM8AKL4uANP+pv9t/6rDkECsPT/+qb+xRsuDtX67gZ8+dX4Of58B5zy5/2L+KP77Ar+Bo8CZgYRAVj4vQO6+dEFqf3L7HH/kyOQEH7mZf1mGiUIyO/RA5ch5f6e8joOWxHu/Q7vd/bdCpf7EPawBEINqv4Y7EETRAJd/VgD8fBfDm0FSfgaB0YE2fV/8T8GCP9z/QT5cxAECybqMelYCIUCmvT3BOwAgAAz+8/6FAPK/9Hy8+LfDWQDq/HU9ZUIqf9U/Kr/PBDl+pvcJ/0oH/j43Opj91v8iQmwA2H3gfyz9sj5Lv39Au78egjUAH/5WAF1AiIB/gtOAV4JTwhQ8pz2WwrvBDYBgAyT9VUGo+q/+3/+HgXyAt0PfQvqEyMP9QMA/UDwnvCMDJEHfvIO9jgDoP6wAcP37AWt/ov4dgz7Iq4DOPER+6oRjgNv/EwQFAwS/A3+vwaXIfz9JwFABu8Q5wf8BEgRcgB/+E38EQMf/dP6xQLqBD0PMPtW9oLwLANcEE0C3vb5CbEYLPoJCV/n1vUVEznwKQSMEUbh5ugx6Vcr0OUj+a/3OfUl9c7uv/g+8pL+wQZiCFjxQ/nv+8/r6w6nCMj7kAKc9yABUwPc/ioIIfkB8rMAwvMXAi0DsP1L/voD/P7kD3zctPpf3mIPAAoCA1n/SwIaDmwL4wm18UsLyg9+6zYX8vJj6fv6ShtN+ZPqOBCFAs4Fkgf8/noJugNQ8W74eAg4CGn/RgItDtL7KAdD9cf/rRAv/6PyYQeWBQQMXOj1CNEKPg9h9iMDvhoB+ir3JQ/CFprxCPoMIyYbTORr/XIp9eVoGstWkd1w8bz+3OdYwvwZAwUgCEUFUxRN9/fsbuV2DwYK1QnD97oOqvcKA5fxfQH56sADL/oN93T8YvDO7m0AafkvF+0OFwLc8nr4mArZ7VXq3f+6D/zvofGrBOnn4vLp+oMAx/OkBusB5foW87f7igjw+1gECOEo7R4D4ty0HwcXTuObGJ4WNAW57WUzEf/tCeH4HQ1zBhj7SgOP97gNrAB27iHv9gwT+170pA/Z7zIRrB03zqcDXETXFaK/ShKGRGrO9BGf5RkjtvrC6+Ek+Ng79b0GoBb0EOHbvyP8/gfxsQ33BEwG7Qu1BsT6UQXYDScXu/PV5eAPvf3d/LkHK/fFBUv7wgY3/koI4gH/Ckz93PYV/CgU+Pqj/goFGgSvEXwGcf3FB3sAW/BpBp4FLf7L7zr0rg3XDjDv8/A9AwLqvf+CC+4LgP0z+Kb9KgDD+/X9H/JW/az8s/jLAUsMQwCg+KXmIAp7847q1/GNEzEcIetx5JgFFQtN6dX9SBp/A8D8DffI97MF6/0TCGr8ywFoCiwBYv3J/3j7QfRvBR7z1wa9/98IRvmnBbcJLQBx88Lx6gURAS4Es/Ew+44eRgbCAOwD6emg9xEL+gYxA5cMXg/m/cT6xxeEBpP4ivl4FNgPKQQI/3fmJgQ4BjP94ABxEisEfu0Y/akN1Q9f+20EBAaS/goFiwG88Sr/Gw8GB0r1deDUB0f4rPguIbsFcw0Z988Fbw/l8LoIJQOFDcMMPfotD1f17/LMES8AHw4n/+P2Pf99+5sZJPZKDIwGIgQG/Db/YP0D+P4QjAXXB1XvQvEJB4D1DgevCZD9jPPa+qnzu/7XEJDyT/Kt+1P4MgQ4A6D4ifMw+1EGVgjdAf/4JvBiAwAAQwm28xHzPw2VCN8DTgsj7qQB0vIc0jsLuyyD6826P/JaB/DsCf5hFpwORfVA8C77gBES+Xr2YxbXAgABOQVS9OwPY/745voN9AfnALX2gPiqAhH/ovrnAtgKYQxI+WoIVhFrE/D/WuhA/xoYYQAU9ZQKiRU67VDx1xxeGOb0Z/pWAQAFWuejDE4fxAM5/FgNKwzR8Gf6axKBGAUBh/MLBVMOGP439QYHxhC6CTkAPgLNGoMMkOyc/PQQvAZt/LX5Bfr187b4xRMtB4LwJu9DAoYMGAPt/XoB8wjN/rX23guVCJD5Sf1P9+/32Pfj5rv1xQOQ+aD62vFBAKz3xPb3CxcOwezl/zAEiQsT/bvw6/Et+WP1QgPJ+rciVw63+fLqBgBx+iYA2P/+CTv2aewz9r0LIwX//yYT3QfC8wb6bwOGAR00hhLU5IL/bBKQ+GPSnATsIkHo9PLpD5b3kOVBB5cXGP5hBo0LevG3/s372u/wDdsWcfX39o4DmQldC6b9SAlRCtXvp/x1DtYDh/iPA6QJdQsa7Y7uDQzQCcnqFvMiGpYAxAEEBn7+bwibAC36yw1wB3DvkOVTCMX55/PeABESrw52+rYHkhUT9D3zpwbMCLoI2wWnA/QVd/Q7/TkUMA4F68sD4fmLBkP6O/zd9d8N5P+98U8CSQju/OH7kO2jB+T7J+VDAhMTIQlo73DlzAKqB8D5n+wa8XT3mBBCCub4aPyYEJEBvuhV7wYMUQXP97T88f7DALcG1Pdf7BQHZw0oCvX11PzcEtH/HeBO/U8NVADh9DcA0hONDsoAXQh5B9cELAg3BTUBFfxh+yIDE/kaAo0QLv7t9/MXFQzWDEMHJwik+3P6b/zSFYAPJQNe+S0FLwwS/7oDHgBfAo32W/iF+oQQGw/1/U740hPaFTb6wfKNG9UU/O47CyjtP/K4A5ny7wQy97f9GvuEDQ4OEO0bBacAn/+mCW722BKR32r8ZQiv9DHq1/sA9gAAuwC16LERe//h7eb4SAle8mgMvUyILK0Ggr2wo5zldAB9Cyr688dmypLKhM333t//cxC/BmcBRf+QEoj0UvAH+AoKx+SH660LuAPd7Dn36ATJ/UoAOQ2SABbxi/7iDKMHSQsmFuPrjuw58w/wkAQl/9UXuvgux/LRQhzg6bvrmx09CGzfFP3JF8n/iPkDDy0JR/ri7iT+wQnd+rX28Pu0CVwTffokAa4I0wrKDOzzzPKKAjULIA2b/AUFgwooAvINRwbZAO71+/zqB+wAQQ7h/XIYnPz1Cj75X/MXEd3u///qB0QCsd+B8lkIQAPwAwH/Dfmp+lLoeQPED//9Gu+G+REBbAU7Fw0IYvr89BoGqv478Xv8gQxyDHP9yALQCGD1Lu0tBwf/LwB59eb7Ivhe/n70BAt7CnPzy+i39yP89gW3EoD6RPFaBi3+rN+8+e0OiO8/8Zf5mgMGBJQDZQoq+r0N4v+NAEjw/QO8CYn/0g4S/77y6QiYFwX9C+ukARX73AKECbILHwaiA1wHaxA6DisHpPt2AGrzgxPQFUADu/5V/sAKqQakA8UWGQCl/6wBKv+ABR76X/PQDs4IrQa1+FYXjwrQ50308CbAAGTlCwKLC+n7buxE/aj2Mu3qFnggDBIwAJfrFhfoBDb4WRY/DfX1CfSg9V3/evui/0D1yAt8Dmr8Wvju/XMSgQJ55gPyfQ9Y7mEGyvqw+Uf68vgtEwb+gPhx8xPxX/GnASsMgvjD/HAEgegN9RcHdP+i8Zb46/iw9kkJoP/r9gr1Rg4XAKb9qP6E/av+2OYsAQkMp+5J+DkAKQY/CxXjliN64mnReP9sN0fxvgKG47gSpfOd/38LAw8SCbkFCP/cE9kAUft//Zca1faYC24I0+50/rwEzPx0A6sErP+1AewNnwk5Fofzw/TVBGQQNwnKAGQG6xIF9iv55RO8DiX10fcHBqHx1ARa23MGnCgJyNtW0druvyf/uCE52B0JADlGz8Ts/SLTEqXkLxeoDs/5QfkN3M3vBBIS+YD3UgckCakBHgVw8k3/jwy/+rH6uQIRBkz7WfzeEG7uwe0TE50LWATRHo/tudQ2zlq2s91l7Wb3te4OBy35i/0l7DLpzvvjFcnuMfVn6W8AeAvf6iH7LwoT+JrxDQN8C67/ZfIb9aEMPf9J9iT5ChJPA2X3Rgv7Ahf5gQc5/JQFM/lV8qwB8gSk+lsFdgCP/00Hmg7qE0IKhAQ3Au76L//7EXUHWuWWAen1m/80+kkfMhj37OkeKfSCDcH+FwLiCKH5xQxA7lbxYRY0B/YPXiDs/wHyrepc9CEVsBP6BnUVXxL/+zfc5gFDA0b8kgaw77fvX/14CFL6vAJFFOL8gwRFCDQCaQNh8m/++gPu+mkEQ/yX94z8hQAM9OUAVvbM8Mn9zALCAx4N7+iM/4AILNs07tb8NAVV7V4Ao/6w9PLqzv/y/RL5HPrUBcv9YgaV/T34yPtgAMn4GvSjApgKbPrC5mgJXQ/R65/4F/4f/q38AAC181EGCf3y7cD6TQdA/eL49AlnCGD8hvu0ChUQqfPE9boJawJ+AIfixvndEugfHfjZAEAMGxKQ7dD/6RZ++koKSv2hDAkQZwGJCx4MCgGyCcvil/zwCdoB2P2r/cgYAvRr+28KAwdAEjT4egQ/BLX0Xf/tDGb+Gvs4/V/4QPDsAzAEewU2EhQAbQLQDaQBnQCz/d//zfInAcUKawL95gPrvPkR/Ubr3AkpH/Xxt9Af6jnhpNm+4zUT8Av7/gAUcwQq+PnrNwJOBBoEVAwg+Nr4Tv5v7l/s8fnyB4zzFfG68+/0bvknC6kBVwlK+PT+xBfT/YTzovzFAhIFf/my+XYDqAeo7ST5S/RQAQEP5P/ZAnkRmAinA8T9aBiVDtDxRtoQDF8EUNz8+wAmbBJP97X/OBDWABf3rAi0EXMImAMnCf8PjQ6h8aYVRxLd8HMJzPVX94gRnf8EGhQIyenc9uMGSQ1qD6T4MRCVBmz1bPipFLoJOwF/Aa/+r/9M/1LvH/nbGP8NC/4uDUkCb/j58Q8NYgif9oYG+w9Z/jgGiv6V9hvn9hSqETf12Ppb5hYBOQoX+QT+4v2Q9vP3VfQYDSwKouS59Xb8YP+R8/D6VQTm+yr/vgBOFL7wwe1q8PgDFfxDA5cHAvSD/HcHcATC7Ab0BBDq9fb0Wg0hAgnshe2cAUQOK/Kt9v0HaQtq+hryFgMRDdvp+PK3BCsJ8euc6scIhxfvBx0BEAVWC5QH0f/wCXUOjfIX+vH/6AKH+I8DbAte9JsMsxv3/hsFvv5qAjYDY/4nCMAAk/3yAjQDpw/2Een93gBPA/sMXvwuBGIDBRB5BXn8XQb+DG79S/Z7DwQiaP557kX9ivwE/tUL2RWH/7f79f0ZBxvxL/fxFPEC6PY+AsD8gP1E/uX/0QCFBbr9RwP1ARDy3PuuBgX6PfOjAl8LJgDt9okBThQMAbL+iwv29CXz7fuxCrkC2/rg9A0Hlge86Gr8ZwPtCWT57/fbAuT6NwRzBqP7ev6O+47xkwEM/yv5x/2H/331zQHOAdAQlv8xBagCM/gY7hn84SOf+B/tMgzi89nm4QaxJWwBevaH/4LrD+6x/zMJagjE9hb61QY6+7UJkQDnA2gKLuxf/pACJQCc+bL5LQ63Brj4EfVk/YsQSQ7g+Un7Jw/u+iD8jwydEAD7BAYQFbcCVAUL8rMB6QGj9RsNfgz9BSMPKgXoBggZQQv07X37/gIIEaMbzAoWAdPuqvlBDtIJAu68+7IfRAG4+MIK6hUC4kEQFgq5Ci0by6196vQiOCi/1GEHO+7RyZkRkxKV7DrlVRjAB8HxB/aEEFgDDuoK/ST7jACdEB0EdPl9Bmj50vLi+IIQTwr98+T2ugErBKP79/kHGZgIKPrgA2wD9QSICXQAKfaQ+CX4Rf1J9IcF0gRe+ukBr/+A+s0C1AWV+4PkNvaoHzcJs/aj+eQFAByYELz7ZvR5/+sBVvxr+9zvTvljAmf7SAeBCeIIRvB2A4oMOvmL+yQLogCcDjr9VAB5ChMLeg3yB7/9xAM/+3nyw/AtBT39pfeK/AkQOAka7zX8WRHVCf//jQUHCVv/v/3b/pcQaf2b7gD2zg1yBKznxgIFBQABRfpAAYb7K+uGBmkDHOpZAPQEPPLs4iv50hUzCz307vAH9BoCAQ98B8kFy/s7BtkEJ/Ek+bcS1RDuA334wgbR/PX9x/WRAaok7i/Q9pfN/+nfFKEX9vr4EVQMa+iF89sKAwdG9Ar/v/YZ+DH18vuT+lQH1Ql59S0FWfMkAkT5RAY4Ddj1TfAM/dADqfgHBJcLzQQK9kznvPlWBr/4ofl0B/X9SPwR+7QPrwRA9SEHfg4U/GX3TAMB9MP0TQJr+0IVhSA036f3JBciFfbyZgT0E8PmnvTz+FQKqRCw9KoRqv4tA+X0evMRD+ECTvGWAGYVLPYv9eX/fQgt/sDzrAr3EowAWvKVCJUN0/EB/y0MXwuj97jzzfe9CI/8uQJdBJP7hfqG/vYAi/1F9ywP2QTm/SD9BAJi+7b/DAlj/7wEsv5NCp4ENvVo7xj2gPoPA7j/APakA5D5MAJ49Wz8dgDQAbcBqxCJ9uf6iP5y5iH1FQeoAiXxtf1PDdP9reHjBoQV//iV8/QQ8COIIvHuSPr3I1ohjPjY7CkOlw6/7rL2PBXyEIfue/0yHVLynPTvBF0S8vvt6t4Ehxms8FL3eAqRAcj3UwGSDLcHBAQx+4cBlQRJDXz3DAi1/S8uLxL07xfwrRAu7Jn+9goK8ansBxI3CbnyhgQ/Bl8B5weM+PMF5AHt9n39dgH/Cir6SgCPCVkPrQKi7Fj0mvm09AQBIPaRBbP7fu0a+w8KDgaA/Enz3vlOBoIBPgVmARH7ie87AGYE4gWe/OX8KgqiCnX0pAHDDLz7UOxF3yz9ePYQ9139yPZj/sbv5MpOAzjZnNAnFIspofRD5mUPf/F+9Yjtn+cs4Hn8Ng+R9wXfNwISB7T3KeXGCH8DRAI7AT/7SwSv9zMGav9t70LvbQcZG6IBmPiwCZEbgvbl9IUFqgLJ8+v79BDOBjvzM/izBecDZQDQ9jn3VP6/+nMNZ/Xa/RcPXgpFAD0BVgUQ+fkEFCpRFgXn4vecC/8GCPzLFYsO2fs7AF4HbOtq/1T6bwNgBR0XofdDAs0VLwpu/VAQkwqSCRD0EAB9C9n2jfZDBT4KmfWD5i4NsRT++4v2sBDMBYb3zQu79eQVwROm7fwVK/5Pyw/TWhIS4TvMDeiUNp75nvkO9oLnqvlI/vj6PPUf8loVJee+7fIVDQ7Y2Pj31wbdDcL4TuizCL0Xtgym9LMBOwsc6BvzWxy3F2QXDww1+zL8ZNEJ3NPfNvaWyw3w2ANqHbbzBhgHKFoY3fEQ6lMIBwkD/9Xv3xfAD6Lkz+2fDrQTVO1fCKQPB/NW9TH/Sg+wCxQFz/4wCWQE9/lk/ccMawbZAqbq/hfwFyHtMt5/A4obXwFT6t8PyfqNBLQJ0P2SBFELkwS4A5b8JgCECOcI6gxICq30tPJs/+cMjAUJAU0FoQTR/OMGBv4E/loCzvuRBREDeO709y8F5fUC824BOgy5APfs2fT1FBoB9OrGAa0a2P1//Z8IiQbU7zvxNQSOF7vzsPSK/2n/Qf7R91L+3AEd/w4E2wqF/H7rtAL/AXv1xv3iB4UFJdp9BWsSLQLY69kCxhPo95zj2u+hBwcJAQT29BP4FOwN8CX6L/xb/Z/ppO65EdMSxPvcBAH+zPKkC5QRTf7m/jMJkf8C+6D84giT/672bP2BETACk/02/Z//eA0EE4L4QPFUA/0PPwZDAOsOTQm09Lf77RXgDMj+hQyVDlIKCQfnAMgOEPwX92YJef6pBN4J8vkWEiEb1RJd+Ln3D/dzAYwDav6x+P8GagPd89L+nge5+kX4hf+cAtf7dgWWD4v70fwFAdr9av/y+QoANPW7+jAE2Qsp/VbsRfU1Dv38dOYACncE+OLt914DjxFD/DD3PQk979nldQ3oF5j/FOyj9cb9Rv4S+nkDdAiN+ff94/ZgA/QH+v0z/ncF+e0l8yoNfwTB70cUvhFw/Z0IkPjDJMn1AOIMBNEdROzx43P9Ow2n/dsOrA8cD74J5vGU7i3++RhnENgFLwryCcoHvAFKCEgTLPYM+MAWJhCn90oBXgwQC4AA+w5wCxv2g/fOBhgGYAEYBAb8QwWb8kvmAgTzD3/7OgFIE20WlfuF/LsD7guBAeL6qg8hEc7wsesBDG8b5vO16owMswte+XXoRgvDB5f3igPX9sHlPAJYBMr3a/dhAEgJL/Kg5lD+EAcAEFYBiQQBAEH+Nv3l/CUDNQfc+V3p8eNmEf4CIfCDDiIBvOPU6BYVzvjY7icZKwSR8SL7rf7IDi8AMgWPERwHIvZeDnUElwQc9OMCbPFu+CL2cQH0/qD3Zeai/fL+JQ9+ArwB6f/yAn76oggwIZcACPht9K76Pggf+dv1kQ15Ba4DsgZW80gCVRALAk0EPRBwAvD90vkgBdANoRORDGj5RP7s+n4CBPszAwIZv/1w6skXnBhT1oQNrRCP+qMVdNBOEoP83esC+FkWCABQ7Kv20vK3H/Pz5Qw+/gkjs+Do6mYCgfymATIAfvQ8DMcIAvnQ8x0VY/rx5NQAHgOh/eHx5fl8Bnr9iwnA+W75vf2WA7v6Ug9k+MLw+gszDoznl+WQCQsEivlr9o3yXf3h7eT6jAPGAmP6JvclAUT0QQDO9q71DO6UA8wRXQ9EAnACswqN+5/7Zvty9/34GPnvAHIEMvI9/1wAdwf4CK/y++9UCCoPhAYfCcgMUPu/6XkDvgn2AAn5HSHjGJrdIfQf4/L0TzTRGU/mH9udEM/oNvEqHtoK9faC/a8bgQeWDwIQiQR/9nT/RQyvBxkDugh2AVQPKf3j9n71HAJRA8UHAf9x+BHi9u0+A54YqO24++Tzb/XADOsf9N6W4goluPuY+iUPuQzD92T5xvYOAWD4gvOYA4AMEOqu8MYLoQHR7pb6aQjvBLL3JfxGDFj9FvOOCNULkf+A+Dv2jvWO7AbmM/M/9s4A1e4JB1YZBf329PAGIQVY+58DTv3+AtP8TvM6/UcFv/Y29irzrv/N/Pj67/w5EfjwAfk1CygFfgCjBewFXPel9bcJjBJh9Mv0bg2oCdb3cPuRD136q/kZBXUE5fm8/soJSxd2BaEEX/PNB9wOdv39/3MEOARnCC4NXPlV/uAKEfqI/HALJwin9Zf2UBGaCXYBUv5uCQIEawbLAW0Hyf2YBRj0vATcHG4EqfimAq0QPQauC9L+NfaVARAV1/Qm74sQ9hHT+Gz9Ogv4+sj2c/gL/mUR3AKu5fruEhjdFn/zlviJD/P/G/Zu6UIBXTAfPC0dpvT28i7zJOzZ9rf2c+6f+CYTPv5k+Tv6HvOq8u357AJ59+3ySQTf7lXyjgNf+Pjwyv8n/5r+neXp7poLuwMpE2fnCvwA/9XppfJ2J4Ptivm3DFX+sfrSBBPskQX0E+zmDf5jB4v+RPtwAjwOuP/eB8oOfAxT+2v73f/X/fIECwSQBlgPkwpRCoH3QRYDGU726wElDxvwCABqAOoHTgGFCFYGPQj8A2kITP+3AqkS1BOY+h/tPQRKCuIBPwm0/PEYMwMaAj0DD/3l/3f+DgbdBYIKzPc4AUoD3fjU+6T0rwlz+GAFIAM471g5RQPR9a3+khiq7qL8Nw4r6Ob5fPYW8OD5HBP682v5zADC8/sArPPZ+60CoN9GDMT/6enEBDQK3ezw9mgHMve9FpYdw+0z70cGyu0u8eoPNfuu9WfkFAMHDe79bfQH8wAFLQKk+6/whPH/EAfqHQaNBPD/Hv8aAu3yBiAWCgLlsAtuFZ3f4/mPERwEAQLNC+4APwYsEB4AIAPz9/b+SAW9/Y0QJQEh9wMAFQZe9aX8AxkRCr0ABQiiC+b5SADRAvsACAXy72HvRf/KBA4Tig4VDI/8cvkt//YFYf6OAZ0PKQHjAPcQDwBOAQsKYwKeCpMGkfCX/k7+sQd1B+v2Qe3MBeT1/vvgBxD8wfZMBocNf/4aAo32YPhOEzH9l/Q3+oUT6BDy+Ej3uwLlDgfuqADzCr36CvCP+sUOgQSK6ED3Dwa0/rIBX/Ey+eT1QflS7xkIBf174jf3UQZU+n4AvPf+Bv4GOPuH+HnyieTYIqovbAPMAz7CXJKZ+rZrjgr/4sb9ftnb060AJhChDIoIcgrVErIC/fX2/usEU/9+9zYAVAJt8gUFpAFf/uj+gwp/+zT1lfhY4hAF6BwjDHoXGBJI/AEHbf4sC8wH9wvSBxr3/wjd60Tx0PbW+fIQMf059d0XBAzpAwoPSPlT+wgN1/jJBrv1LfUT+BgB+AFs/874IwO9/HwR1QsZ+Mf6Hv+zFGz9W/MTKeYL3e4d8aj7z/4t/FzlBgpCClr9+vA0/B0Ir/6w+RMB9+2NAgAFhffu9gQHE/uE3Qj+xwdJ6OD5aAcb9cj8e/oA+679HgUBCQUI7vqF+gPz6PEgANoLd/YH7OYGmvkh/BEEnQPhCIH5bgGNFlkCT/PX+PYHEQjC+gT+IPju6VcQMw0h+0QLJwkn/YT4QQXE/RkD4v9I+TT12PjsD038t+xfCNkCFvOl8poV4ggSAOrvePvPHdYKmfeA/P0H3gLB+VLq8wG3DEIDlvf5ALcT+ggmAIISuQ56AfkJWQWcB60Eq/6w+8X68Q/sBfPwX/YfBroNq/4X918Q7gtt76j7MwlrDpz3uv/HDRX2h+Z47y4LSwcQ+QPyJBLYAXLoIgPsDYECpfDiADUR//0+AEHyJ/Nn/bIMGvRM6pfv7vw//R4DfPIv9bgS3eTzBocX1rpCHp8wR8mL+IJZxYXzBQBHVcrSAQcByuh8DpId7+ZS6v8cPON0+nocPfjq8HQUj9yN/IYCHwQRCsUDNvO9+E3jwv9nBZn3pAhcDMT9POMS/xoTR/qE9LL3NQsNDGD36wYqCuv0C/sh/FIC6gWN7XsDifvjCQYFPgWwBOIMNQa2FHMGQvo9/WIScQqO+Mj31go7AwYFnQCeBwn9UvwyFjP2Yu5RDykOIQKJAS8MAQr4Ae4BG/ULB+wDgv+HAav+UATF/LX/Yftp+1wFlAMR+74FYgHuCHjfuQKxINrTADu8+ZSfsvQDSpgILNtoO07jR+JLOBz1s+dFDUUATPbaATIFF/A48aj5vwFi+nb/zQbOAwfztf+G+/z4pxm3CXH4XfgG8twOqgoi8ycB7AIw9t/4TAgAAHgIzQTm+0T5xvnB+5j/9O0VALICCwBP/cgJ2v2++TcHtgKWAQkMtA8wBv/9MQGdA3wCjP/4CtcLr/9dBhP5WwzRBS3uxf818QQVMv5RCHf2cP1f+L73pg1j97jzpQ6ABwAImAghERn4a/6FCFcC1QgLEQIVUAKADwgMUfPD7df7xwHn+oTvIAra9Br8vQW8C57+LAuo+4Dp2vSnIqwIJwol9hQAtwSABQvvqgX9/03wG/i0EY8H0PkRC3IFkvcKBpX7bO4Y+AwVkARiA3wOMPxE7/nxtwfW9QL0qwjJ+JH4i+xqB5gIuwMq28QLdgUJ/Zj2S/k8AM8AGeuJ9kkJ5fmwBAz7Z/sqCIYBmvmrAmYH5Qd3E8gGKv/X8UD1bwwmJ+0YrviB5tbymuwQ6noG0Q1M/YD9lg8HEFL6y+4h+48U4f3CAHESoA1y6yr/aSolEp70pvhLAAISBgLZDG8TIwoT/tH89AIrES//Pv5uBOIFFP3k+iMDYQdD9dT3+gsY/gLsWAmgA9r6KAovB2sEWO5/7q0JZffm2yby7AUz/obywRPGENz+pO6M+rn8RP6B/FbndQFpBoDwqPnHGXAEouab/HUGEvIaED8Lqe5i+Hf0Ngru7Lb4LwOV76n6se4BALgU8gmX977vkwSoFYHsIOlrDNEAUO247kkJqfZ57pP/aAcjDJPxOv7fARTsSwtLFdrzN+rLAzcKsO8j/8EcJQrV8SQBKBhC+FoHTg2bADgBUP4/+4gHBgoc9HrjF/lXCpEApfdWFL4VDfot9GUdDRaH/0z6hAmgD3cEsuXeAv8bZg7d+g8Z3BPs4oH0+iU2Dd7oqvc7C9ERhPYoAiwIVP4o8hT9zRNeApj/rwR0DjkeBP4X7d8ERxwFJSIIpRP0LO8MefBL/vwSlgWT7/384/6PAmz1h/gh8IoAeQy2Aij+YQSsD/EIje+/+HsD1AVg9SX/KQ4Y/pD2pf6j+bbz7O2b9VcFAOqF8OwIKfmB/gIDvQYl/8fzpwCRABEZagoa7WryWwPABdX68fJNAF3/ceveBBQNGvLZ2rbp2hQQC1/tCP8bD0DraO+QFVAHuPjXC2EMEvJbCAUQqRKZ/EbrGAPFFBj9gf6BCcEBZRLDEDT34vqDE98N0Pl1BpUC6hNrBjAHTw0FClQCvPGh97D5MQ2fAd0MuApB73IJ1hM8DvL7kgZsCBsG5fwj+iAAsQx0DH78yPyl+t/78Ptu6UcI3gsmB+jymAPVFwQHwvcHCGEGavjz8KMHpwzk9U7zjggoG7/vIupy7xL1swCzDYH++P+l9/ECOPZc5bYCRgnm4mbgzgWWA9ztuv3jAkABav9e9Vzvu/oG+V396AFw/hoGbfld6ZP2RAak+t31k/1z/Wbsz+8JBq8KQfnLBJkEu+vZ9fANVgFl/LDu6/13+4cFIwBbDEUIVgWc/Hb8WQpN/0f4wA60DvH68+Gh9lsMQghp/3QWBBB0+sn/BBPcDmQDoAVk+Yz4hfyk+/r/IAYSE+ESCe2J+I8MB/u98JsbuhCLDdPzbf6xCMz3RwFSBWYBQf7ABT8BMu+TC1sGBAKdBpj/A/qU9RYGnQhMBkz9OgFu/8frCP/x+Qf0tg+DBO8HiQMK/Tb1y/ac/Nb+MfvCCqQIvvS09X/2A/h49vEHpgKX8kr6I//R8hr5dwfTDS/rPP5pASgDbPpI+jgIhv0L++nu9vWd+LgDQAwH9JjzRfez9q3yq/kBCiH+lPf2A7kHkAKSAlv8WvJF+NsCT/qq8EUSsBOc9xn83BD1/14D2QeEBBkIZQ8SBULqfOiQBFv6M/NNBSIEmgTHAf4JCAol+tUB+APA/j4DeP8Y/XMBKg8X93bzFQb5DH0Ddvj59wgYmg5C4vgAYQSBC3YDgAJf+PAGZf1CFHQqtwJPAGP60Ajn6Z0nDg2c7Xnpbw6G7df9FxYF/zwKiRCoArHwAfegAhn4X/5vE+z/wfh1+9T+v/Yr/FzyuhI6+0fsuQCO/00PDyU5+IbNEhH83v0ewwBr7/HtPgC5+rHYChG97gfxjhRf6roGUgkW/bn6sQozAR3xyfryCW0Cg+qe/hYPrOuj7+cRkfV563USIQk+8nrz6wG3/Z4KawFe6bPuT+syAAMM/f8y+e79GQWZArDuGwGIAMX6y/GQAU4Igf7d9wD6Av3IE+/+hfMbAIIQ5/g957MSKhce+tEAQQu9FHr41foSG0gWSfEI85kTAwAk7cMAjQyz/WgJogUAA4n93hPLCN394gf7FvcVqPlaCU4XPf/a+B/5w/49C4T0svlTCRsUrAEg6TACRBJ9AQP9WwF2BjgB1foe+n0IUgk+9b70OgcP9SbqZQUvErD7Hf2BBFntRebP95YUtAKyBKgCxfTo73EAqgxI/p8EggXf/bHrT/OHAzzytfSyFUwDlvMJ7+kSFv/r4rMBcRSC5RXrTwyG+absHAWuCFnp9PImHdj3UfsjA9j6HwcFA2TxUAFGBxAFnAyjEOsEFPIt7v4JYP1m+5AQyvmSBjvzewEVCfHy1PKz9vIC8gcC/lkCTRE5A90BhwNzEBQFVgXyEn4PRAYHAQ0HXPt78MUA7xX8/QflSf3iB28McfydAaD8zwJoBQALmQ/FCb/nl/6J+9f5jPpG+6UDJPuE/esE+wk9++b59ADvBMr+mPu29ZH/igKu5VsGKh5y79rp6AsCBIzzpP3n9av+j/Jp2wgKvQG83oT5IRZsBmPXt/YoDLHwOwaC/xMGpQA53eLyDAnZB1z5QQLK95sCbOvKAggPgfkcBdcEW/2c97H6zfZO7sUK7Ony3r7yrQaYBtHpngDaBqkIuvnI+7AIBPmNEAMYewiO/4Ll0/j4Hk0OxORk/cIGfPcY+CQEmw/g998GjPjbDCkTOATG/msBZAMgA2X9aRpiCn3z5/3cCFH/5AVt/uX8av7+/hAC1QuYC/7qjAOaI4UZuwCq7hf/H/KJ8aACXAXF95D4cgkKCD8OFgO4DYkQ/gwRBBIDnByRADn/IQRa7+0C9f2m8T0DQfdz/SYFbhVm8u/y6QalBcDjcveL9Lf28wGPDF78BveZ/nQWXQPx/AoDxgSh/gkLWwFl6Sz74/n+9+/7QgSeBZz5h/Pd/zwCzPA698MbjwxP3I7lS/tLAoTzl/ZaDiIDDuMQAvYUrA1X/hPjze+9AS8DKQQfAR4A8whIBeYELfmw+KH0yv4xFYUgS/G0+mERKAwdBvMGrwRJATn+6QZCCukDdAOnA4IGePtcApwG0wHt/iHy3PkQDsr/IQLE9Zzy1QR69ggNmheEBDwFGgdjAKkU2ACE7OP0tghm9EAGKRUpAsX0a/mzBkANrukO+MkgaBXGBJH4xvPn+rj4NP969gr2pe0h5r3ujgt3BfABJwpB9/T+pvFa/jn/k/vv+WoMcwFp443v5vjECLj7pQUeB+ve0e6n/yTtoS6v9Jj1S/FQ5gch1b0mFkvvpgE2D7vaMyhW6yHyBgra5HX42uWaHuT6yPZGAogA5fkv3ar/Zwa87OvzaBFf+FHxTwP/7kcI8xJx/Lv/svw7+P/zC/4iEOoFnPJV95X2lPow6zgDEAsSBSkBHQ2ECLrsiutJ/RoThP/u7kYJ/gtLByb+0QewEhr5EO87/FkTGRQQABb/XAfNCUn5rgNxIH76YPyZE6wP3f+z9p4C1BOJC/36BxWO7orw9g5uAx0OTRPeEWgOIvRW/98BLfqh8Rr7YxQI92Hq9QQLBEgC4wBKATAYsfWd8wAXZwCg96QDNwJ57qX5PgNmCWMJdwRm9Ff3YgZBAO/mQPrqBVcT2/XZ8IT9s/OD/NX7iPv3CzzrpvQi/dP9ofEb8xoGmAPt9Bbdxv3X+8zyRvKjCsP7oOvV/VYD5Ag+9Un4Ef8z/ij/cvLt8ogAuvmw73sBHxhd+DX0JQFhC2T7b+kdBBQPawfz/y/4S/xj/NTvtPzbEUQVke6ZDKESY/mY9qMQBRdQ9/b83RLMAMzyYAE0+mj66foNETz5l/vIAPMKLfJ/BHn/2e9oBacINRfo5k0O4hiM+MoEywhJAcTzmgm4/3Plegtw9FDoDOeiD6APZvSU9I8OqgP173kRixfI/JL3LwfyDR/yqAC9BTAG1fvm8agFMvfs+JD5EQ29Cu/3Ffyj7dH3QwyO9bECFfxj+Rf+zPLQDcb7lfgC+5ACjfmY+00MSwAd+w4J3gI67yrs4f5SBHgNPRSmBFf3Iufe/pEDkfXH5v/66wR+AlwFCfuo9OH+ng4j+mUAn/toBAMC8vkdAa3+IgGxBcwMQQXdABESEgw78fAG+yDXBLn5i/ZgDLUIR+cO8vgU1RWG4Dnw2gH1A5v3ivII/zEQMP786JEUJgUB9dABMQU/Cxf0AwcrGND/LPFQDM0kXfpM/3UHAAP1AZDs7wKZFh7+7vbNAV4DNQHsCHQKPvIB8GX8zA9HAzoQfAmnA7X2UA7s/snpyfuVBHsSNf5u9KUR6PJd6v4T+gXk/2nsvPKFChUWvfY+ABb9uQDxB2jeE+xIBJ8GgOs5D8UPA/14+D/4TgkaBM/6H+hl/DAAawfx+bPntv5DClPxN/xC+g7t6end+BsPzf639IUF+//YABIDb/8m9Pn8qvUWBW8Fuvty+eAJPPJR8xQehQXt+6b2SQOyBgoSugZb/UQBXw4H//IG///iCCkGowX183EDcgoF5TYsFPKf4DQv7uxg4fgU1goD07ElDyLu3acSACXU9IECvxnKD3T8thQN6arpwgyCC+b+O/zjE+QLfPtJ71j0OwUe/83oyRAJAgD9qepBC/kW/vSl8o0nCff46wYWnhhsCEL/CA3dEpkUad5e/CUSjfcEAqoHmBeG/X3ndvFwDan2mf8/C8/tmO7l/ozxRw3MCFX5qeoe/twY1fTj9K4Fmgmg9TwAzAKR/VH1VQenAZQCsfPW6Wf9QAOY8JUCiRLYANDjFfFKDdgAg+o7C+wCmPCI9xENUgDz+i4Eywgo/OD+JPEKCpkYtftyAO3xFQAO9gsM+/pG/KwHf/2iAFz3Lf+ZFCQEkvf3+0Md0+z89OEE4A+SEPABMfMzEOgRqPnr8y4B3hPA/53xOhdDFmDzdPWFCggD2gTq+u4AAxbZB4X/ARM8BBr8Fv8WCGMMle8j+J0AlQ4p+7318BDgCWT0ePgQC+QKe/ebA4MOA/VJBo8KuwNKA/UQQfxC8y770Qi56Gf2EALMAP7vvPcuCDHwYOyYBT0GTevkAZ8GW/WHAIjyePFxCKv9S/Ey/AX7qfGi9lgB5/Ue64vWO9NuGRgZWgIdDXvy39+iD40M+wknBu72wQL0BDwCLgRKB2r6Pgi5CaELVOJsA+cgswZA9b73gRPP+TLrbfTi/aEQuv919M79Gf8sCsQDuh5hE0oMJwZVEF3/JQaM/OH7IQAQBw3/agfIAnsKTN/4/WcFIxMU+JEMrxpIBD4CYgtcEe8CrQQM/Sv+PgAO79UBkwauDTEBDf9L+ebxhP28DIkIZfVxC6oPiPXB8c8Alfjz8ZD9z/4Q9Pb3PQQ79j3xyBAiC0IEzgDa+qfzeva19IkZ6Qic4wH5FQfb/rX7O/xBBBsIeP+67vkEbQkK/Gb5TP2l/g4ET/iC+lcO7wcT9ofwUvePByj+TfkL+ZMDrfS89kn93f9L9Lztfv+lAuT9+PVMCjUMTvTy7KP5yQ2MAbD42vj8C5/zDfCjEIoRHvNr/noTZwUPDR74xwC6/7EMrwXV/SnvJ+wQAOUUhwVV9B/xZQ0mDGL75vixCKMFqfYa72oNwhFa+LT1ehegACHoTPvdFzUMogjHD/MSsPSC56cDOiQmDJDvjfYREBUAuuzhBv4JYPMiC7cYsQdC9YcAyhjgBw7+pxQ5BXrvKPxBBCMUQwz2AFLyZvvLDT348Ph8EC3j2dXV55QKvt66CXXx+Ono/oP6l+8i7OMAiu1kEPP9LPOb8NP4CO6UDJgIYfFs7lMGwe3V7DP2jhW//ebxIuLr+fgAaPJRBoL/QPxb/Gz9jRBZDhv1r+leDzMBgeaV87AQyv9h/BcEugjF9cX3swUtAkoD+vF19OwMYRMj8mb52hD4/W72r/xkFwMKS/TQDeYZRg6j9GvyihOHERT80AHxE3j/X/0h/pYU0g6e6nX7MyQrFSbeegQXD731Kv1SE7kK7fcxCjkMBgnDDBP+LPVTA7kaGgnD9qfztAJcDlwTgRCDEzf5zfzJC6sSJ/rd9egMqQHG8SgArAg1/qzsOgx5CbTwbuJgBYYVaAyEBgL92goA/ZrsCfblCm/4G/FF+gMFp/jm8aUDMBGeBwn22+iM82b5jP8a+Rr0ngCsBS/uhQV/BFjufO2j+90K5vi4+HsBzfSXB6gTUQiK9ybwlf16Btf9x/exEeDw0ARS/qjwogCI8iII6QB8AMP8Je4I/xMLrg+uDevzj/o0CIkGx/fMAoEGeQmA/CQJBwnK+h/7AgNsC90ARPi1+wzzFQaIE7T+7POtANgK9P5z+KwKmAXIBjTy+gOABRv4KAdaB2jwlxATE430rvqtBlgNGuaPDMwNlfHsKWjSnRATReHoQwAcO1vm489SM1cM+OtNE1D5C/kNGIMAw+tnC5T1qAQTEwrxqf2s7qDyafRu//L+cvcRI6f4cuNN+U4N4wDc7I38RRcP9xcA0vln9RIFfhRdAe30ePri9asBqBMH/43wd/BV8Sv2mwAA+/oB7vH04QgHzAjg/5Hu1fYzELUE3eeX8pEIAfni7jX3JAR2/Yj0+/yd+P4L+AHd9Q8GGBJm+6LmGQJfCxP5VfmHBQoGcfUK/e0BXw0p740MRhobD4kEEAn2Dxr8fN4N+RwduwjJ7o3ozukl+tIJxyCcF0ADuPo5/lcOOQJaATwKZPtl9acFMBMDDz8CKPwjB/kOPvyt9Icedv8K+nEGDAuzC/j3hO/vDJgFUu0O9gIBOQwd+3PzPPnR/4frgOSFE4ELxOwkAqkEfw3T/U/9JRlA+lf1KgD/+KH7w+jQAUUBKgNU/IME5QC895f0agJADDLr7fkM+3YAGhOP8OP0wwCo9vHu3QGJC838y/TP/FMBvPle8lD5xQOZBRX7PONj+j8C3f1s/60HsgdxBafpTPok/tD5LBClB9PwSfO0/KIB5e8wDJv8ug/i85T1cw2W8mv5QRhb/ejypv0DBennLPN1DTQCXRLS8nvkZhGpBoP0Qvp3AsT2bhCV+erwq/0hGloGbfAv/2MAYfkQ8rALygpZzoXoZhPoFynorvv09N8QLROKAGAAjwAcE+AWcQFV9GL2MgXaAcoJlP5XAtj8avPa/Sb8vw39AuLrSfQ0CN8ITAaDCSkGWPaM7pgG2QUj7iUDjheE+VHzHwGmEEbyNwVyFaIFIfdDDzUViOts9XIKdP+g4dPsGgLMDybhpu1W7i0A3fzg5iQVuABJ1i3tWP+dDQ/19vAOC2YCN+237/gBOvuD/JzvB/+eEzPg6d9zCLgZqvWt8R8HxQIi+0MKvAZUCA31M++5GGgPzQJL9DMGWRTU8F3xj/8v+tX4OBkFIAfuTfwZDOD89PvWGEAczAMf9BkDAQ+QCT0Bb/9OBlL8pPgZCLQH2AFJFdYIPxOHD+D8rwIvA6MpDQKzFAoAuvm78BsPhQiRFFz2lO2YFIECG+nbCSMFqB0X8IsNTQImB2bxL+IwEbUEA/iP8sAH3QMD854AqAcd+UDspvscAM3xxPjsAmv0GPN6BLYNsAOK6OcAKA6M9U3ypPjS+yr8dvrqGEr4APjx9W36Jf9mBpXx6O3B57wJ8QMv/S0HGwa59S3+5//w/z8Lpv74AHsIFfnd56PyFRUQAtsJtgrY1uAg+gtw1FIpVwRC8UH2vv6mCUPuZCsa7WHgoigtD4TFqv75KUH7EOpnEgcVQeES/0YEEvcBCvkVMQM5BUQGLAhE+37+bA0/Cw8McwZrAfgI1QPsA2DsuBQMFNz+ze0V+1EGhBTxA+vs4AWEDXf7O+arC7n+gwdrF3wE0PQOBN4JH/mDBXj9j/qN8O4Aowkk/kgATgbr/aYaBf0gA5D5h/hQ910UkwoY9DT46AfOCLzxtQF9+0X36fuZ+Vj9rgPW9aT6pO+cBPL7lPK+Bb0GX/5DCZX9mAYuCdL0AQLY+Er1X/bv8skF9fiU9VwE9Akn87Ty8hO+GBr03fHL8UsGh/1g9/QLnxJm+UTvlgd7BSj+bvu+DNUPx+TP/mEODPbX9LUISxMYARPtbA36EPL7JAd6EAYK/POl/lwMagiuCjD+VP5EAdf9rQYW8277UQ+tHCj/DwBeA+XpIvv/Ei0bzRxI+fkOYg8RC///S/4v/2H5kvu1CCgMgu7LAbMWswUmDAjwjgrYDDP7oeqr8z/5JBoHDW/6HvwsD6b5VfeNDEPysPvUBRf5ZvLFA/3yXwJaEqn6//vy7OvxneV9/XsNNOfm8QILkhG250za9QQvDTnpHvDkDSQNQuWg+t0Dx/ii+ssEwAD/9uH+8gFXECUDVv8V7Yn4iBCbAHsF8yWp/R3g7v/3C3YFcQt9Bbj71Pzk9T/2lAJHBtsF9gLYAwoPvQpn9XoCuhzH/ITzM/P/5A8KYP81+Rb2dACKB5YbUhaqDJ4JSxoJDIsB5RTnBfL9IQXaA+oJLQ7oCy8KPO9O/k4TswHR+qoTBPlX8g0FIhAE/sX/bCNz80fvJwgb+0IGDBc+E7T5af2/EJ0BSABsBhcHtAfABbMKKgOQAqgAyAKhC272bPHk+JcMlfmx/Qj8Hwn5+XUBWAlWA7AJYwqlAM4I9Pub+mn5kgsKAAfp6PYC+4cFmPPV+ED1AvhZ900H9vmg9671QwOXBkz/AQBV/sLuUPEVB7YIae4+BzAEOf+6+4X65/ru/VYISgMzDUINo+VD5Hr7oAcj7ULuXBNxA5XxG/YJCz7/4e/dErIR9/Mo9w79gfu6CVgIQvhmAo/mdxav+bT6pR7H9eTpmQ8oEy77TPAl/2UIqQNV8fULQRat79LvOB95D0Hvov8CFMv76P5IBGcIO/bj65wJuh7++bnwHQbBFTcKsP6+CS8IvOVfEn0XCQFa76wHXf/r5/7+RhDmBGECsPMNBaAHpfIe/+IMWgnKB93um/W3+5f7p/dR9cgRev5/2Vn1SRXLCPjsmPHsFk31/Pa+/Kr5LvYcBOoMFAFe9O4A9glLDrT+x/xnAUwBUgXO/RvucgI39+zyiQZXBf3rzvF0BzIKhPgy964Kf/3x9zn3XQ1h9JXjcw/NC8D1ffg7A30LveZU+HIYu/Jo9G8YOhWR95j2awYDDJv/e/U2AOH7lgWCBiIEBPTR+KYG1BasDP3zyvQ4+aQJMQqqCUcIzPjXAgoFAfwOBLD+qvqdAQAKPBVNCVD8wf5q/zwHkwQP+q7uGgQKKrYAHv6i//IJ3whK+FUB8gTH8zn8tgzD/J3rh/9A/PzxSPJXCjYGqvBj+eIPjxGhAvr6BQUkDef8WPvQAV78Au//6g3/wwkF5MXwWQU8BYIDdQ5QAvL2FAoP/M8CEAUC7sHqx/qW/07zqOu18TMNTgRJ3m8AjRFbBXztrAWCF0z2CvBH//YAhhXeE18XWgEa1fbOLufM9RoYVxEtGJkTNPXn2vDuawKe9LL2gQeHG9rz6O+tE3cMYfeM2lIATxKT+BEDigIPAwb5QAGA900HlvjX9G/8xAro8t8GeQmGBiLz9gkLDijzWAHwDx0GjfuqAh8QSgyB9vj4AhyLHTv/Ev84EHMQHPLs+iEY0O9b8c4ZTAMk/oL2oPddBJIHAAXpErEMDf6q3En2uBmGAmfu0/UYBP0R6OO87KIBVgWu8R3udhF3C8Xemv2fHEr1I+5790AIP/Kv/5z7k/NP/Bn3NAzX+fjduR2V76v0ZfA35F49VDF17z3ervjj60cQLx3HEsbZgt+qAPcTJA139Dn1cgQe7lv8PQG9/+ADtQOA/xL+MfhTBNoEoACG5wEK0/zQBOL4b/XIBKr+y+zdCNwOBATB53UGORNk9k0AAglCCA35RvF6BqwP0vlXENQQwgj29D73ywkADbYCX+we/CvvhgTYG6L4IAbw/Xj6IRVcEzwMI/CDIuMn/fXP8AMRf/Zi7hwTyQPDEcgH/PbH7KXoowKYC+r+9/gaDu8MqxO9EvMAaC5z+rLbav8KAcAHB+93B60M5QDt8Ubl4gHH8rTwsP20CbgNpeZM9k0KeQq//9sUOwYi84AIygQE9A4BEf2U9Pn0ef4f/cjvffWnDQkE/AOg9e35qRJc5eDyEP7p7rP2tRl5/lMmDTa80QbBL+bu+B/vnwSC8I/hhvsM8wLuOu2B/hIJJuXk8ycIdv9Z89MARhy8/X/0zwfPIt0ISwBh980EnBAZ+Bn/f/ZY9HQOMg/m+7Tm1fupFzcFEgfz+Jb3WQgaB6n1CvjeGNIB7/ycBCj+xfwo+Sf7dPVy9Ar8GvF9BXYldgq4CPj8xQlqDDUHUPn7AMkV0Qcj+mwGmw3TAIjwZPSjB6r6K/BH4mXuVfSdAP8KCQtYEpEF2e0Y7IroRguB+f4EYBQhDjoCsPM2+CsEvATx82v2AhKB+df9NwQCBEMDAvt57WkDHgJU9xT6of3P9w72ee5D/vYCwvPa5dILfgf+49n7zA35+98EsfwkBtgBwdma9moZFvrw7ET7SAc4+LruvQ+ZEW7vU+oxA9YO8vHC5NQABfuMBkT9o/zsBTry0wHLBoAScA2g823+kwaGCaHoU++1EpT8ZAbCCurfR+kX/KQS+gpN/9n0RO9N8Hb8ZBJbDVLyUvBdAQAK9AfU+aL92A2KE1EFuPFACgQSqPxqA7kFhgzn/O39fv9LAkQOOQJQ8kYVAxG2/IX4ORmgB/rxcQP6G1gGNepBB5f+swXI9uH4M/sRAYECjAZEBt0B5PYFATUEsw0wDNAQFQIZAD7zcwH+/gLxGP3oAab4OvGJAdz2nPnxCEUA/PYB+kD8Efq//bgFngJc74bxLwBv9YzdTPUqDIsGO/jY+IMOlgGt6vzuRAYj+I/tze21BF32NA9g/GLkl/xTErYDhQKpC0j32d+oB9cGHwTG84wDXxdfBIYELAGu9iH+cA0qCCL4yQjXCQ72Bf+RDLMFjgTw9In2/QhhE6773/YYAbP2D/gM7ETsDP+D+Xsb9Tll55ACSQRw+YwSFSbWCFHiyiV+IlL5CwJjAr0NmfCA7hUVQg+s+PP1ogvCEjENwPKNBFwVwPI//VnzivKEDjsF+/rdFBkRV/BE9rENQff17r4Hgxb6+73fd/v6FMz8tvPDB7IJ8/rc/T0JmAGJ9ILrkgQf8trvSvXp+5z2EPKD8JEPIwpR7CMDSgDP9fzxLPj+AekBQfmMA8sBnfqZ72z6/fUfCXPxjwIvBf34vO+vACEHZAEB8LQOUwRL9/f2ef9tBFcCvw2oDqLs0yjUFY3yJ/O7/hYFogN6AvMKtPq/AfgBXfuP/1QA0QVc+74EjPgQDkIDC/W8/hL5QAHRBeoMnvDj6igFqQOb8/P9gAM0/Yn7qyvs5OvzTCV1B4sYnutWCwIGrCPhC23tvReK9SHyWhVlDQUGEvSeApPzUvQ4BmsHvgdY+hQF9vox9QoFJfM89Cf9/geX+3/5EgUi+HwCYgW+AFLyg+q4/T4KowWK63n6FQSi5NzolghmB1zqgukbBfr/Ffc7/WH8APDz/Xvzk/bJ/csJJgdI/rDz9vUg+Dz5U/E2+O78yPbb/J36pATXBjr30/jkAcsGaPq3+dsDiAeSBO397PJJCYX6RwYGAiL9h+b+AdEKdwx5CbT5exYNDnTrr/q0D50DAPbnCMr/IwDQ/738UAk5BYj3aOjV+gIOHv9YA+IBWQDXAboQpRFK+OgEng/qBOL41vwv/TzwNvA1EQMAAPupBpH90/YsCkoUMw5E/qP8SQg5DQYC2BG1BFf1EQuYC6kD2vTc8p4A+QDL+eMCDAP/+OP5eg43BYr8SPQg9QfvmfAYBpMBOAMw+y8P8Q5a9C36ZPv7/2wARvmH/W3+gwRsAO/1AwjW6/X9TBQWAYfpAfd6+UcB7P+pBiTxz/X4ARb13/tyAPrs+voq/3Ty4/fq7xoXNO4V7YUNxAP08ob7zxpjALftRgCY9tj3w/dPAGL7zPjoBN31s/rq9+4AVQs4++T9BAld+Nf5G/8cD4gCIvQFBlz5IfzxCtIOkQEF/dD/jwXN/JgNwf6SB1UHH/nr7xD+/xBZB+cNwQaV8SkVLwrgB48H3RFzBDDxkPaw/aT7vAzC/RAHxAjeABkCPvdm+zMBzxEQ/ub9I/Ph8S8dsQiUAoQNbPZyBRoRv/MD37cVqioG+lDA0f4zDSjaxAswIcP3zPr9+r4OIeti/fABuA1oAk/8pARtBZEDKvds9YUFCANF+G36swXEAcT/pvTR97L7v/Yp7/0H/wD++1jxiPky9ar5jv/bCWL/d+3t6lIEtgJj/Azx4ADsAjv9iOi49mv59f8DCIkIyASU9frqcvnzDXkPHQFD7nIE/A4j+MwACAzMCMn4z+iG/koPff989ioAUgKjArIQkgk+A8wD5/zM91MGZwo78/77cwZhENH80AZuA/YFngCJ+0wIFPyrC9cCVhJgBXjsKgZEAWEEbfwqF6wi4vgN7v8WcwE474MFOxJkAz3qHQRSJBIHm/9r+8oMXQuF6X7pRvdVAbP/xvbtBiILpwg89Rzcrv3iCAr/s//S/YLzD//pC0YHj/8AAAMCRvlW/+v/7fu59DX5HgM0Cvb8aAVnA1P5rv/R8ugQrf4P5tAGlAd99nMB7/QC8xDrE/ua9PcSsP0rAg0OI/+tACL76ASI+yv0HRSPDx0OUPlV733/sfDp/fgN+ApbDFD5+vamE7b4AvauEHsBrPCU9JgIIOkzBLsUj/zW/Br5DP9ND58JwApEBKj0mQfaCh3nIwKmIegCM+7bDhIF1e4yAuAHIQxR8ZkCPAlxCEX/tBhwDcL1agMeDVENiPms8Cf75w09/5/lYArlDCH+l/KZ9YcGbhIY+4vqZQ1IBEjosvxHFGj+k+xJ7HcR/vzT6fL2DfnnAusJCArk+Bz6FAB6DUf/SApC5/z7uQLV9Dfrld6Q7f/piOPSBDUJFgUx/e4K3Pkd81733Q2l/1jlpPMLBBL/K/ApBxwOJfVA9UIDovZh63j6AAsFF2r+4fHg+gYFawTv+2cBohGQ+y/uBQBrBmsGJAdUB7b3qwQDB84BswZxCxMIGv6W9/8FRxAQ+7b/dAxWCBf69grLC+n1ZPbb/0oUzv2r/e4UKv8h9YgKAwWR8e/1QQTRD/729govDFL+vfPJ/ecNigMR/UUHdgFhDvkCV/wrAqgM3RLk+z/4GQdeDEoKXhleCkv2kfNF/HQC/w+PE+nx2fTmCBf1NfzrGq76FuwiDZIAufmpCmn9kvt5/9UEFfYN87/4C/4J+WLsV/mB+48CbQXeBH8Gp/0a93IA8wWq8oHl1v5kBAr2vvws//HfMQGCGWP3KveZExj7FPCiC4L63+kl+PwIyP6a+AX7QQXo7+/wqwbVBCP6YQxzCfoLBwEV/CYR/gb/Bf0D5wrN8qoAEATy+G4BkxUFAxzywv9ICdv8IwBUCCUASvxQ9CEMqwbLBnEXTRuRAH3uBwF4+5j/Swz0DOIA5QRZ8uj2DQyO6usOXBjzA3wGcQHABcz63wQHFEgJoftl+A3/NQxL7+MkXgrN9/ntYvun86n6ifvvAnkHmP3t+4vhI/+8GCkJhe0YCHATAOTB/v8gAvPv8jz+qAtFB1HxcujN/PoLBPmk83wGtAW33gvmaPTMAKjhn+OUCvMD6O0D7oIA0fdE/o4ErfkK7v/9Vvri/P72Kvxs/0kCi/gO/eELtfYo/EIDugM+AMn9YwLs96oDxgT8/vz+Z/9t+vX9gP/1C/D22fW5BJ4EjgQeCiMAm/iDCV0EyABq/m/1a/4mEXUCc+rQAdwSt+Cd89gFcBW4Ec3qFPfoEy77yglbBngPovw3+pgL6AS9CHb9Ae0cCdANXvoI8mr/EwSU/OcC1ha4CpABkvQiBNgG7ABC+wn7kfU5FpUGCufg7lMSSgc78S0DQBkT5VjdKRWRG5jf8ugkEOX6RuhZ9ekQ3wgO7xnpEwnOAIPa7+oXBUwe0NlE3FUO4AK0+Q/6bQAE97PgwPw7BqUFYO6S4+ryGQzFAMbnTPhv/xLuCwKt93H6o/RP/T8GmPsu7eEBLANXBM/6hQIgAO/+VPgzCzoauAC/708IHxOI9SYFigWWATwClPWuFdgMv/HeAuYSxAFYA2v0vBB19o4EGvurDvEMUfY59TL+ZA6N+yv2gBiJEAn5WP/8C8UHXfbfCqsIv/gN9d39A/eZ8G0C6wibA7ADqQqg/sgARBWB/qf99QvfFYj57gqDGo/6OO/Z9mcNkwZ47279/hA79r/n3QXxGHQH6vTrA5wRbPjr8QsVEAAJ+QkC7gac7Mn9ZwWo98T1ifhH/Yjt2PV2DXgS3AJo+k4EfATK+e39BwhwGHQMugPPCZ8DoAjr/0zfmwJWFq/eLP2CD5H/3fdg+B8CDguk+xHumBlQ90P3uAYc/lrxJu8DA+8FguA7Bi0PYgXo6PXuZgR6FTX0SQYfDl8LH97Y+tsOufLr7/UKLgRaDQjtR/3xDrcGjQS7E2EG3gWtH+8fVxBgEbUXpf/a+8EXehJdA7MAWfqGDtD4L+L9/5sMSQEn/RsBQvq8CbMFSvfYCpUVA/Wa9rAEahNe/4rukgcgDcv4sf9T+L4AihRzCU7s5Q8oBcnxivojD/8bLv7r+NgDJQUe/OYOSfnO9pMIhvSY/QcUPvmP+l8CdPym/cH7mQq1Ggj+n/9e/8PrxQfCAyHqDgcP82ToEfbXDVrlyO0uCH/7jPF26TIEngSODaQGXwJ//c/oH+zO+9ALRgL986jwofdrBG74HfExBZYUOvYi+oARuwpYDf36wQbsDMEB6vUP/TcEZQV18Xb/QhVI/hHpW/P6EJ4OePVL/loQPP5S6xYgjC+U9P7oshw1FebvuvbRD9wNTAYZ+EwFrPzl+nT54wCdHhUJLvOc98T7YyRfAuv2MQoaEUcBOOMmBAAGUtSQ53whxwfJ3/72+gZODprxAAjaEsf9yvo9+HcMIwh1/sfunwSQECb1VukG+aUI7fcFBQUI7vDp8W3tIhA6CSv+Jwu//QH8sQJ0BwkEJv4a/MYIgftp+YD3G/vg/rr4JQb0G+P+YPPQBj0NZfx7+EX/re3e/M76xP3w9lTu//Di+g==\" type=\"audio/wav\" />\n",
       "                    Your browser does not support the audio element.\n",
       "                </audio>\n",
       "              "
      ],
      "text/plain": [
       "<IPython.lib.display.Audio object>"
      ]
     },
     "execution_count": 2,
     "metadata": {},
     "output_type": "execute_result"
    }
   ],
   "source": [
    "#Extra 5000 noise samples as silence class\n",
    "\n",
    "X_n = pickle.load( open( \"intermediate_pickles/X_noise_shuffled.pkl\", \"rb\" ) )\n",
    "Y_n = pickle.load( open( \"intermediate_pickles/Y_noise_shuffled.pkl\", \"rb\" ) )\n",
    "\n",
    "rand = np.random.permutation(X_n.shape[0])\n",
    "X_silence_noised = X_n[rand[0:5000]]\n",
    "Y_silence_noised = Y_n[rand[0:5000]]\n",
    "np.save('data/X_silence_noised.npy',X_silence_noised)\n",
    "np.save('data/Y_silence_noised.npy',Y_silence_noised)\n",
    "\n",
    "ipd.Audio(X_n[0],rate=16000)"
   ]
  },
  {
   "cell_type": "code",
   "execution_count": 8,
   "metadata": {},
   "outputs": [],
   "source": []
  },
  {
   "cell_type": "code",
   "execution_count": null,
   "metadata": {
    "collapsed": true
   },
   "outputs": [],
   "source": []
  }
 ],
 "metadata": {
  "kernelspec": {
   "display_name": "Python 3",
   "language": "python",
   "name": "python3"
  },
  "language_info": {
   "codemirror_mode": {
    "name": "ipython",
    "version": 3
   },
   "file_extension": ".py",
   "mimetype": "text/x-python",
   "name": "python",
   "nbconvert_exporter": "python",
   "pygments_lexer": "ipython3",
   "version": "3.6.3"
  }
 },
 "nbformat": 4,
 "nbformat_minor": 2
}
